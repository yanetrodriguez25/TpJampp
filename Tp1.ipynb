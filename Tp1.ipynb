{
 "cells": [
  {
   "cell_type": "code",
   "execution_count": 10,
   "metadata": {},
   "outputs": [],
   "source": [
    "import pandas as pd \n",
    "import numpy as np \n",
    "import matplotlib.pyplot as plt\n",
    "import seaborn as sns"
   ]
  },
  {
   "cell_type": "code",
   "execution_count": 11,
   "metadata": {},
   "outputs": [],
   "source": [
    "# Leyendo Csvs\n",
    "\n",
    "df_clicks= pd.read_csv('clicks.csv'); \n",
    "df_events= pd.read_csv('events.csv',low_memory=False); \n",
    "df_installs= pd.read_csv('installs.csv'); \n",
    "df_auctions= pd.read_csv('auctions.csv'); "
   ]
  },
  {
   "cell_type": "code",
   "execution_count": 13,
   "metadata": {},
   "outputs": [
    {
     "data": {
      "text/html": [
       "<div>\n",
       "<style scoped>\n",
       "    .dataframe tbody tr th:only-of-type {\n",
       "        vertical-align: middle;\n",
       "    }\n",
       "\n",
       "    .dataframe tbody tr th {\n",
       "        vertical-align: top;\n",
       "    }\n",
       "\n",
       "    .dataframe thead th {\n",
       "        text-align: right;\n",
       "    }\n",
       "</style>\n",
       "<table border=\"1\" class=\"dataframe\">\n",
       "  <thead>\n",
       "    <tr style=\"text-align: right;\">\n",
       "      <th></th>\n",
       "      <th>advertiser_id</th>\n",
       "      <th>action_id</th>\n",
       "      <th>source_id</th>\n",
       "      <th>created</th>\n",
       "      <th>country_code</th>\n",
       "      <th>latitude</th>\n",
       "      <th>longitude</th>\n",
       "      <th>wifi_connection</th>\n",
       "      <th>carrier_id</th>\n",
       "      <th>trans_id</th>\n",
       "      <th>os_minor</th>\n",
       "      <th>agent_device</th>\n",
       "      <th>os_major</th>\n",
       "      <th>specs_brand</th>\n",
       "      <th>brand</th>\n",
       "      <th>timeToClick</th>\n",
       "      <th>touchX</th>\n",
       "      <th>touchY</th>\n",
       "      <th>ref_type</th>\n",
       "      <th>ref_hash</th>\n",
       "    </tr>\n",
       "  </thead>\n",
       "  <tbody>\n",
       "    <tr>\n",
       "      <th>0</th>\n",
       "      <td>2</td>\n",
       "      <td>NaN</td>\n",
       "      <td>4</td>\n",
       "      <td>2019-03-06T22:42:12.755Z</td>\n",
       "      <td>6333597102633388268</td>\n",
       "      <td>1.205689</td>\n",
       "      <td>1.070234</td>\n",
       "      <td>False</td>\n",
       "      <td>1.0</td>\n",
       "      <td>iGgClCM9exiHF4K31g94XmvHEBSLKIY</td>\n",
       "      <td>6.768137e+18</td>\n",
       "      <td>NaN</td>\n",
       "      <td>3.072849e+18</td>\n",
       "      <td>2733035977666442898</td>\n",
       "      <td>NaN</td>\n",
       "      <td>1.563</td>\n",
       "      <td>0.905</td>\n",
       "      <td>0.078</td>\n",
       "      <td>1891515180541284343</td>\n",
       "      <td>1904083516767779093</td>\n",
       "    </tr>\n",
       "    <tr>\n",
       "      <th>1</th>\n",
       "      <td>0</td>\n",
       "      <td>NaN</td>\n",
       "      <td>0</td>\n",
       "      <td>2019-03-08T10:24:30.641Z</td>\n",
       "      <td>6333597102633388268</td>\n",
       "      <td>1.218924</td>\n",
       "      <td>1.071209</td>\n",
       "      <td>False</td>\n",
       "      <td>4.0</td>\n",
       "      <td>MMHTOJ6qKAOeIH_Eywh1KIcCaxtO9oM</td>\n",
       "      <td>3.025219e+18</td>\n",
       "      <td>NaN</td>\n",
       "      <td>1.774085e+18</td>\n",
       "      <td>392184377613098015</td>\n",
       "      <td>NaN</td>\n",
       "      <td>NaN</td>\n",
       "      <td>NaN</td>\n",
       "      <td>NaN</td>\n",
       "      <td>1891515180541284343</td>\n",
       "      <td>3086509764961796666</td>\n",
       "    </tr>\n",
       "    <tr>\n",
       "      <th>2</th>\n",
       "      <td>0</td>\n",
       "      <td>NaN</td>\n",
       "      <td>0</td>\n",
       "      <td>2019-03-08T15:24:16.069Z</td>\n",
       "      <td>6333597102633388268</td>\n",
       "      <td>1.205689</td>\n",
       "      <td>1.070234</td>\n",
       "      <td>False</td>\n",
       "      <td>6.0</td>\n",
       "      <td>vIrEIdf9izUaWdAri6Ezk7T3nHFvNQU</td>\n",
       "      <td>5.975656e+18</td>\n",
       "      <td>NaN</td>\n",
       "      <td>3.072849e+18</td>\n",
       "      <td>392184377613098015</td>\n",
       "      <td>NaN</td>\n",
       "      <td>NaN</td>\n",
       "      <td>0.946</td>\n",
       "      <td>0.473</td>\n",
       "      <td>1891515180541284343</td>\n",
       "      <td>6958163894863846647</td>\n",
       "    </tr>\n",
       "  </tbody>\n",
       "</table>\n",
       "</div>"
      ],
      "text/plain": [
       "   advertiser_id  action_id  source_id                   created  \\\n",
       "0              2        NaN          4  2019-03-06T22:42:12.755Z   \n",
       "1              0        NaN          0  2019-03-08T10:24:30.641Z   \n",
       "2              0        NaN          0  2019-03-08T15:24:16.069Z   \n",
       "\n",
       "          country_code  latitude  longitude  wifi_connection  carrier_id  \\\n",
       "0  6333597102633388268  1.205689   1.070234            False         1.0   \n",
       "1  6333597102633388268  1.218924   1.071209            False         4.0   \n",
       "2  6333597102633388268  1.205689   1.070234            False         6.0   \n",
       "\n",
       "                          trans_id      os_minor  agent_device      os_major  \\\n",
       "0  iGgClCM9exiHF4K31g94XmvHEBSLKIY  6.768137e+18           NaN  3.072849e+18   \n",
       "1  MMHTOJ6qKAOeIH_Eywh1KIcCaxtO9oM  3.025219e+18           NaN  1.774085e+18   \n",
       "2  vIrEIdf9izUaWdAri6Ezk7T3nHFvNQU  5.975656e+18           NaN  3.072849e+18   \n",
       "\n",
       "           specs_brand  brand  timeToClick  touchX  touchY  \\\n",
       "0  2733035977666442898    NaN        1.563   0.905   0.078   \n",
       "1   392184377613098015    NaN          NaN     NaN     NaN   \n",
       "2   392184377613098015    NaN          NaN   0.946   0.473   \n",
       "\n",
       "              ref_type             ref_hash  \n",
       "0  1891515180541284343  1904083516767779093  \n",
       "1  1891515180541284343  3086509764961796666  \n",
       "2  1891515180541284343  6958163894863846647  "
      ]
     },
     "execution_count": 13,
     "metadata": {},
     "output_type": "execute_result"
    }
   ],
   "source": [
    "#Analizamos la información del archivo Clicks.csv\n",
    "df_clicks.head(3)"
   ]
  },
  {
   "cell_type": "code",
   "execution_count": 39,
   "metadata": {},
   "outputs": [
    {
     "name": "stdout",
     "output_type": "stream",
     "text": [
      "6333597102633388268    26351\n",
      "Name: country_code, dtype: int64\n",
      "False    26351\n",
      "Name: wifi_connection, dtype: int64\n",
      "0\n",
      "0       00:00:01\n",
      "1       00:00:00\n",
      "2       00:00:00\n",
      "3       00:00:19\n",
      "4       00:00:28\n",
      "5       00:00:00\n",
      "6       00:00:00\n",
      "7       00:00:00\n",
      "8       00:00:03\n",
      "9       00:00:01\n",
      "10      00:00:00\n",
      "11      00:00:00\n",
      "12      00:00:11\n",
      "13      00:00:01\n",
      "14      00:01:24\n",
      "15      00:54:47\n",
      "16      00:10:54\n",
      "17      00:00:00\n",
      "18      00:11:17\n",
      "19      00:00:00\n",
      "20      00:00:01\n",
      "21      00:00:01\n",
      "22      00:00:00\n",
      "23      00:00:04\n",
      "24      00:00:00\n",
      "25      00:00:01\n",
      "26      00:00:17\n",
      "27      00:03:00\n",
      "28      00:00:28\n",
      "29      00:00:36\n",
      "          ...   \n",
      "26321   00:00:03\n",
      "26322   00:00:05\n",
      "26323   00:01:11\n",
      "26324   00:00:01\n",
      "26325   00:00:26\n",
      "26326   00:02:15\n",
      "26327   00:01:59\n",
      "26328   00:00:16\n",
      "26329   00:00:04\n",
      "26330   00:00:00\n",
      "26331   00:00:00\n",
      "26332   00:00:07\n",
      "26333   00:00:05\n",
      "26334   00:00:10\n",
      "26335   00:00:00\n",
      "26336   00:00:01\n",
      "26337   00:00:57\n",
      "26338   00:00:02\n",
      "26339   00:00:00\n",
      "26340   00:00:00\n",
      "26341   00:00:03\n",
      "26342   00:00:00\n",
      "26343   00:00:21\n",
      "26344   00:02:25\n",
      "26345   00:00:04\n",
      "26346   00:00:00\n",
      "26347   00:00:00\n",
      "26348   00:00:00\n",
      "26349   00:00:00\n",
      "26350   00:00:04\n",
      "Name: timeToClick, Length: 26351, dtype: timedelta64[ns]\n"
     ]
    }
   ],
   "source": [
    "#Los clicks se realizaron en el mismo país y sin conexión a una red WiFi.\n",
    "\n",
    "print(df_clicks.country_code.value_counts())\n",
    "print(df_clicks.wifi_connection.value_counts())\n",
    "\n",
    "#Observamos que hay varios registros con valores no válidos en el campo \"timeToClick\"\n",
    "print(df_clicks.timeToClick.isnull().sum())\n",
    "\n",
    "#Por lo que consideramos que son errores de la aplicación.\n",
    "#Convertimos el campo timeToClick de float a datetime\n",
    "df_clicks.timeToClick = df_clicks.timeToClick.replace(np.NaN,0)\n",
    "df_clicks.timeToClick = df_clicks.timeToClick.astype('timedelta64[s]')\n",
    "\n",
    "print(df_clicks.timeToClick)"
   ]
  },
  {
   "cell_type": "code",
   "execution_count": 14,
   "metadata": {},
   "outputs": [],
   "source": [
    "#Convertimos el campo de fecha de creación del click en tipo datetime.\n",
    "df_clicks.created = pd.to_datetime(df_clicks.created)"
   ]
  },
  {
   "cell_type": "code",
   "execution_count": 15,
   "metadata": {},
   "outputs": [
    {
     "name": "stdout",
     "output_type": "stream",
     "text": [
      "                        dia  cantidad\n",
      "7 2019-03-05 00:00:00+00:00        31\n",
      "8 2019-03-06 00:00:00+00:00        14\n",
      "5 2019-03-07 00:00:00+00:00      2989\n",
      "6 2019-03-08 00:00:00+00:00      2839\n",
      "4 2019-03-09 00:00:00+00:00      3283\n",
      "2 2019-03-10 00:00:00+00:00      3966\n",
      "1 2019-03-11 00:00:00+00:00      4557\n",
      "0 2019-03-12 00:00:00+00:00      5204\n",
      "3 2019-03-13 00:00:00+00:00      3468\n"
     ]
    },
    {
     "data": {
      "image/png": "[encoded data removed]",
      "text/plain": [
       "<Figure size 432x288 with 1 Axes>"
      ]
     },
     "metadata": {
      "needs_background": "light"
     },
     "output_type": "display_data"
    }
   ],
   "source": [
    "#Obtenemos la cantidad de clicks que se realizaron por día.\n",
    "df_clicks_por_dia = df_clicks.created\\\n",
    "       .dt.floor('d')\\\n",
    "       .value_counts()\\\n",
    "       .rename_axis('dia')\\\n",
    "       .reset_index(name='cantidad')\\\n",
    "       .sort_values(by='dia', ascending=True)\n",
    "\n",
    "print(df_clicks_por_dia)\n",
    "\n",
    "plt.bar(np.arange(len(df_clicks_por_dia)), df_clicks_por_dia.cantidad, align='center', alpha=0.5)\n",
    "plt.xticks(np.arange(len(df_clicks_por_dia)), df_clicks_por_dia.dia.dt.date,rotation=90)\n",
    "plt.ylabel('Clicks')\n",
    "plt.xlabel('Fecha')\n",
    "plt.title('Cantidad de clicks por dia')\n",
    " \n",
    "plt.show()"
   ]
  },
  {
   "cell_type": "code",
   "execution_count": 16,
   "metadata": {},
   "outputs": [
    {
     "data": {
      "text/html": [
       "<div>\n",
       "<style scoped>\n",
       "    .dataframe tbody tr th:only-of-type {\n",
       "        vertical-align: middle;\n",
       "    }\n",
       "\n",
       "    .dataframe tbody tr th {\n",
       "        vertical-align: top;\n",
       "    }\n",
       "\n",
       "    .dataframe thead th {\n",
       "        text-align: right;\n",
       "    }\n",
       "</style>\n",
       "<table border=\"1\" class=\"dataframe\">\n",
       "  <thead>\n",
       "    <tr style=\"text-align: right;\">\n",
       "      <th></th>\n",
       "      <th>date</th>\n",
       "      <th>event_id</th>\n",
       "      <th>ref_type</th>\n",
       "      <th>ref_hash</th>\n",
       "      <th>application_id</th>\n",
       "      <th>attributed</th>\n",
       "      <th>device_countrycode</th>\n",
       "      <th>device_os_version</th>\n",
       "      <th>device_brand</th>\n",
       "      <th>device_model</th>\n",
       "      <th>...</th>\n",
       "      <th>trans_id</th>\n",
       "      <th>user_agent</th>\n",
       "      <th>event_uuid</th>\n",
       "      <th>carrier</th>\n",
       "      <th>kind</th>\n",
       "      <th>device_os</th>\n",
       "      <th>wifi</th>\n",
       "      <th>connection_type</th>\n",
       "      <th>ip_address</th>\n",
       "      <th>device_language</th>\n",
       "    </tr>\n",
       "  </thead>\n",
       "  <tbody>\n",
       "    <tr>\n",
       "      <th>0</th>\n",
       "      <td>2019-03-05 00:09:36.966</td>\n",
       "      <td>0</td>\n",
       "      <td>1891515180541284343</td>\n",
       "      <td>2688759737656491380</td>\n",
       "      <td>38</td>\n",
       "      <td>False</td>\n",
       "      <td>6333597102633388268</td>\n",
       "      <td>5.908703e+17</td>\n",
       "      <td>NaN</td>\n",
       "      <td>5.990117e+18</td>\n",
       "      <td>...</td>\n",
       "      <td>NaN</td>\n",
       "      <td>NaN</td>\n",
       "      <td>a9c0b263-acb2-4577-92c5-cbde5d7a5db1</td>\n",
       "      <td>2.248157e+17</td>\n",
       "      <td>5.516623e+18</td>\n",
       "      <td>7.531669e+18</td>\n",
       "      <td>NaN</td>\n",
       "      <td>Cable/DSL</td>\n",
       "      <td>7858558567428669000</td>\n",
       "      <td>4.077062e+17</td>\n",
       "    </tr>\n",
       "    <tr>\n",
       "      <th>1</th>\n",
       "      <td>2019-03-05 00:09:38.920</td>\n",
       "      <td>1</td>\n",
       "      <td>1891515180541284343</td>\n",
       "      <td>2688759737656491380</td>\n",
       "      <td>38</td>\n",
       "      <td>False</td>\n",
       "      <td>6333597102633388268</td>\n",
       "      <td>5.908703e+17</td>\n",
       "      <td>NaN</td>\n",
       "      <td>5.990117e+18</td>\n",
       "      <td>...</td>\n",
       "      <td>NaN</td>\n",
       "      <td>NaN</td>\n",
       "      <td>1cd98205-0d97-4ec2-a019-667997dbfe7a</td>\n",
       "      <td>2.248157e+17</td>\n",
       "      <td>9.977660e+17</td>\n",
       "      <td>7.531669e+18</td>\n",
       "      <td>NaN</td>\n",
       "      <td>Cable/DSL</td>\n",
       "      <td>7858558567428669000</td>\n",
       "      <td>4.077062e+17</td>\n",
       "    </tr>\n",
       "    <tr>\n",
       "      <th>2</th>\n",
       "      <td>2019-03-05 00:09:26.195</td>\n",
       "      <td>0</td>\n",
       "      <td>1891515180541284343</td>\n",
       "      <td>2688759737656491380</td>\n",
       "      <td>38</td>\n",
       "      <td>False</td>\n",
       "      <td>6333597102633388268</td>\n",
       "      <td>5.908703e+17</td>\n",
       "      <td>NaN</td>\n",
       "      <td>5.990117e+18</td>\n",
       "      <td>...</td>\n",
       "      <td>NaN</td>\n",
       "      <td>NaN</td>\n",
       "      <td>f02e2924-21ae-492b-b625-9021ae0a4eca</td>\n",
       "      <td>2.248157e+17</td>\n",
       "      <td>5.516623e+18</td>\n",
       "      <td>7.531669e+18</td>\n",
       "      <td>NaN</td>\n",
       "      <td>Cable/DSL</td>\n",
       "      <td>7858558567428669000</td>\n",
       "      <td>4.077062e+17</td>\n",
       "    </tr>\n",
       "  </tbody>\n",
       "</table>\n",
       "<p>3 rows × 22 columns</p>\n",
       "</div>"
      ],
      "text/plain": [
       "                      date  event_id             ref_type  \\\n",
       "0  2019-03-05 00:09:36.966         0  1891515180541284343   \n",
       "1  2019-03-05 00:09:38.920         1  1891515180541284343   \n",
       "2  2019-03-05 00:09:26.195         0  1891515180541284343   \n",
       "\n",
       "              ref_hash  application_id  attributed   device_countrycode  \\\n",
       "0  2688759737656491380              38       False  6333597102633388268   \n",
       "1  2688759737656491380              38       False  6333597102633388268   \n",
       "2  2688759737656491380              38       False  6333597102633388268   \n",
       "\n",
       "   device_os_version  device_brand  device_model  ...  trans_id  user_agent  \\\n",
       "0       5.908703e+17           NaN  5.990117e+18  ...       NaN         NaN   \n",
       "1       5.908703e+17           NaN  5.990117e+18  ...       NaN         NaN   \n",
       "2       5.908703e+17           NaN  5.990117e+18  ...       NaN         NaN   \n",
       "\n",
       "                             event_uuid       carrier          kind  \\\n",
       "0  a9c0b263-acb2-4577-92c5-cbde5d7a5db1  2.248157e+17  5.516623e+18   \n",
       "1  1cd98205-0d97-4ec2-a019-667997dbfe7a  2.248157e+17  9.977660e+17   \n",
       "2  f02e2924-21ae-492b-b625-9021ae0a4eca  2.248157e+17  5.516623e+18   \n",
       "\n",
       "      device_os  wifi  connection_type           ip_address device_language  \n",
       "0  7.531669e+18   NaN        Cable/DSL  7858558567428669000    4.077062e+17  \n",
       "1  7.531669e+18   NaN        Cable/DSL  7858558567428669000    4.077062e+17  \n",
       "2  7.531669e+18   NaN        Cable/DSL  7858558567428669000    4.077062e+17  \n",
       "\n",
       "[3 rows x 22 columns]"
      ]
     },
     "execution_count": 16,
     "metadata": {},
     "output_type": "execute_result"
    }
   ],
   "source": [
    "#Analizamos la información del archivo Events.csv\n",
    "df_events.head(3)"
   ]
  },
  {
   "cell_type": "code",
   "execution_count": 17,
   "metadata": {},
   "outputs": [
    {
     "name": "stdout",
     "output_type": "stream",
     "text": [
      "6333597102633388268    2494423\n",
      "Name: device_countrycode, dtype: int64\n",
      "True     930902\n",
      "False    447970\n",
      "Name: wifi, dtype: int64\n"
     ]
    },
    {
     "data": {
      "image/png": "[encoded data removed]",
      "text/plain": [
       "<Figure size 720x360 with 1 Axes>"
      ]
     },
     "metadata": {
      "needs_background": "light"
     },
     "output_type": "display_data"
    }
   ],
   "source": [
    "#Los eventos se realizaron en el mismo país y más de la mitad de \n",
    "#los mismos ocurrieron en dispositivos que estaban conectados a una red WiFi.\n",
    "\n",
    "print(df_events.device_countrycode.value_counts())\n",
    "print(df_events.wifi.value_counts())\n",
    "\n",
    "#Obtenemos el top 10 de aplicaciones en las cuales se realizaron más eventos.\n",
    "app_for_events = df_events.application_id.value_counts(sort=True)\n",
    "\n",
    "app_for_events = app_for_events[:10,]\n",
    "plt.figure(figsize=(10,5))\n",
    "sns.barplot(app_for_events.index, app_for_events.values, alpha=0.8)\n",
    "plt.title('Top 10 de aplicaciones')\n",
    "plt.ylabel('Eventos', fontsize=12)\n",
    "plt.xlabel('ID Aplicacion', fontsize=12)\n",
    "plt.show()"
   ]
  },
  {
   "cell_type": "code",
   "execution_count": 18,
   "metadata": {},
   "outputs": [
    {
     "name": "stdout",
     "output_type": "stream",
     "text": [
      "         dia  cantidad\n",
      "8 2019-03-05    240549\n",
      "7 2019-03-06    253505\n",
      "6 2019-03-07    253706\n",
      "4 2019-03-08    285535\n",
      "3 2019-03-09    286221\n",
      "2 2019-03-10    293091\n",
      "5 2019-03-11    268884\n",
      "1 2019-03-12    296665\n",
      "0 2019-03-13    316267\n"
     ]
    },
    {
     "data": {
      "image/png": "[encoded data removed]",
      "text/plain": [
       "<Figure size 432x288 with 1 Axes>"
      ]
     },
     "metadata": {
      "needs_background": "light"
     },
     "output_type": "display_data"
    }
   ],
   "source": [
    "#Convertimos la fecha de creación del evento a un tipo datetime.\n",
    "df_events.date = pd.to_datetime(df_events.date)\n",
    "\n",
    "#Obtenemos la cantidad de eventos por día.\n",
    "df_eventos_por_dia = df_events.date\\\n",
    "       .dt.floor('d')\\\n",
    "       .value_counts()\\\n",
    "       .rename_axis('dia')\\\n",
    "       .reset_index(name='cantidad')\\\n",
    "       .sort_values(by='dia', ascending=True)\n",
    "\n",
    "print(df_eventos_por_dia)\n",
    "\n",
    "plt.bar(np.arange(len(df_eventos_por_dia)), df_eventos_por_dia.cantidad, align='center', alpha=0.5)\n",
    "plt.xticks(np.arange(len(df_eventos_por_dia)), df_eventos_por_dia.dia.dt.date,rotation=90)\n",
    "plt.ylabel('Eventos')\n",
    "plt.xlabel('Fecha')\n",
    "plt.title('Cantidad de eventos por dia')\n",
    " \n",
    "plt.show()"
   ]
  },
  {
   "cell_type": "code",
   "execution_count": 19,
   "metadata": {},
   "outputs": [
    {
     "data": {
      "text/html": [
       "<div>\n",
       "<style scoped>\n",
       "    .dataframe tbody tr th:only-of-type {\n",
       "        vertical-align: middle;\n",
       "    }\n",
       "\n",
       "    .dataframe tbody tr th {\n",
       "        vertical-align: top;\n",
       "    }\n",
       "\n",
       "    .dataframe thead th {\n",
       "        text-align: right;\n",
       "    }\n",
       "</style>\n",
       "<table border=\"1\" class=\"dataframe\">\n",
       "  <thead>\n",
       "    <tr style=\"text-align: right;\">\n",
       "      <th></th>\n",
       "      <th>created</th>\n",
       "      <th>application_id</th>\n",
       "      <th>ref_type</th>\n",
       "      <th>ref_hash</th>\n",
       "      <th>click_hash</th>\n",
       "      <th>attributed</th>\n",
       "      <th>implicit</th>\n",
       "      <th>device_countrycode</th>\n",
       "      <th>device_brand</th>\n",
       "      <th>device_model</th>\n",
       "      <th>session_user_agent</th>\n",
       "      <th>user_agent</th>\n",
       "      <th>event_uuid</th>\n",
       "      <th>kind</th>\n",
       "      <th>wifi</th>\n",
       "      <th>trans_id</th>\n",
       "      <th>ip_address</th>\n",
       "      <th>device_language</th>\n",
       "    </tr>\n",
       "  </thead>\n",
       "  <tbody>\n",
       "    <tr>\n",
       "      <th>0</th>\n",
       "      <td>2019-03-13 01:43:33.445</td>\n",
       "      <td>0</td>\n",
       "      <td>1891515180541284343</td>\n",
       "      <td>8464844987297247076</td>\n",
       "      <td>NaN</td>\n",
       "      <td>False</td>\n",
       "      <td>False</td>\n",
       "      <td>6333597102633388268</td>\n",
       "      <td>3.083059e+17</td>\n",
       "      <td>4.445252e+18</td>\n",
       "      <td>NaN</td>\n",
       "      <td>NaN</td>\n",
       "      <td>NaN</td>\n",
       "      <td>NaN</td>\n",
       "      <td>NaN</td>\n",
       "      <td>NaN</td>\n",
       "      <td>5529284367937637301</td>\n",
       "      <td>NaN</td>\n",
       "    </tr>\n",
       "    <tr>\n",
       "      <th>1</th>\n",
       "      <td>2019-03-13 04:58:35.078</td>\n",
       "      <td>0</td>\n",
       "      <td>1891515180541284343</td>\n",
       "      <td>3250564871270161533</td>\n",
       "      <td>NaN</td>\n",
       "      <td>False</td>\n",
       "      <td>False</td>\n",
       "      <td>6333597102633388268</td>\n",
       "      <td>3.083059e+17</td>\n",
       "      <td>4.445252e+18</td>\n",
       "      <td>NaN</td>\n",
       "      <td>NaN</td>\n",
       "      <td>NaN</td>\n",
       "      <td>NaN</td>\n",
       "      <td>NaN</td>\n",
       "      <td>NaN</td>\n",
       "      <td>6098022721363533304</td>\n",
       "      <td>NaN</td>\n",
       "    </tr>\n",
       "    <tr>\n",
       "      <th>2</th>\n",
       "      <td>2019-03-13 04:20:57.666</td>\n",
       "      <td>0</td>\n",
       "      <td>1891515180541284343</td>\n",
       "      <td>7953318831018100268</td>\n",
       "      <td>NaN</td>\n",
       "      <td>False</td>\n",
       "      <td>True</td>\n",
       "      <td>6333597102633388268</td>\n",
       "      <td>5.137992e+17</td>\n",
       "      <td>6.026543e+18</td>\n",
       "      <td>HasOffers Mobile AppTracking v1.0</td>\n",
       "      <td>NaN</td>\n",
       "      <td>0bfa9b4c-e07a-4522-b32d-138e3165ac98</td>\n",
       "      <td>Open</td>\n",
       "      <td>NaN</td>\n",
       "      <td>NaN</td>\n",
       "      <td>4636407223847323867</td>\n",
       "      <td>3.301378e+18</td>\n",
       "    </tr>\n",
       "  </tbody>\n",
       "</table>\n",
       "</div>"
      ],
      "text/plain": [
       "                   created  application_id             ref_type  \\\n",
       "0  2019-03-13 01:43:33.445               0  1891515180541284343   \n",
       "1  2019-03-13 04:58:35.078               0  1891515180541284343   \n",
       "2  2019-03-13 04:20:57.666               0  1891515180541284343   \n",
       "\n",
       "              ref_hash  click_hash  attributed  implicit   device_countrycode  \\\n",
       "0  8464844987297247076         NaN       False     False  6333597102633388268   \n",
       "1  3250564871270161533         NaN       False     False  6333597102633388268   \n",
       "2  7953318831018100268         NaN       False      True  6333597102633388268   \n",
       "\n",
       "   device_brand  device_model                 session_user_agent user_agent  \\\n",
       "0  3.083059e+17  4.445252e+18                                NaN        NaN   \n",
       "1  3.083059e+17  4.445252e+18                                NaN        NaN   \n",
       "2  5.137992e+17  6.026543e+18  HasOffers Mobile AppTracking v1.0        NaN   \n",
       "\n",
       "                             event_uuid  kind wifi trans_id  \\\n",
       "0                                   NaN   NaN  NaN      NaN   \n",
       "1                                   NaN   NaN  NaN      NaN   \n",
       "2  0bfa9b4c-e07a-4522-b32d-138e3165ac98  Open  NaN      NaN   \n",
       "\n",
       "            ip_address  device_language  \n",
       "0  5529284367937637301              NaN  \n",
       "1  6098022721363533304              NaN  \n",
       "2  4636407223847323867     3.301378e+18  "
      ]
     },
     "execution_count": 19,
     "metadata": {},
     "output_type": "execute_result"
    }
   ],
   "source": [
    "#Analizamos la información del archivo Installs.csv\n",
    "\n",
    "df_installs.head(3)"
   ]
  },
  {
   "cell_type": "code",
   "execution_count": 20,
   "metadata": {},
   "outputs": [
    {
     "name": "stdout",
     "output_type": "stream",
     "text": [
      "6333597102633388268    1820\n",
      "2970470518450881158    1592\n",
      "Name: device_countrycode, dtype: int64\n",
      "True     1377\n",
      "False     352\n",
      "Name: wifi, dtype: int64\n",
      "False    3412\n",
      "Name: attributed, dtype: int64\n"
     ]
    },
    {
     "data": {
      "image/png": "[encoded data removed]",
      "text/plain": [
       "<Figure size 720x360 with 1 Axes>"
      ]
     },
     "metadata": {
      "needs_background": "light"
     },
     "output_type": "display_data"
    }
   ],
   "source": [
    "#Las instalaciones se realizaron en dos países y más de la mitad de \n",
    "#los mismos ocurrieron en dispositivos que estaban conectados a una red WiFi.\n",
    "\n",
    "print(df_installs.device_countrycode.value_counts())\n",
    "print(df_installs.wifi.value_counts())\n",
    "\n",
    "#ninguna instalación es atribuida a Jampp.\n",
    "print(df_installs.attributed.value_counts())\n",
    "\n",
    "#Obtenemos el top 10 de aplicaciones en las cuales se realizaron más instalaciones.\n",
    "app_count  = df_installs['application_id'].value_counts(sort=True)\n",
    "app_count = app_count[:10,]\n",
    "plt.figure(figsize=(10,5))\n",
    "sns.barplot(app_count.index, app_count.values, alpha=0.8)\n",
    "plt.title('Top 10 de aplicaciones')\n",
    "plt.ylabel('Cantidad', fontsize=12)\n",
    "plt.xlabel('ID Aplicacion', fontsize=12)\n",
    "plt.show()"
   ]
  },
  {
   "cell_type": "code",
   "execution_count": 41,
   "metadata": {},
   "outputs": [
    {
     "name": "stdout",
     "output_type": "stream",
     "text": [
      "         dia  cantidad\n",
      "7 2019-03-05       337\n",
      "8 2019-03-06       325\n",
      "2 2019-03-07       393\n",
      "5 2019-03-08       366\n",
      "4 2019-03-09       368\n",
      "6 2019-03-10       351\n",
      "3 2019-03-11       377\n",
      "0 2019-03-12       472\n",
      "1 2019-03-13       423\n"
     ]
    },
    {
     "data": {
      "image/png": "[encoded data removed]",
      "text/plain": [
       "<Figure size 432x288 with 1 Axes>"
      ]
     },
     "metadata": {
      "needs_background": "light"
     },
     "output_type": "display_data"
    },
    {
     "name": "stdout",
     "output_type": "stream",
     "text": [
      "    hora  cantidad\n",
      "8      1       191\n",
      "11     2       174\n",
      "16     3       115\n",
      "17     4        76\n",
      "19     5        38\n",
      "23     6        18\n",
      "22     7        21\n",
      "20     8        28\n",
      "21     9        27\n",
      "18    10        63\n",
      "15    11       116\n",
      "14    12       130\n",
      "13    13       169\n",
      "5     14       201\n",
      "2     15       220\n",
      "10    16       186\n",
      "0     17       233\n",
      "12    18       170\n",
      "4     19       211\n",
      "9     20       188\n",
      "6     21       198\n",
      "1     22       229\n",
      "3     23       212\n",
      "7     24       198\n"
     ]
    },
    {
     "data": {
      "image/png": "[encoded data removed]",
      "text/plain": [
       "<Figure size 432x288 with 1 Axes>"
      ]
     },
     "metadata": {
      "needs_background": "light"
     },
     "output_type": "display_data"
    }
   ],
   "source": [
    "#Convertimos el campo created a datetime.\n",
    "\n",
    "df_installs.created = pd.to_datetime(df_installs.created)\n",
    "\n",
    "#Obtenemos las instalaciones por dia y hora.\n",
    "\n",
    "df_installs_por_dia = df_installs.created\\\n",
    "       .dt.floor('d')\\\n",
    "       .value_counts()\\\n",
    "       .rename_axis('dia')\\\n",
    "       .reset_index(name='cantidad')\\\n",
    "       .sort_values(by='dia', ascending=True)\n",
    "\n",
    "print(df_installs_por_dia)\n",
    "\n",
    "plt.bar(np.arange(len(df_installs_por_dia)), df_installs_por_dia.cantidad, align='center', alpha=0.5)\n",
    "plt.xticks(np.arange(len(df_installs_por_dia)), df_installs_por_dia.dia.dt.date,rotation=90)\n",
    "plt.ylabel('Instalaciones')\n",
    "plt.ylabel('Fecha')\n",
    "plt.title('Cantidad de instalaciones por dia')\n",
    " \n",
    "plt.show()\n",
    "\n",
    "#Generamos una columna con la hora de la instalación\n",
    "df_installs['hour'] = df_installs.created.dt.hour\n",
    "df_installs['hour'] = df_installs['hour'].replace(0,24)\n",
    "\n",
    "df_installs_por_hora = df_installs.hour\\\n",
    "       .value_counts()\\\n",
    "       .rename_axis('hora')\\\n",
    "       .reset_index(name='cantidad')\\\n",
    "       .sort_values(by='hora', ascending=True)\n",
    "\n",
    "print(df_installs_por_hora)\n",
    "\n",
    "plt.bar(np.arange(len(df_installs_por_hora)), df_installs_por_hora.cantidad, align='center', alpha=0.5)\n",
    "plt.xticks(np.arange(len(df_installs_por_hora)), df_installs_por_hora.hora,rotation=90)\n",
    "plt.ylabel('Instalaciones')\n",
    "plt.ylabel('Hora')\n",
    "plt.title('Cantidad de instalaciones por hora')\n",
    " \n",
    "plt.show()"
   ]
  },
  {
   "cell_type": "code",
   "execution_count": 91,
   "metadata": {},
   "outputs": [
    {
     "data": {
      "text/html": [
       "<div>\n",
       "<style scoped>\n",
       "    .dataframe tbody tr th:only-of-type {\n",
       "        vertical-align: middle;\n",
       "    }\n",
       "\n",
       "    .dataframe tbody tr th {\n",
       "        vertical-align: top;\n",
       "    }\n",
       "\n",
       "    .dataframe thead th {\n",
       "        text-align: right;\n",
       "    }\n",
       "</style>\n",
       "<table border=\"1\" class=\"dataframe\">\n",
       "  <thead>\n",
       "    <tr style=\"text-align: right;\">\n",
       "      <th></th>\n",
       "      <th>auction_type_id</th>\n",
       "      <th>country</th>\n",
       "      <th>date</th>\n",
       "      <th>device_id</th>\n",
       "      <th>platform</th>\n",
       "      <th>ref_type_id</th>\n",
       "      <th>source_id</th>\n",
       "    </tr>\n",
       "  </thead>\n",
       "  <tbody>\n",
       "    <tr>\n",
       "      <th>0</th>\n",
       "      <td>NaN</td>\n",
       "      <td>6333597102633388268</td>\n",
       "      <td>2019-03-11 14:18:33.290763</td>\n",
       "      <td>6059599345986491085</td>\n",
       "      <td>1</td>\n",
       "      <td>1</td>\n",
       "      <td>0</td>\n",
       "    </tr>\n",
       "    <tr>\n",
       "      <th>1</th>\n",
       "      <td>NaN</td>\n",
       "      <td>6333597102633388268</td>\n",
       "      <td>2019-03-11 14:18:34.440157</td>\n",
       "      <td>1115994996230693426</td>\n",
       "      <td>1</td>\n",
       "      <td>1</td>\n",
       "      <td>0</td>\n",
       "    </tr>\n",
       "    <tr>\n",
       "      <th>2</th>\n",
       "      <td>NaN</td>\n",
       "      <td>6333597102633388268</td>\n",
       "      <td>2019-03-11 14:18:35.862360</td>\n",
       "      <td>7463856250762200923</td>\n",
       "      <td>1</td>\n",
       "      <td>1</td>\n",
       "      <td>0</td>\n",
       "    </tr>\n",
       "  </tbody>\n",
       "</table>\n",
       "</div>"
      ],
      "text/plain": [
       "   auction_type_id              country                        date  \\\n",
       "0              NaN  6333597102633388268  2019-03-11 14:18:33.290763   \n",
       "1              NaN  6333597102633388268  2019-03-11 14:18:34.440157   \n",
       "2              NaN  6333597102633388268  2019-03-11 14:18:35.862360   \n",
       "\n",
       "             device_id  platform  ref_type_id  source_id  \n",
       "0  6059599345986491085         1            1          0  \n",
       "1  1115994996230693426         1            1          0  \n",
       "2  7463856250762200923         1            1          0  "
      ]
     },
     "execution_count": 91,
     "metadata": {},
     "output_type": "execute_result"
    }
   ],
   "source": [
    "#Analizamos el archivo de auctions.csv\n",
    "df_auctions.head(3)"
   ]
  },
  {
   "cell_type": "code",
   "execution_count": 21,
   "metadata": {},
   "outputs": [
    {
     "name": "stdout",
     "output_type": "stream",
     "text": [
      "6333597102633388268    19571319\n",
      "Name: country, dtype: int64\n",
      "         dia  cantidad\n",
      "7 2019-03-05   1182401\n",
      "8 2019-03-06   1032970\n",
      "6 2019-03-07   2047661\n",
      "4 2019-03-08   2303002\n",
      "5 2019-03-09   2074552\n",
      "2 2019-03-10   2637534\n",
      "3 2019-03-11   2574916\n",
      "1 2019-03-12   2779910\n",
      "0 2019-03-13   2938373\n"
     ]
    },
    {
     "data": {
      "image/png": "[encoded data removed]",
      "text/plain": [
       "<Figure size 432x288 with 1 Axes>"
      ]
     },
     "metadata": {
      "needs_background": "light"
     },
     "output_type": "display_data"
    }
   ],
   "source": [
    "#Las subastas se realizaron en el mismo país.\n",
    "print(df_auctions.country.value_counts())\n",
    "\n",
    "#Convertimos el campo date a datetime.\n",
    "df_auctions.date = pd.to_datetime(df_auctions.date)\n",
    "df_auctions_por_dia = df_auctions.date\\\n",
    "       .dt.floor('d')\\\n",
    "       .value_counts()\\\n",
    "       .rename_axis('dia')\\\n",
    "       .reset_index(name='cantidad')\\\n",
    "       .sort_values(by='dia', ascending=True)\n",
    "\n",
    "print(df_auctions_por_dia)\n",
    "plt.bar(np.arange(len(df_auctions_por_dia)), df_auctions_por_dia.cantidad, align='center', alpha=0.5)\n",
    "plt.xticks(np.arange(len(df_auctions_por_dia)), df_auctions_por_dia.dia,rotation=90)\n",
    "plt.ylabel('Subastas')\n",
    "plt.ylabel('Dia')\n",
    "plt.title('Cantidad de subastas por día')\n",
    " \n",
    "plt.show()"
   ]
  },
  {
   "cell_type": "code",
   "execution_count": 111,
   "metadata": {},
   "outputs": [
    {
     "data": {
      "image/png": "[encoded data removed]",
      "text/plain": [
       "<Figure size 432x288 with 1 Axes>"
      ]
     },
     "metadata": {
      "needs_background": "light"
     },
     "output_type": "display_data"
    }
   ],
   "source": [
    "#Comparación de subastas y eventos por día.\n",
    "\n",
    "n_groups = 9\n",
    "eventos = df_eventos_por_dia.cantidad\n",
    "subastas = df_auctions_por_dia.cantidad\n",
    " \n",
    "# create plot\n",
    "fig, ax = plt.subplots()\n",
    "index = np.arange(n_groups)\n",
    "bar_width = 0.35\n",
    "opacity = 0.8\n",
    "\n",
    "rects1 = plt.bar(index, eventos, bar_width,\n",
    "alpha=opacity,\n",
    "color='r',\n",
    "label='Eventos')\n",
    "    \n",
    "rects2 = plt.bar(index + bar_width, subastas, bar_width,\n",
    "alpha=opacity,\n",
    "color='y',\n",
    "label='Subastas')\n",
    "\n",
    "    \n",
    "plt.xlabel('Dia')\n",
    "plt.ylabel('Cantidad')\n",
    "plt.title('Eventos por subastas')\n",
    "plt.xticks(index + bar_width, df_eventos_por_dia.dia.dt.date,rotation=90)\n",
    "plt.legend()\n",
    " \n",
    "plt.tight_layout()\n",
    "plt.show()"
   ]
  },
  {
   "cell_type": "code",
   "execution_count": 22,
   "metadata": {},
   "outputs": [
    {
     "ename": "NameError",
     "evalue": "name 'df_installs_por_dia' is not defined",
     "output_type": "error",
     "traceback": [
      "\u001b[0;31m---------------------------------------------------------------------------\u001b[0m",
      "\u001b[0;31mNameError\u001b[0m                                 Traceback (most recent call last)",
      "\u001b[0;32m<ipython-input-22-74f1b835e5b9>\u001b[0m in \u001b[0;36m<module>\u001b[0;34m\u001b[0m\n\u001b[1;32m      1\u001b[0m \u001b[0mn_groups\u001b[0m \u001b[0;34m=\u001b[0m \u001b[0;36m9\u001b[0m\u001b[0;34m\u001b[0m\u001b[0;34m\u001b[0m\u001b[0m\n\u001b[1;32m      2\u001b[0m \u001b[0mclicks\u001b[0m \u001b[0;34m=\u001b[0m \u001b[0mdf_clicks_por_dia\u001b[0m\u001b[0;34m.\u001b[0m\u001b[0mcantidad\u001b[0m\u001b[0;34m\u001b[0m\u001b[0;34m\u001b[0m\u001b[0m\n\u001b[0;32m----> 3\u001b[0;31m \u001b[0minstalaciones\u001b[0m \u001b[0;34m=\u001b[0m \u001b[0mdf_installs_por_dia\u001b[0m\u001b[0;34m.\u001b[0m\u001b[0mcantidad\u001b[0m\u001b[0;34m\u001b[0m\u001b[0;34m\u001b[0m\u001b[0m\n\u001b[0m\u001b[1;32m      4\u001b[0m \u001b[0;34m\u001b[0m\u001b[0m\n\u001b[1;32m      5\u001b[0m \u001b[0;31m# create plot\u001b[0m\u001b[0;34m\u001b[0m\u001b[0;34m\u001b[0m\u001b[0;34m\u001b[0m\u001b[0m\n",
      "\u001b[0;31mNameError\u001b[0m: name 'df_installs_por_dia' is not defined"
     ]
    }
   ],
   "source": [
    "n_groups = 9\n",
    "clicks = df_clicks_por_dia.cantidad\n",
    "instalaciones = df_installs_por_dia.cantidad\n",
    " \n",
    "# create plot\n",
    "fig, ax = plt.subplots()\n",
    "index = np.arange(n_groups)\n",
    "bar_width = 0.35\n",
    "opacity = 0.8\n",
    " \n",
    "rects1 = plt.bar(index, instalaciones, bar_width,\n",
    "alpha=opacity,\n",
    "color='b',\n",
    "label='Instalaciones')\n",
    " \n",
    "rects2 = plt.bar(index + bar_width, clicks, bar_width,\n",
    "alpha=opacity,\n",
    "color='g',\n",
    "label='Clicks')\n",
    " \n",
    "plt.xlabel('Dia')\n",
    "plt.ylabel('Cantidad')\n",
    "plt.title('Instalaciones por clicks')\n",
    "plt.xticks(index + bar_width, df_installs_por_dia.dia.dt.date,rotation=90)\n",
    "plt.legend()\n",
    " \n",
    "plt.tight_layout()\n",
    "plt.show()"
   ]
  },
  {
   "cell_type": "code",
   "execution_count": 24,
   "metadata": {},
   "outputs": [
    {
     "name": "stderr",
     "output_type": "stream",
     "text": [
      "/Library/Frameworks/Python.framework/Versions/3.7/lib/python3.7/site-packages/ipykernel_launcher.py:4: SettingWithCopyWarning: \n",
      "A value is trying to be set on a copy of a slice from a DataFrame.\n",
      "Try using .loc[row_indexer,col_indexer] = value instead\n",
      "\n",
      "See the caveats in the documentation: http://pandas.pydata.org/pandas-docs/stable/indexing.html#indexing-view-versus-copy\n",
      "  after removing the cwd from sys.path.\n"
     ]
    },
    {
     "data": {
      "image/png": "[encoded data removed]",
      "text/plain": [
       "<Figure size 432x288 with 1 Axes>"
      ]
     },
     "metadata": {
      "needs_background": "light"
     },
     "output_type": "display_data"
    },
    {
     "name": "stderr",
     "output_type": "stream",
     "text": [
      "/Library/Frameworks/Python.framework/Versions/3.7/lib/python3.7/site-packages/ipykernel_launcher.py:18: SettingWithCopyWarning: \n",
      "A value is trying to be set on a copy of a slice from a DataFrame.\n",
      "Try using .loc[row_indexer,col_indexer] = value instead\n",
      "\n",
      "See the caveats in the documentation: http://pandas.pydata.org/pandas-docs/stable/indexing.html#indexing-view-versus-copy\n"
     ]
    },
    {
     "data": {
      "image/png": "[encoded data removed]",
      "text/plain": [
       "<Figure size 432x288 with 1 Axes>"
      ]
     },
     "metadata": {
      "needs_background": "light"
     },
     "output_type": "display_data"
    },
    {
     "data": {
      "image/png": "[encoded data removed]",
      "text/plain": [
       "<Figure size 432x288 with 1 Axes>"
      ]
     },
     "metadata": {
      "needs_background": "light"
     },
     "output_type": "display_data"
    }
   ],
   "source": [
    "# ¿Cuántas subastas terminan en instalaciones y cuàntas en solamente clicks?\n",
    "\n",
    "auctions_to_installs= df_auctions[df_auctions.device_id.isin(df_installs[\"ref_hash\"])]\n",
    "auctions_to_installs['datePart'] = auctions_to_installs.date.dt.floor('d')\n",
    "auctions_to_installs_per_day = auctions_to_installs.datePart.value_counts().rename_axis('dia')\\\n",
    "       .reset_index(name='cantidad')\\\n",
    "       .sort_values(by='dia', ascending=True)\n",
    "\n",
    "plt.bar(np.arange(len(auctions_to_installs_per_day)), auctions_to_installs_per_day.cantidad, align='center', alpha=0.5)\n",
    "plt.xticks(np.arange(len(auctions_to_installs_per_day)), auctions_to_installs_per_day.dia.dt.date,rotation=90)\n",
    "plt.ylabel('Subastas que terminan en instalaciones')\n",
    "plt.xlabel('Fecha')\n",
    "plt.title('Subastas que terminan en instalaciones por dia')\n",
    " \n",
    "plt.show()\n",
    "\n",
    "auctions_to_clicks = df_auctions[df_auctions.device_id.isin(df_clicks[\"ref_hash\"])]\n",
    "auctions_to_clicks['datePart'] = auctions_to_clicks.date.dt.floor('d')\n",
    "auctions_to_clicks_per_day = auctions_to_clicks.datePart.value_counts().rename_axis('dia')\\\n",
    "       .reset_index(name='cantidad')\\\n",
    "       .sort_values(by='dia', ascending=True)\n",
    "\n",
    "plt.bar(np.arange(len(auctions_to_clicks_per_day)), auctions_to_clicks_per_day.cantidad, align='center', alpha=0.5)\n",
    "plt.xticks(np.arange(len(auctions_to_clicks_per_day)), auctions_to_clicks_per_day.dia.dt.date,rotation=90)\n",
    "plt.ylabel('Subastas que terminan en clicks')\n",
    "plt.xlabel('Fecha')\n",
    "plt.title('Subastas que terminan en clicks por dia')\n",
    " \n",
    "plt.show()\n",
    "\n",
    "n_groups = 9\n",
    "clicks = auctions_to_clicks_per_day.cantidad\n",
    "instalaciones = auctions_to_installs_per_day.cantidad\n",
    " \n",
    "# create plot\n",
    "fig, ax = plt.subplots()\n",
    "index = np.arange(n_groups)\n",
    "bar_width = 0.35\n",
    "opacity = 0.8\n",
    " \n",
    "rects1 = plt.bar(index, instalaciones, bar_width,\n",
    "alpha=opacity,\n",
    "color='b',\n",
    "label='Instalaciones')\n",
    " \n",
    "rects2 = plt.bar(index + bar_width, clicks, bar_width,\n",
    "alpha=opacity,\n",
    "color='g',\n",
    "label='Clicks')\n",
    " \n",
    "plt.xlabel('Fecha')\n",
    "plt.ylabel('Cantidad')\n",
    "plt.title('Subastas que terminan en instalaciones/cliks por dia')\n",
    "plt.xticks(index + bar_width, auctions_to_installs_per_day.dia.dt.date,rotation=90)\n",
    "plt.legend()\n",
    " \n",
    "plt.tight_layout()\n",
    "plt.show()\n",
    "\n",
    "#Por lo que podemos observar, el 27,1% de las subastas realizadas terminan en clicks pero sólo el 0.3% de las mismas\n",
    "# terminan en instalaciones.\n"
   ]
  },
  {
   "cell_type": "code",
   "execution_count": 25,
   "metadata": {},
   "outputs": [
    {
     "data": {
      "image/png": "[encoded data removed]",
      "text/plain": [
       "<Figure size 432x432 with 1 Axes>"
      ]
     },
     "metadata": {},
     "output_type": "display_data"
    }
   ],
   "source": [
    "#preguntar si 1 seria ios o android.\n",
    "sizes = auctions_to_installs.platform.value_counts()\n",
    "nombres = ['2', '1']\n",
    "\n",
    "plt.figure(figsize=(6, 6))\n",
    "plt.title('Plataformas usadas en instalaciones', fontsize=20)\n",
    "plt.pie(sizes, labels=nombres, autopct='%1.1f%%', startangle=20, colors=['pink', 'grey'], explode=(0.1, 0))\n",
    "plt.show()"
   ]
  },
  {
   "cell_type": "code",
   "execution_count": 28,
   "metadata": {},
   "outputs": [
    {
     "name": "stdout",
     "output_type": "stream",
     "text": [
      "   cliente  cantidad\n",
      "1        0        70\n",
      "4        1         2\n",
      "2        2        12\n",
      "0        3     26263\n",
      "6        5         1\n",
      "3        7         2\n",
      "5        8         1\n"
     ]
    },
    {
     "data": {
      "image/png": "[encoded data removed]",
      "text/plain": [
       "<Figure size 432x288 with 1 Axes>"
      ]
     },
     "metadata": {
      "needs_background": "light"
     },
     "output_type": "display_data"
    }
   ],
   "source": [
    "#Clicks por clientes\n",
    "\n",
    "clicks_by_client = df_clicks.advertiser_id.value_counts().rename_axis('cliente')\\\n",
    "       .reset_index(name='cantidad')\\\n",
    "       .sort_values(by=\"cliente\", ascending=True)\n",
    "\n",
    "print(clicks_by_client)\n",
    "\n",
    "plt.bar(np.arange(len(clicks_by_client)), clicks_by_client.cantidad, align='center', alpha=0.5)\n",
    "plt.xticks(np.arange(len(clicks_by_client)), clicks_by_client.cliente)\n",
    "plt.ylabel('Clicks')\n",
    "plt.xlabel('Cliente')\n",
    "plt.title('Clicks por Clientes Jampp')\n",
    " \n",
    "plt.show()"
   ]
  },
  {
   "cell_type": "code",
   "execution_count": 35,
   "metadata": {},
   "outputs": [
    {
     "data": {
      "image/png": "[encoded data removed]",
      "text/plain": [
       "<Figure size 432x432 with 1 Axes>"
      ]
     },
     "metadata": {},
     "output_type": "display_data"
    }
   ],
   "source": [
    "#Tipos de clicks\n",
    "clicks_to_installs = df_clicks[df_clicks.ref_hash.isin(df_installs[\"ref_hash\"])]\n",
    "cant_clicks_to_installs = len(clicks_to_installs.index)\n",
    "\n",
    "clicks_to_events = df_clicks[df_clicks.ref_hash.isin(df_events[\"ref_hash\"])]\n",
    "cant_clicks_to_events = len(clicks_to_events.index)\n",
    "\n",
    "others_clicks = len(df_clicks.index) - (cant_clicks_to_installs + cant_clicks_to_events )\n",
    "\n",
    "sizes =[cant_clicks_to_installs,cant_clicks_to_events,others_clicks] \n",
    "nombres = ['Installs', 'Events', 'Others']\n",
    "\n",
    "plt.figure(figsize=(6, 6))\n",
    "plt.title('Tipos de clicks', fontsize=20)\n",
    "plt.pie(sizes, labels=nombres, autopct='%1.2f%%', startangle=20, colors=['orange', 'grey','pink'], explode=(0.3,0,0))\n",
    "plt.show()\n"
   ]
  },
  {
   "cell_type": "code",
   "execution_count": 9,
   "metadata": {},
   "outputs": [
    {
     "data": {
      "text/plain": [
       "False    2451949\n",
       "True       42474\n",
       "Name: ref_hash, dtype: int64"
      ]
     },
     "execution_count": 9,
     "metadata": {},
     "output_type": "execute_result"
    }
   ],
   "source": [
    "#Eventos que son instalaciones 42474 (1,7%)\n",
    "\n",
    "df_events[\"ref_hash\"].isin(df_installs[\"ref_hash\"]).value_counts()"
   ]
  },
  {
   "cell_type": "code",
   "execution_count": 11,
   "metadata": {},
   "outputs": [
    {
     "data": {
      "text/plain": [
       "False    1447297\n",
       "True     1047126\n",
       "Name: ref_hash, dtype: int64"
      ]
     },
     "execution_count": 11,
     "metadata": {},
     "output_type": "execute_result"
    }
   ],
   "source": [
    "#Eventos que son subastas 1047126 (41,9%)\n",
    "\n",
    "df_events[\"ref_hash\"].isin(df_auctions[\"device_id\"]).value_counts()"
   ]
  },
  {
   "cell_type": "code",
   "execution_count": 18,
   "metadata": {},
   "outputs": [
    {
     "data": {
      "text/plain": [
       "False    26340\n",
       "True        11\n",
       "Name: ref_hash, dtype: int64"
      ]
     },
     "execution_count": 18,
     "metadata": {},
     "output_type": "execute_result"
    }
   ],
   "source": [
    "#Clicks que terminan en instalaciones 11 (0,04%)\n",
    "\n",
    "df_clicks[\"ref_hash\"].isin(df_installs[\"ref_hash\"]).value_counts()"
   ]
  },
  {
   "cell_type": "code",
   "execution_count": 36,
   "metadata": {},
   "outputs": [],
   "source": [
    "clicks_to_installs_by_client = clicks_to_installs.advertiser_id.value_counts().rename_axis('cliente')\\\n",
    "       .reset_index(name='cantidad')"
   ]
  },
  {
   "cell_type": "code",
   "execution_count": 37,
   "metadata": {},
   "outputs": [
    {
     "data": {
      "text/html": [
       "<div>\n",
       "<style scoped>\n",
       "    .dataframe tbody tr th:only-of-type {\n",
       "        vertical-align: middle;\n",
       "    }\n",
       "\n",
       "    .dataframe tbody tr th {\n",
       "        vertical-align: top;\n",
       "    }\n",
       "\n",
       "    .dataframe thead th {\n",
       "        text-align: right;\n",
       "    }\n",
       "</style>\n",
       "<table border=\"1\" class=\"dataframe\">\n",
       "  <thead>\n",
       "    <tr style=\"text-align: right;\">\n",
       "      <th></th>\n",
       "      <th>cliente</th>\n",
       "      <th>cantidad</th>\n",
       "    </tr>\n",
       "  </thead>\n",
       "  <tbody>\n",
       "    <tr>\n",
       "      <th>0</th>\n",
       "      <td>3</td>\n",
       "      <td>11</td>\n",
       "    </tr>\n",
       "  </tbody>\n",
       "</table>\n",
       "</div>"
      ],
      "text/plain": [
       "   cliente  cantidad\n",
       "0        3        11"
      ]
     },
     "execution_count": 37,
     "metadata": {},
     "output_type": "execute_result"
    }
   ],
   "source": [
    "clicks_to_installs_by_client"
   ]
  },
  {
   "cell_type": "code",
   "execution_count": 38,
   "metadata": {},
   "outputs": [
    {
     "data": {
      "image/png": "[encoded data removed]",
      "text/plain": [
       "<Figure size 432x288 with 1 Axes>"
      ]
     },
     "metadata": {
      "needs_background": "light"
     },
     "output_type": "display_data"
    }
   ],
   "source": [
    "#VER DE MODIFICAR ESCALA PARA QUE SE NOTE MAS LAS INSTALACIONES\n",
    "n_groups = 7\n",
    "clicks = clicks_by_client.cantidad\n",
    "instalaciones = clicks_to_installs_by_client.cantidad\n",
    " \n",
    "# create plot\n",
    "fig, ax = plt.subplots()\n",
    "index = np.arange(n_groups)\n",
    "bar_width = 0.35\n",
    "opacity = 0.8\n",
    " \n",
    "rects1 = plt.bar(index, instalaciones, bar_width,\n",
    "alpha=opacity,\n",
    "color='b',\n",
    "label='Instalaciones')\n",
    " \n",
    "rects2 = plt.bar(index + bar_width, clicks, bar_width,\n",
    "alpha=opacity,\n",
    "color='g',\n",
    "label='Clicks')\n",
    " \n",
    "plt.xlabel('Cliente')\n",
    "plt.ylabel('Cantidad')\n",
    "plt.title('Clicks por Cliente Jampp')\n",
    "plt.xticks(index + bar_width, clicks_by_client.cliente)\n",
    "plt.legend()\n",
    " \n",
    "plt.tight_layout()\n",
    "plt.show()\n",
    "\n",
    "#En conclusion .. el cliente con ID 3 es el que tiene la mayor cantidad de clicks. \n",
    "#Y sólo hay instalaciones de este cliente (a partir de las subastas).\n",
    "# ver si hay otro grafico para mostrar mejor esta diferencia"
   ]
  },
  {
   "cell_type": "code",
   "execution_count": null,
   "metadata": {},
   "outputs": [],
   "source": []
  },
  {
   "cell_type": "code",
   "execution_count": 42,
   "metadata": {},
   "outputs": [
    {
     "name": "stdout",
     "output_type": "stream",
     "text": [
      "   hora  cantidad\n",
      "0    17       233\n",
      "    hora  cantidad\n",
      "23     6        18\n",
      "                 cant\n",
      "date       hour      \n",
      "2019-03-05 23      27\n",
      "2019-03-06 21      27\n",
      "           23      27\n",
      "2019-03-07 17      35\n",
      "2019-03-08 24      33\n",
      "2019-03-09 17      28\n",
      "2019-03-10 14      29\n",
      "2019-03-11 22      34\n",
      "2019-03-12 13      35\n",
      "           23      35\n",
      "2019-03-13 23      30\n"
     ]
    }
   ],
   "source": [
    "#Creamos una columna con el campo de fecha (sin hora)\n",
    "df_installs['date'] = df_installs.created.dt.date\n",
    "\n",
    "max_install_hour = df_installs_por_hora[df_installs_por_hora.cantidad == df_installs_por_hora.cantidad.max()]\n",
    "min_install_hour = df_installs_por_hora[df_installs_por_hora.cantidad == df_installs_por_hora.cantidad.min()]\n",
    "\n",
    "# La hora donde se produce la mayor cantidad de instalaciones es 17hs (233 installs)\n",
    "print(max_install_hour)\n",
    "# La hora donde se produce la menor cantidad de instalaciones es 6hs (18 installs)\n",
    "print(min_install_hour)\n",
    "\n",
    "#Agrupamos la cantidad de instalaciones por dia y hora\n",
    "result = df_installs.groupby(['date','hour']).size().to_frame('cant')\n",
    "idx = result.groupby(['date'])['cant'].transform(max) == result['cant']\n",
    "maximos = result[idx]\n",
    "\n",
    "print(maximos)\n",
    "\n",
    "\n"
   ]
  },
  {
   "cell_type": "code",
   "execution_count": 46,
   "metadata": {},
   "outputs": [],
   "source": [
    "maximos = maximos.reset_index()"
   ]
  },
  {
   "cell_type": "code",
   "execution_count": 45,
   "metadata": {},
   "outputs": [
    {
     "data": {
      "text/html": [
       "<div>\n",
       "<style scoped>\n",
       "    .dataframe tbody tr th:only-of-type {\n",
       "        vertical-align: middle;\n",
       "    }\n",
       "\n",
       "    .dataframe tbody tr th {\n",
       "        vertical-align: top;\n",
       "    }\n",
       "\n",
       "    .dataframe thead th {\n",
       "        text-align: right;\n",
       "    }\n",
       "</style>\n",
       "<table border=\"1\" class=\"dataframe\">\n",
       "  <thead>\n",
       "    <tr style=\"text-align: right;\">\n",
       "      <th></th>\n",
       "      <th>date</th>\n",
       "      <th>hour</th>\n",
       "      <th>cant</th>\n",
       "    </tr>\n",
       "  </thead>\n",
       "  <tbody>\n",
       "    <tr>\n",
       "      <th>0</th>\n",
       "      <td>2019-03-05</td>\n",
       "      <td>23</td>\n",
       "      <td>27</td>\n",
       "    </tr>\n",
       "    <tr>\n",
       "      <th>1</th>\n",
       "      <td>2019-03-06</td>\n",
       "      <td>21</td>\n",
       "      <td>27</td>\n",
       "    </tr>\n",
       "    <tr>\n",
       "      <th>2</th>\n",
       "      <td>2019-03-06</td>\n",
       "      <td>23</td>\n",
       "      <td>27</td>\n",
       "    </tr>\n",
       "    <tr>\n",
       "      <th>3</th>\n",
       "      <td>2019-03-07</td>\n",
       "      <td>17</td>\n",
       "      <td>35</td>\n",
       "    </tr>\n",
       "    <tr>\n",
       "      <th>4</th>\n",
       "      <td>2019-03-08</td>\n",
       "      <td>24</td>\n",
       "      <td>33</td>\n",
       "    </tr>\n",
       "    <tr>\n",
       "      <th>5</th>\n",
       "      <td>2019-03-09</td>\n",
       "      <td>17</td>\n",
       "      <td>28</td>\n",
       "    </tr>\n",
       "    <tr>\n",
       "      <th>6</th>\n",
       "      <td>2019-03-10</td>\n",
       "      <td>14</td>\n",
       "      <td>29</td>\n",
       "    </tr>\n",
       "    <tr>\n",
       "      <th>7</th>\n",
       "      <td>2019-03-11</td>\n",
       "      <td>22</td>\n",
       "      <td>34</td>\n",
       "    </tr>\n",
       "    <tr>\n",
       "      <th>8</th>\n",
       "      <td>2019-03-12</td>\n",
       "      <td>13</td>\n",
       "      <td>35</td>\n",
       "    </tr>\n",
       "    <tr>\n",
       "      <th>9</th>\n",
       "      <td>2019-03-12</td>\n",
       "      <td>23</td>\n",
       "      <td>35</td>\n",
       "    </tr>\n",
       "    <tr>\n",
       "      <th>10</th>\n",
       "      <td>2019-03-13</td>\n",
       "      <td>23</td>\n",
       "      <td>30</td>\n",
       "    </tr>\n",
       "  </tbody>\n",
       "</table>\n",
       "</div>"
      ],
      "text/plain": [
       "          date  hour  cant\n",
       "0   2019-03-05    23    27\n",
       "1   2019-03-06    21    27\n",
       "2   2019-03-06    23    27\n",
       "3   2019-03-07    17    35\n",
       "4   2019-03-08    24    33\n",
       "5   2019-03-09    17    28\n",
       "6   2019-03-10    14    29\n",
       "7   2019-03-11    22    34\n",
       "8   2019-03-12    13    35\n",
       "9   2019-03-12    23    35\n",
       "10  2019-03-13    23    30"
      ]
     },
     "execution_count": 45,
     "metadata": {},
     "output_type": "execute_result"
    }
   ],
   "source": [
    "maximos"
   ]
  },
  {
   "cell_type": "code",
   "execution_count": 47,
   "metadata": {},
   "outputs": [],
   "source": [
    "maximos.date = pd.to_datetime(maximos.date)"
   ]
  },
  {
   "cell_type": "code",
   "execution_count": 60,
   "metadata": {},
   "outputs": [
    {
     "data": {
      "image/png": "[encoded data removed]",
      "text/plain": [
       "<Figure size 432x288 with 1 Axes>"
      ]
     },
     "metadata": {
      "needs_background": "light"
     },
     "output_type": "display_data"
    }
   ],
   "source": [
    "fig, ax = plt.subplots()\n",
    "\n",
    "\n",
    "plt.plot(maximos.date, maximos.hour, color='g')\n",
    "plt.xticks(np.arange(len(maximos.date)),maximos.date,rotation=90)\n",
    "plt.xlabel('Día')\n",
    "plt.ylabel('Hora')\n",
    "plt.title('Hora de instalaciones màximas por día')\n",
    "plt.show()"
   ]
  },
  {
   "cell_type": "code",
   "execution_count": 268,
   "metadata": {},
   "outputs": [
    {
     "data": {
      "text/plain": [
       "0    2019-03-05\n",
       "1    2019-03-06\n",
       "2    2019-03-06\n",
       "3    2019-03-07\n",
       "4    2019-03-08\n",
       "5    2019-03-09\n",
       "6    2019-03-10\n",
       "7    2019-03-11\n",
       "8    2019-03-12\n",
       "9    2019-03-12\n",
       "10   2019-03-13\n",
       "Name: date, dtype: datetime64[ns]"
      ]
     },
     "execution_count": 268,
     "metadata": {},
     "output_type": "execute_result"
    }
   ],
   "source": [
    "maximos.date"
   ]
  },
  {
   "cell_type": "code",
   "execution_count": 283,
   "metadata": {},
   "outputs": [
    {
     "data": {
      "text/plain": [
       "MultiIndex(levels=[[2019-03-05, 2019-03-06, 2019-03-07, 2019-03-08, 2019-03-09, 2019-03-10, 2019-03-11, 2019-03-12, 2019-03-13], [1, 2, 3, 4, 5, 6, 7, 8, 9, 10, 11, 12, 13, 14, 15, 16, 17, 18, 19, 20, 21, 22, 23, 24]],\n",
       "           codes=[[0, 1, 1, 2, 3, 4, 5, 6, 7, 7, 8], [22, 20, 22, 16, 23, 16, 13, 21, 12, 22, 22]],\n",
       "           names=['date', 'hour'])"
      ]
     },
     "execution_count": 283,
     "metadata": {},
     "output_type": "execute_result"
    }
   ],
   "source": []
  },
  {
   "cell_type": "code",
   "execution_count": null,
   "metadata": {},
   "outputs": [],
   "source": []
  }
 ],
 "metadata": {
  "kernelspec": {
   "display_name": "Python 3",
   "language": "python",
   "name": "python3"
  },
  "language_info": {
   "codemirror_mode": {
    "name": "ipython",
    "version": 3
   },
   "file_extension": ".py",
   "mimetype": "text/x-python",
   "name": "python",
   "nbconvert_exporter": "python",
   "pygments_lexer": "ipython3",
   "version": "3.7.3"
  }
 },
 "nbformat": 4,
 "nbformat_minor": 2
}

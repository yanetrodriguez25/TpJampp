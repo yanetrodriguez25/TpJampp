{
 "cells": [
  {
   "cell_type": "markdown",
   "metadata": {},
   "source": [
    "<H2 align=\"center\">75.06/95.58 Organización de Datos</H2>\n",
    "<H2 align=\"center\">Primer Cuatrimestre de 2019</H2>\n",
    "<H2 align=\"center\">Trabajo Práctico 1: Enunciado</H2>\n",
    "\n",
    "<br>\n",
    "\n",
    "Para esta primera entrega del TP, realizaremos el análisis exploratorio del set de datos provisto por la empresa Jampp. \n",
    "\n",
    "Los datos a analizar estan disponibles en https://drive.google.com/drive/folders/1-7ACCWhS3sWVh0vU273YwbS74WmzEhLa?usp=sharing\n",
    "\n",
    "En el directorio podemos encontrar:\n",
    "<ul>\n",
    "<li>installs</li> \n",
    "<li>clicks</li> \n",
    "<li>events</li>\n",
    "<li>auctions</li>\n",
    "</ul>\n",
    " \n",
    "El objetivo del primer TP es realizar un análisis exploratorio del set de datos del TP. Queremos ver qué cosas podemos descubrir sobre los datos que puedan resultar interesantes. Los requisitos de la primera entrega son los siguientes:\n",
    "<ul>\n",
    "- El análisis debe estar hecho en Python Pandas o R.\n",
    "</ul>\n",
    "<ul>\n",
    "- El análisis debe entregarse en formato papel en una carpeta en donde se incluya el reporte completo y todas las visualizaciones generadas. Es altamente recomendable que las visualizaciones se impriman en color.\n",
    "</ul>\n",
    "<ul>\n",
    "- Informar el link a un repositorio Github en donde pueda bajarse el código completo para generar el análisis.\n",
    "</ul>\n",
    "<ul>\n",
    "- Agregar en Kaggle un kernel con el análisis exploratorio realizado (deseable pero no mandatorio)\n",
    "</ul>\n",
    "\n",
    "La evaluación del TP se realizará en base al siguiente criterio:\n",
    "\n",
    "<ul>\n",
    "- Originalidad del análisis exploratorio. \n",
    "</ul>\n",
    "<ul>\n",
    "- Calidad del reporte. ¿Está bien escrito? ¿Es claro y preciso? \n",
    "</ul>\n",
    "<ul>\n",
    "- Calidad del análisis exploratorio: qué tipo de preguntas se hacen y de qué forma se responden, ¿es la respuesta clara y concisa con respecto a la pregunta formulada? \n",
    "</ul>\n",
    "<ul>\n",
    "- Calidad de las visualizaciones presentadas.\n",
    "</ul>\n",
    "<ul>\n",
    "<ul>    \n",
    "-  ¿Tienen todos los ejes su rótulo?\n",
    "</ul>    \n",
    "</ul>\n",
    "<ul>\n",
    "<ul> \n",
    "-  ¿Tiene cada visualización un título?\n",
    "</ul>\n",
    "</ul>\n",
    "<ul>\n",
    "<ul> \n",
    "-  ¿Es entendible la visualización sin tener que leer la explicación?\n",
    "</ul>\n",
    "</ul>\n",
    "<ul>\n",
    "<ul> \n",
    "-  ¿El tipo de plot elegido es adecuado para lo que se quiere visualizar?\n",
    "</ul>\n",
    "</ul>\n",
    "<ul>\n",
    "<ul> \n",
    "-  ¿Es una visualización interesante?\n",
    "</ul>\n",
    "</ul>\n",
    "<ul>\n",
    "<ul> \n",
    "-  ¿El uso del color es adecuado?\n",
    "</ul>\n",
    "</ul>\n",
    "<ul>\n",
    "<ul>     \n",
    "-  ¿Hay un exceso o falta de elementos visuales en la visualización elegida?\n",
    "</ul>\n",
    "</ul>\n",
    "<ul>\n",
    "<ul> \n",
    "-  ¿La visualización es consistente con los datos?\n",
    "</ul>\n",
    "</ul>\n",
    "<ul>\n",
    "- Conclusiones presentadas.\n",
    "</ul>\n",
    "<ul>\n",
    "<ul>\n",
    "-  ¿Presenta el grupo un listado de \"insights\" aprendidos sobre los datos en base al análisis realizado? ¿Es interesante?\n",
    "</ul>\n",
    "</ul>\n",
    "<ul>\n",
    "<ul>\n",
    "-  ¿Identificaron patrones o funnels de usuarios?\n",
    "</ul>\n",
    "</ul>\n",
    "<ul>\n",
    "<ul>\n",
    "-  ¿El análisis realiza un aporte a Jampp?\n",
    "</ul>\n",
    "</ul>\n",
    "\n",
    "El grupo que realice el mejor análisis exploratorio obtendrá 10 puntos para cada uno de sus integrantes que podrán ser usados en el parcial además de ser publicado en el repositorio de la materia como ejemplo para los siguientes cuatrimestres.\n",
    "\n",
    "Como dato a tener en cuenta, para el TP2 se trabajará con estos mismos datos intentando determinar:\n",
    "<ul>\n",
    "<ul>\n",
    "-  En un instante dado, estimar 𝑆𝑡(𝑑) el tiempo hasta que un dispositivo 𝑑 aparezca de vuelta en una subasta RTB\n",
    "</ul>\n",
    "</ul>\n",
    "\n",
    "<ul>\n",
    "<ul>\n",
    "-  En un instante dado, estimar 𝑆𝑐(𝑑) el tiempo hasta que un dispositivo 𝑑 convierta\n",
    "</ul>\n",
    "</ul>\n",
    "\n",
    "\n",
    "La idea del TP1 es obtener información que facilite luego plantear una solución para el TP2.\n",
    "\n",
    "<b>Glosario</b>\n",
    "<ul>\n",
    "<ul>\n",
    "- Convertir: el objetivo de mostrar publicidad es que un dispositivo instale una aplicación, a ese evento se le llama conversión.\n",
    "</ul>\n",
    "</ul>\n",
    "<ul>\n",
    "<ul>\n",
    "- Dispositivo: entidad con un id de publicidad asociado. Por ejemplo: un celular Samsung J6 con Android tiene un id único, un Apple iPhone tiene un identificador único.\n",
    "</ul>\n",
    "</ul>\n",
    "<ul>\n",
    "<ul>\n",
    "- Evento: cualquier tipo de acción categorizada dentro de una aplicación. Por ejemplo, en una aplicación de e-commerce un funnel de eventos muy común puede ser del estilo “abrir_app” → “buscar_producto” → “revisar_catalogo” → “agregar_a_carrito” → “efectuar_compra”. Cada uno de estos pasos es un evento.\n",
    "</ul>\n",
    "</ul>\n",
    "<ul>\n",
    "<ul>\n",
    "- Subasta: en el momento que una aplicación quiere mostrar una publicidad, ese espacio se vende en una subasta (generalmente de segundo precio) donde todos los interesados en mostrar una publicidad ofertan un precio y gana quién más ofrece.\n",
    "</ul>\n",
    "</ul>\n",
    "<br><br><br>"
   ]
  },
  {
   "cell_type": "code",
   "execution_count": 1,
   "metadata": {},
   "outputs": [],
   "source": [
    "##-----------------------------------------------------------------------------------##\n",
    "## Importacion general de librerias y de visualizacion (matplotlib y seaborn)        ##\n",
    "##-----------------------------------------------------------------------------------##\n",
    "\n",
    "import pandas as pd \n",
    "import numpy as np \n",
    "import matplotlib.pyplot as plt\n",
    "import seaborn as sns"
   ]
  },
  {
   "cell_type": "code",
   "execution_count": 2,
   "metadata": {},
   "outputs": [],
   "source": [
    "##-----------------------------------------------------------------------------------##\n",
    "##       Cargamos los archivos que nos proveen para analizar                         ##\n",
    "##-----------------------------------------------------------------------------------##\n",
    "\n",
    "df_clicks= pd.read_csv('clicks.csv'); \n",
    "df_events= pd.read_csv('events.csv',low_memory=False); \n",
    "df_installs= pd.read_csv('installs.csv'); \n",
    "df_auctions= pd.read_csv('auctions.csv'); "
   ]
  },
  {
   "cell_type": "code",
   "execution_count": 3,
   "metadata": {},
   "outputs": [
    {
     "data": {
      "text/plain": [
       "(26351, 20)"
      ]
     },
     "execution_count": 3,
     "metadata": {},
     "output_type": "execute_result"
    }
   ],
   "source": [
    "##-----------------------------------------------------------------------------------##\n",
    "##  Vemos la cantidad de registros y columnas que tiene cada dataset                 ##\n",
    "##-----------------------------------------------------------------------------------##\n",
    "df_clicks.shape"
   ]
  },
  {
   "cell_type": "code",
   "execution_count": 4,
   "metadata": {},
   "outputs": [
    {
     "data": {
      "text/plain": [
       "(2494423, 22)"
      ]
     },
     "execution_count": 4,
     "metadata": {},
     "output_type": "execute_result"
    }
   ],
   "source": [
    "df_events.shape"
   ]
  },
  {
   "cell_type": "code",
   "execution_count": 5,
   "metadata": {},
   "outputs": [
    {
     "data": {
      "text/plain": [
       "(3412, 18)"
      ]
     },
     "execution_count": 5,
     "metadata": {},
     "output_type": "execute_result"
    }
   ],
   "source": [
    "df_installs.shape"
   ]
  },
  {
   "cell_type": "code",
   "execution_count": 6,
   "metadata": {},
   "outputs": [
    {
     "data": {
      "text/plain": [
       "(19571319, 7)"
      ]
     },
     "execution_count": 6,
     "metadata": {},
     "output_type": "execute_result"
    }
   ],
   "source": [
    "df_auctions.shape"
   ]
  },
  {
   "cell_type": "markdown",
   "metadata": {},
   "source": [
    "<H1 align=\"center\">Dataset clicks</H1><br>"
   ]
  },
  {
   "cell_type": "code",
   "execution_count": 7,
   "metadata": {},
   "outputs": [
    {
     "data": {
      "text/html": [
       "<div>\n",
       "<style scoped>\n",
       "    .dataframe tbody tr th:only-of-type {\n",
       "        vertical-align: middle;\n",
       "    }\n",
       "\n",
       "    .dataframe tbody tr th {\n",
       "        vertical-align: top;\n",
       "    }\n",
       "\n",
       "    .dataframe thead th {\n",
       "        text-align: right;\n",
       "    }\n",
       "</style>\n",
       "<table border=\"1\" class=\"dataframe\">\n",
       "  <thead>\n",
       "    <tr style=\"text-align: right;\">\n",
       "      <th></th>\n",
       "      <th>advertiser_id</th>\n",
       "      <th>action_id</th>\n",
       "      <th>source_id</th>\n",
       "      <th>created</th>\n",
       "      <th>country_code</th>\n",
       "      <th>latitude</th>\n",
       "      <th>longitude</th>\n",
       "      <th>wifi_connection</th>\n",
       "      <th>carrier_id</th>\n",
       "      <th>trans_id</th>\n",
       "      <th>os_minor</th>\n",
       "      <th>agent_device</th>\n",
       "      <th>os_major</th>\n",
       "      <th>specs_brand</th>\n",
       "      <th>brand</th>\n",
       "      <th>timeToClick</th>\n",
       "      <th>touchX</th>\n",
       "      <th>touchY</th>\n",
       "      <th>ref_type</th>\n",
       "      <th>ref_hash</th>\n",
       "    </tr>\n",
       "  </thead>\n",
       "  <tbody>\n",
       "    <tr>\n",
       "      <th>0</th>\n",
       "      <td>2</td>\n",
       "      <td>NaN</td>\n",
       "      <td>4</td>\n",
       "      <td>2019-03-06T22:42:12.755Z</td>\n",
       "      <td>6333597102633388268</td>\n",
       "      <td>1.205689</td>\n",
       "      <td>1.070234</td>\n",
       "      <td>False</td>\n",
       "      <td>1.0</td>\n",
       "      <td>iGgClCM9exiHF4K31g94XmvHEBSLKIY</td>\n",
       "      <td>6.768137e+18</td>\n",
       "      <td>NaN</td>\n",
       "      <td>3.072849e+18</td>\n",
       "      <td>2733035977666442898</td>\n",
       "      <td>NaN</td>\n",
       "      <td>1.563</td>\n",
       "      <td>0.905</td>\n",
       "      <td>0.078</td>\n",
       "      <td>1891515180541284343</td>\n",
       "      <td>1904083516767779093</td>\n",
       "    </tr>\n",
       "    <tr>\n",
       "      <th>1</th>\n",
       "      <td>0</td>\n",
       "      <td>NaN</td>\n",
       "      <td>0</td>\n",
       "      <td>2019-03-08T10:24:30.641Z</td>\n",
       "      <td>6333597102633388268</td>\n",
       "      <td>1.218924</td>\n",
       "      <td>1.071209</td>\n",
       "      <td>False</td>\n",
       "      <td>4.0</td>\n",
       "      <td>MMHTOJ6qKAOeIH_Eywh1KIcCaxtO9oM</td>\n",
       "      <td>3.025219e+18</td>\n",
       "      <td>NaN</td>\n",
       "      <td>1.774085e+18</td>\n",
       "      <td>392184377613098015</td>\n",
       "      <td>NaN</td>\n",
       "      <td>NaN</td>\n",
       "      <td>NaN</td>\n",
       "      <td>NaN</td>\n",
       "      <td>1891515180541284343</td>\n",
       "      <td>3086509764961796666</td>\n",
       "    </tr>\n",
       "    <tr>\n",
       "      <th>2</th>\n",
       "      <td>0</td>\n",
       "      <td>NaN</td>\n",
       "      <td>0</td>\n",
       "      <td>2019-03-08T15:24:16.069Z</td>\n",
       "      <td>6333597102633388268</td>\n",
       "      <td>1.205689</td>\n",
       "      <td>1.070234</td>\n",
       "      <td>False</td>\n",
       "      <td>6.0</td>\n",
       "      <td>vIrEIdf9izUaWdAri6Ezk7T3nHFvNQU</td>\n",
       "      <td>5.975656e+18</td>\n",
       "      <td>NaN</td>\n",
       "      <td>3.072849e+18</td>\n",
       "      <td>392184377613098015</td>\n",
       "      <td>NaN</td>\n",
       "      <td>NaN</td>\n",
       "      <td>0.946</td>\n",
       "      <td>0.473</td>\n",
       "      <td>1891515180541284343</td>\n",
       "      <td>6958163894863846647</td>\n",
       "    </tr>\n",
       "  </tbody>\n",
       "</table>\n",
       "</div>"
      ],
      "text/plain": [
       "   advertiser_id  action_id  source_id                   created  \\\n",
       "0              2        NaN          4  2019-03-06T22:42:12.755Z   \n",
       "1              0        NaN          0  2019-03-08T10:24:30.641Z   \n",
       "2              0        NaN          0  2019-03-08T15:24:16.069Z   \n",
       "\n",
       "          country_code  latitude  longitude  wifi_connection  carrier_id  \\\n",
       "0  6333597102633388268  1.205689   1.070234            False         1.0   \n",
       "1  6333597102633388268  1.218924   1.071209            False         4.0   \n",
       "2  6333597102633388268  1.205689   1.070234            False         6.0   \n",
       "\n",
       "                          trans_id      os_minor  agent_device      os_major  \\\n",
       "0  iGgClCM9exiHF4K31g94XmvHEBSLKIY  6.768137e+18           NaN  3.072849e+18   \n",
       "1  MMHTOJ6qKAOeIH_Eywh1KIcCaxtO9oM  3.025219e+18           NaN  1.774085e+18   \n",
       "2  vIrEIdf9izUaWdAri6Ezk7T3nHFvNQU  5.975656e+18           NaN  3.072849e+18   \n",
       "\n",
       "           specs_brand  brand  timeToClick  touchX  touchY  \\\n",
       "0  2733035977666442898    NaN        1.563   0.905   0.078   \n",
       "1   392184377613098015    NaN          NaN     NaN     NaN   \n",
       "2   392184377613098015    NaN          NaN   0.946   0.473   \n",
       "\n",
       "              ref_type             ref_hash  \n",
       "0  1891515180541284343  1904083516767779093  \n",
       "1  1891515180541284343  3086509764961796666  \n",
       "2  1891515180541284343  6958163894863846647  "
      ]
     },
     "execution_count": 7,
     "metadata": {},
     "output_type": "execute_result"
    }
   ],
   "source": [
    "##-----------------------------------------------------------------------------------##\n",
    "## Visualizamos los primeros registros del dataset Clicks.csv y                      ##\n",
    "## contabilizamos los valores que tiene cada columna                                 ##\n",
    "##-----------------------------------------------------------------------------------##\n",
    "\n",
    "df_clicks.head(3)"
   ]
  },
  {
   "cell_type": "code",
   "execution_count": 8,
   "metadata": {},
   "outputs": [
    {
     "data": {
      "text/plain": [
       "advertiser_id      26351\n",
       "action_id              0\n",
       "source_id          26351\n",
       "created            26351\n",
       "country_code       26351\n",
       "latitude           26351\n",
       "longitude          26351\n",
       "wifi_connection    26351\n",
       "carrier_id         26340\n",
       "trans_id           26351\n",
       "os_minor           26339\n",
       "agent_device        3243\n",
       "os_major           26339\n",
       "specs_brand        26351\n",
       "brand               6235\n",
       "timeToClick        22977\n",
       "touchX             23011\n",
       "touchY             23011\n",
       "ref_type           26351\n",
       "ref_hash           26351\n",
       "dtype: int64"
      ]
     },
     "execution_count": 8,
     "metadata": {},
     "output_type": "execute_result"
    }
   ],
   "source": [
    "df_clicks.count()"
   ]
  },
  {
   "cell_type": "code",
   "execution_count": 9,
   "metadata": {},
   "outputs": [
    {
     "data": {
      "text/plain": [
       "True    26351\n",
       "Name: action_id, dtype: int64"
      ]
     },
     "execution_count": 9,
     "metadata": {},
     "output_type": "execute_result"
    }
   ],
   "source": [
    "df_clicks.action_id.isnull().value_counts()\n"
   ]
  },
  {
   "cell_type": "code",
   "execution_count": 10,
   "metadata": {},
   "outputs": [
    {
     "data": {
      "text/plain": [
       "6333597102633388268    26351\n",
       "Name: country_code, dtype: int64"
      ]
     },
     "execution_count": 10,
     "metadata": {},
     "output_type": "execute_result"
    }
   ],
   "source": [
    "df_clicks.country_code.value_counts()\n"
   ]
  },
  {
   "cell_type": "code",
   "execution_count": 11,
   "metadata": {},
   "outputs": [
    {
     "data": {
      "text/plain": [
       "False    26351\n",
       "Name: wifi_connection, dtype: int64"
      ]
     },
     "execution_count": 11,
     "metadata": {},
     "output_type": "execute_result"
    }
   ],
   "source": [
    "df_clicks.wifi_connection.value_counts()"
   ]
  },
  {
   "cell_type": "code",
   "execution_count": 12,
   "metadata": {},
   "outputs": [
    {
     "data": {
      "text/plain": [
       "True     20116\n",
       "False     6235\n",
       "Name: brand, dtype: int64"
      ]
     },
     "execution_count": 12,
     "metadata": {},
     "output_type": "execute_result"
    }
   ],
   "source": [
    "df_clicks.brand.isnull().value_counts()"
   ]
  },
  {
   "cell_type": "code",
   "execution_count": 13,
   "metadata": {},
   "outputs": [
    {
     "data": {
      "text/plain": [
       "False    22977\n",
       "True      3374\n",
       "Name: timeToClick, dtype: int64"
      ]
     },
     "execution_count": 13,
     "metadata": {},
     "output_type": "execute_result"
    }
   ],
   "source": [
    "df_clicks.timeToClick.isnull().value_counts()"
   ]
  },
  {
   "cell_type": "code",
   "execution_count": 14,
   "metadata": {},
   "outputs": [
    {
     "data": {
      "text/plain": [
       "False    23011\n",
       "True      3340\n",
       "Name: touchX, dtype: int64"
      ]
     },
     "execution_count": 14,
     "metadata": {},
     "output_type": "execute_result"
    }
   ],
   "source": [
    "df_clicks.touchX.isnull().value_counts()"
   ]
  },
  {
   "cell_type": "code",
   "execution_count": 15,
   "metadata": {},
   "outputs": [
    {
     "data": {
      "text/plain": [
       "False    23011\n",
       "True      3340\n",
       "Name: touchY, dtype: int64"
      ]
     },
     "execution_count": 15,
     "metadata": {},
     "output_type": "execute_result"
    }
   ],
   "source": [
    "df_clicks.touchY.isnull().value_counts()"
   ]
  },
  {
   "cell_type": "markdown",
   "metadata": {},
   "source": [
    "A priori observamos lo siguiente: \n",
    "<ul>\n",
    "<li>\n",
    "action_id tiene todos los registros nulos, por lo que no nos aporta información para analizar.\n",
    "</li>\n",
    "<li>\n",
    "country_code tiene solamente el código de un país, por lo que tampoco nos aporta algo en particular.\n",
    "</li>\n",
    "<li>    \n",
    "brand tiene un 76% de valores nulos. No obstante, nos va a permitir ver una tendencia basado en las marcas por lo que lo utilizaremos en el análisis.\n",
    "</li>\n",
    "<li>\n",
    "timeToClick tiene un 12,8% de valores nulos. Asumimos que estos valores nulos pueden deberse a problemas en la inserción del registro o bien problemas del sistema, por lo que no los tendremos en consideración para el análisis.\n",
    "</li>\n",
    "<li>\n",
    "Tanto touchX como touchY tienen un 12,7% de valores nulos. Vamos a asumir lo mismo que en el punto anterior, y también los transformaremos en coordenadas 0,0.\n",
    "</li>\n",
    "</ul>"
   ]
  },
  {
   "cell_type": "markdown",
   "metadata": {},
   "source": [
    "Con touchX y touchY haremos un gráfico de dispersión para ver cómo se distribuyen los clicks."
   ]
  },
  {
   "cell_type": "code",
   "execution_count": 16,
   "metadata": {},
   "outputs": [],
   "source": [
    "df_clicks.touchX = df_clicks.touchX.replace(np.NaN,0)\n",
    "df_clicks.touchY = df_clicks.touchY.replace(np.NaN,0)"
   ]
  },
  {
   "cell_type": "code",
   "execution_count": 17,
   "metadata": {},
   "outputs": [
    {
     "data": {
      "text/plain": [
       "<matplotlib.collections.PathCollection at 0x11fb473c8>"
      ]
     },
     "execution_count": 17,
     "metadata": {},
     "output_type": "execute_result"
    },
    {
     "data": {
      "image/png": "[encoded data removed]",
      "text/plain": [
       "<Figure size 720x720 with 1 Axes>"
      ]
     },
     "metadata": {
      "needs_background": "light"
     },
     "output_type": "display_data"
    }
   ],
   "source": [
    "plt.figure(figsize=(10,10))\n",
    "plt.scatter(df_clicks.touchX, df_clicks.touchY)"
   ]
  },
  {
   "cell_type": "markdown",
   "metadata": {},
   "source": [
    "En este caso observamos que la mayoría de los clicks se distribuyen en dos grupos:\n",
    "<ul>\n",
    "    <li>\n",
    "X=(0, 1) e Y=(0, 2.5)\n",
    "    </li>\n",
    "    <li>\n",
    "X=(0.7, 0.9) e Y=(5, 10)  \n",
    "    </li>\n",
    "</ul>"
   ]
  },
  {
   "cell_type": "markdown",
   "metadata": {},
   "source": [
    "Utilizamos timeToClick para ver cuál es el tiempo promedio en el que se realiza un click"
   ]
  },
  {
   "cell_type": "code",
   "execution_count": 18,
   "metadata": {},
   "outputs": [
    {
     "data": {
      "text/plain": [
       "230.39417678548114"
      ]
     },
     "execution_count": 18,
     "metadata": {},
     "output_type": "execute_result"
    }
   ],
   "source": [
    "df_clicks.timeToClick.round().mean()"
   ]
  },
  {
   "cell_type": "code",
   "execution_count": 61,
   "metadata": {},
   "outputs": [
    {
     "data": {
      "image/png": "[encoded data removed]",
      "text/plain": [
       "<Figure size 1080x360 with 1 Axes>"
      ]
     },
     "metadata": {
      "needs_background": "light"
     },
     "output_type": "display_data"
    }
   ],
   "source": [
    "clicks_per_time = df_clicks.timeToClick.round().value_counts(sort=True).reset_index().sort_values(['timeToClick'], ascending=False)\n",
    "\n",
    "clicks_per_time = clicks_per_time.loc[0:25,]\n",
    "plt.figure(figsize=(15,5))\n",
    "ax=sns.barplot(clicks_per_time.index, clicks_per_time.timeToClick, alpha=0.8)\n",
    "ax.set_xticklabels(clicks_per_time['index'])\n",
    "plt.title('Top 25 - Cantidad de clicks por segundo')\n",
    "plt.ylabel('Clicks', fontsize=12)\n",
    "plt.xlabel('Time to click (s)', fontsize=12)\n",
    "plt.xticks(rotation=90)\n",
    "plt.show()"
   ]
  },
  {
   "cell_type": "code",
   "execution_count": 20,
   "metadata": {},
   "outputs": [
    {
     "data": {
      "text/html": [
       "<div>\n",
       "<style scoped>\n",
       "    .dataframe tbody tr th:only-of-type {\n",
       "        vertical-align: middle;\n",
       "    }\n",
       "\n",
       "    .dataframe tbody tr th {\n",
       "        vertical-align: top;\n",
       "    }\n",
       "\n",
       "    .dataframe thead th {\n",
       "        text-align: right;\n",
       "    }\n",
       "</style>\n",
       "<table border=\"1\" class=\"dataframe\">\n",
       "  <thead>\n",
       "    <tr style=\"text-align: right;\">\n",
       "      <th></th>\n",
       "      <th>index</th>\n",
       "      <th>timeToClick</th>\n",
       "    </tr>\n",
       "  </thead>\n",
       "  <tbody>\n",
       "    <tr>\n",
       "      <th>0</th>\n",
       "      <td>2.0</td>\n",
       "      <td>2248</td>\n",
       "    </tr>\n",
       "    <tr>\n",
       "      <th>1</th>\n",
       "      <td>3.0</td>\n",
       "      <td>1610</td>\n",
       "    </tr>\n",
       "    <tr>\n",
       "      <th>2</th>\n",
       "      <td>1.0</td>\n",
       "      <td>1585</td>\n",
       "    </tr>\n",
       "    <tr>\n",
       "      <th>3</th>\n",
       "      <td>4.0</td>\n",
       "      <td>1254</td>\n",
       "    </tr>\n",
       "    <tr>\n",
       "      <th>4</th>\n",
       "      <td>0.0</td>\n",
       "      <td>1189</td>\n",
       "    </tr>\n",
       "    <tr>\n",
       "      <th>5</th>\n",
       "      <td>5.0</td>\n",
       "      <td>891</td>\n",
       "    </tr>\n",
       "    <tr>\n",
       "      <th>6</th>\n",
       "      <td>6.0</td>\n",
       "      <td>666</td>\n",
       "    </tr>\n",
       "    <tr>\n",
       "      <th>7</th>\n",
       "      <td>7.0</td>\n",
       "      <td>547</td>\n",
       "    </tr>\n",
       "    <tr>\n",
       "      <th>8</th>\n",
       "      <td>8.0</td>\n",
       "      <td>523</td>\n",
       "    </tr>\n",
       "    <tr>\n",
       "      <th>9</th>\n",
       "      <td>9.0</td>\n",
       "      <td>496</td>\n",
       "    </tr>\n",
       "    <tr>\n",
       "      <th>10</th>\n",
       "      <td>10.0</td>\n",
       "      <td>449</td>\n",
       "    </tr>\n",
       "    <tr>\n",
       "      <th>11</th>\n",
       "      <td>11.0</td>\n",
       "      <td>395</td>\n",
       "    </tr>\n",
       "    <tr>\n",
       "      <th>12</th>\n",
       "      <td>13.0</td>\n",
       "      <td>353</td>\n",
       "    </tr>\n",
       "    <tr>\n",
       "      <th>13</th>\n",
       "      <td>12.0</td>\n",
       "      <td>344</td>\n",
       "    </tr>\n",
       "    <tr>\n",
       "      <th>14</th>\n",
       "      <td>15.0</td>\n",
       "      <td>334</td>\n",
       "    </tr>\n",
       "    <tr>\n",
       "      <th>15</th>\n",
       "      <td>14.0</td>\n",
       "      <td>307</td>\n",
       "    </tr>\n",
       "    <tr>\n",
       "      <th>16</th>\n",
       "      <td>16.0</td>\n",
       "      <td>223</td>\n",
       "    </tr>\n",
       "    <tr>\n",
       "      <th>17</th>\n",
       "      <td>17.0</td>\n",
       "      <td>192</td>\n",
       "    </tr>\n",
       "    <tr>\n",
       "      <th>18</th>\n",
       "      <td>18.0</td>\n",
       "      <td>178</td>\n",
       "    </tr>\n",
       "    <tr>\n",
       "      <th>19</th>\n",
       "      <td>21.0</td>\n",
       "      <td>168</td>\n",
       "    </tr>\n",
       "    <tr>\n",
       "      <th>20</th>\n",
       "      <td>19.0</td>\n",
       "      <td>168</td>\n",
       "    </tr>\n",
       "    <tr>\n",
       "      <th>21</th>\n",
       "      <td>20.0</td>\n",
       "      <td>152</td>\n",
       "    </tr>\n",
       "    <tr>\n",
       "      <th>22</th>\n",
       "      <td>22.0</td>\n",
       "      <td>145</td>\n",
       "    </tr>\n",
       "    <tr>\n",
       "      <th>23</th>\n",
       "      <td>25.0</td>\n",
       "      <td>126</td>\n",
       "    </tr>\n",
       "    <tr>\n",
       "      <th>24</th>\n",
       "      <td>23.0</td>\n",
       "      <td>116</td>\n",
       "    </tr>\n",
       "    <tr>\n",
       "      <th>25</th>\n",
       "      <td>24.0</td>\n",
       "      <td>115</td>\n",
       "    </tr>\n",
       "  </tbody>\n",
       "</table>\n",
       "</div>"
      ],
      "text/plain": [
       "    index  timeToClick\n",
       "0     2.0         2248\n",
       "1     3.0         1610\n",
       "2     1.0         1585\n",
       "3     4.0         1254\n",
       "4     0.0         1189\n",
       "5     5.0          891\n",
       "6     6.0          666\n",
       "7     7.0          547\n",
       "8     8.0          523\n",
       "9     9.0          496\n",
       "10   10.0          449\n",
       "11   11.0          395\n",
       "12   13.0          353\n",
       "13   12.0          344\n",
       "14   15.0          334\n",
       "15   14.0          307\n",
       "16   16.0          223\n",
       "17   17.0          192\n",
       "18   18.0          178\n",
       "19   21.0          168\n",
       "20   19.0          168\n",
       "21   20.0          152\n",
       "22   22.0          145\n",
       "23   25.0          126\n",
       "24   23.0          116\n",
       "25   24.0          115"
      ]
     },
     "execution_count": 20,
     "metadata": {},
     "output_type": "execute_result"
    }
   ],
   "source": [
    "clicks_per_time"
   ]
  },
  {
   "cell_type": "markdown",
   "metadata": {},
   "source": [
    "Si bien se observa que alrededor del 57% de la cantidad de clicks (13191 / 22977) se encuentran distribuidos en los primeros 15 segundos, hay varios clicks que se dan pasados varios minutos y hasta horas. Puede deberse a algún tipo de error que desconocemos o realmente sucede así. Nosotros decidimos tomarlos como válidos y en base a esto la media de tiempo hasta hacer click es de 3 minutos 20 segundos."
   ]
  },
  {
   "cell_type": "markdown",
   "metadata": {},
   "source": [
    "Analizamos la fecha de creación del click para ver cómo se distribuyen."
   ]
  },
  {
   "cell_type": "code",
   "execution_count": 21,
   "metadata": {},
   "outputs": [],
   "source": [
    "#Convertimos el campo de fecha de creación del click en tipo datetime.\n",
    "df_clicks.created = pd.to_datetime(df_clicks.created)"
   ]
  },
  {
   "cell_type": "code",
   "execution_count": 22,
   "metadata": {},
   "outputs": [
    {
     "name": "stdout",
     "output_type": "stream",
     "text": [
      "                        dia  cantidad\n",
      "7 2019-03-05 00:00:00+00:00        31\n",
      "8 2019-03-06 00:00:00+00:00        14\n",
      "5 2019-03-07 00:00:00+00:00      2989\n",
      "6 2019-03-08 00:00:00+00:00      2839\n",
      "4 2019-03-09 00:00:00+00:00      3283\n",
      "2 2019-03-10 00:00:00+00:00      3966\n",
      "1 2019-03-11 00:00:00+00:00      4557\n",
      "0 2019-03-12 00:00:00+00:00      5204\n",
      "3 2019-03-13 00:00:00+00:00      3468\n"
     ]
    }
   ],
   "source": [
    "#Obtenemos la cantidad de clicks que se realizaron por día.\n",
    "df_clicks_por_dia = df_clicks.created\\\n",
    "       .dt.floor('d')\\\n",
    "       .value_counts()\\\n",
    "       .rename_axis('dia')\\\n",
    "       .reset_index(name='cantidad')\\\n",
    "       .sort_values(by='dia', ascending=True)\n",
    "\n",
    "print(df_clicks_por_dia)"
   ]
  },
  {
   "cell_type": "code",
   "execution_count": 23,
   "metadata": {},
   "outputs": [
    {
     "data": {
      "image/png": "[encoded data removed]",
      "text/plain": [
       "<Figure size 720x360 with 1 Axes>"
      ]
     },
     "metadata": {
      "needs_background": "light"
     },
     "output_type": "display_data"
    }
   ],
   "source": [
    "plt.figure(figsize=(10,5))\n",
    "plt.bar(np.arange(len(df_clicks_por_dia)), df_clicks_por_dia.cantidad, align='center', alpha=0.5)\n",
    "plt.xticks(np.arange(len(df_clicks_por_dia)), df_clicks_por_dia.dia.dt.date,rotation=90)\n",
    "plt.ylabel('Clicks')\n",
    "plt.xlabel('Fecha')\n",
    "plt.title('Cantidad de clicks por dia')\n",
    " \n",
    "plt.show()"
   ]
  },
  {
   "cell_type": "markdown",
   "metadata": {},
   "source": [
    "Vamos a observar cómo se distribuyen los clicks dependiendo del Carrier y vemos el top 10"
   ]
  },
  {
   "cell_type": "code",
   "execution_count": 24,
   "metadata": {},
   "outputs": [
    {
     "name": "stdout",
     "output_type": "stream",
     "text": [
      "    carrier_id  count\n",
      "0          4.0   4569\n",
      "1          6.0   3474\n",
      "2          1.0   3307\n",
      "3         13.0   2998\n",
      "4          3.0   2944\n",
      "5         12.0   2273\n",
      "6          0.0   1368\n",
      "7         10.0    753\n",
      "8         14.0    588\n",
      "9          9.0    555\n",
      "10        17.0    519\n",
      "11        19.0    496\n",
      "12        18.0    468\n",
      "13        22.0    462\n",
      "14         2.0    264\n",
      "15        15.0    263\n",
      "16         5.0    212\n",
      "17        21.0    211\n",
      "18        25.0    202\n",
      "19        30.0    121\n",
      "20        24.0    117\n",
      "21        27.0     58\n",
      "22        29.0     33\n",
      "23        67.0     13\n",
      "24        33.0     12\n",
      "26        26.0      6\n",
      "27        45.0      6\n",
      "25        76.0      6\n",
      "29        28.0      3\n",
      "30        31.0      3\n",
      "28        91.0      3\n",
      "35        37.0      2\n",
      "39        55.0      2\n",
      "38        39.0      2\n",
      "36        11.0      2\n",
      "37       115.0      2\n",
      "34        65.0      2\n",
      "33        59.0      2\n",
      "32        93.0      2\n",
      "31        48.0      2\n",
      "47        80.0      1\n",
      "53        34.0      1\n",
      "52        69.0      1\n",
      "51       106.0      1\n",
      "50        77.0      1\n",
      "49        75.0      1\n",
      "48       105.0      1\n",
      "41       102.0      1\n",
      "46        52.0      1\n",
      "45       113.0      1\n",
      "44        74.0      1\n",
      "43        35.0      1\n",
      "42       116.0      1\n",
      "40       112.0      1\n",
      "54       103.0      1\n"
     ]
    }
   ],
   "source": [
    "#Obtenemos la cantidad de clicks por carrier\n",
    "clicks_by_carrier = df_clicks.carrier_id.value_counts(sort=True).reset_index().sort_values(['carrier_id'], ascending=False)\n",
    "print(clicks_by_carrier.rename(columns = {'index':'carrier_id','carrier_id':'count'}))"
   ]
  },
  {
   "cell_type": "code",
   "execution_count": 25,
   "metadata": {},
   "outputs": [
    {
     "data": {
      "image/png": "[encoded data removed]",
      "text/plain": [
       "<Figure size 1080x720 with 1 Axes>"
      ]
     },
     "metadata": {
      "needs_background": "light"
     },
     "output_type": "display_data"
    }
   ],
   "source": [
    "#Nos quedamos sólo con el top 10 de carriers en los cuales se realizaron más clicks.\n",
    "\n",
    "clicks_by_carrier = clicks_by_carrier.loc[:10,]\n",
    "plt.figure(figsize=(15,10))\n",
    "ax=sns.barplot(clicks_by_carrier.index, clicks_by_carrier.carrier_id, alpha=0.8)\n",
    "ax.set_xticklabels(clicks_by_carrier['index'])\n",
    "plt.title('Top 10 clicks por carriers')\n",
    "plt.ylabel('Clicks', fontsize=12)\n",
    "plt.xlabel('ID CARRIER', fontsize=12)\n",
    "plt.show()"
   ]
  },
  {
   "cell_type": "markdown",
   "metadata": {},
   "source": [
    "De acá se desprende que los usuarios del Carrier \"4\" son los que más hacen clicks por encima de los demás Carriers."
   ]
  },
  {
   "cell_type": "markdown",
   "metadata": {},
   "source": [
    "Como dijimos antes, en el campo de marca tenemos más del 75% de campos nulos, pero podemos utilizar la info existente para mostrar, tendencialmente, cuáles son las marcas en las cuales se hacen más clicks."
   ]
  },
  {
   "cell_type": "code",
   "execution_count": 26,
   "metadata": {},
   "outputs": [
    {
     "name": "stdout",
     "output_type": "stream",
     "text": [
      "    brand  count\n",
      "0     2.0   2027\n",
      "1     0.0   1917\n",
      "2     1.0   1521\n",
      "3     4.0    240\n",
      "4     3.0    186\n",
      "5     5.0    129\n",
      "6     6.0    124\n",
      "7     7.0     32\n",
      "8     9.0     31\n",
      "9     8.0     16\n",
      "10   10.0      8\n",
      "11   12.0      3\n",
      "12   13.0      1\n"
     ]
    }
   ],
   "source": [
    "clicks_by_brand = df_clicks.brand.value_counts(sort=True).reset_index().sort_values(['brand'], ascending=False)\n",
    "print(clicks_by_brand.rename(columns = {'index':'brand','brand':'count'}))"
   ]
  },
  {
   "cell_type": "code",
   "execution_count": 27,
   "metadata": {
    "scrolled": false
   },
   "outputs": [
    {
     "data": {
      "image/png": "[encoded data removed]",
      "text/plain": [
       "<Figure size 1080x720 with 1 Axes>"
      ]
     },
     "metadata": {
      "needs_background": "light"
     },
     "output_type": "display_data"
    }
   ],
   "source": [
    "#Nos quedamos solo con el top 10 de marcas en las cuales se realizaron más clicks.\n",
    "\n",
    "clicks_by_brand = clicks_by_brand.loc[:10,]\n",
    "plt.figure(figsize=(15,10))\n",
    "ax=sns.barplot(clicks_by_brand.index, clicks_by_brand.brand, alpha=0.8)\n",
    "ax.set_xticklabels(clicks_by_brand['index'])\n",
    "plt.title('Top 10 clicks por Marca')\n",
    "plt.ylabel('Clicks', fontsize=12)\n",
    "plt.xlabel('Marca', fontsize=12)\n",
    "plt.show()"
   ]
  },
  {
   "cell_type": "markdown",
   "metadata": {},
   "source": [
    "Se visualiza que en las marcas \"2\" y \"0\" es en donde más clicks se hacen."
   ]
  },
  {
   "cell_type": "markdown",
   "metadata": {},
   "source": [
    "<H1 align=\"center\">Dataset events</H1><br>"
   ]
  },
  {
   "cell_type": "code",
   "execution_count": 62,
   "metadata": {},
   "outputs": [
    {
     "data": {
      "text/html": [
       "<div>\n",
       "<style scoped>\n",
       "    .dataframe tbody tr th:only-of-type {\n",
       "        vertical-align: middle;\n",
       "    }\n",
       "\n",
       "    .dataframe tbody tr th {\n",
       "        vertical-align: top;\n",
       "    }\n",
       "\n",
       "    .dataframe thead th {\n",
       "        text-align: right;\n",
       "    }\n",
       "</style>\n",
       "<table border=\"1\" class=\"dataframe\">\n",
       "  <thead>\n",
       "    <tr style=\"text-align: right;\">\n",
       "      <th></th>\n",
       "      <th>date</th>\n",
       "      <th>event_id</th>\n",
       "      <th>ref_type</th>\n",
       "      <th>ref_hash</th>\n",
       "      <th>application_id</th>\n",
       "      <th>attributed</th>\n",
       "      <th>device_countrycode</th>\n",
       "      <th>device_os_version</th>\n",
       "      <th>device_brand</th>\n",
       "      <th>device_model</th>\n",
       "      <th>...</th>\n",
       "      <th>trans_id</th>\n",
       "      <th>user_agent</th>\n",
       "      <th>event_uuid</th>\n",
       "      <th>carrier</th>\n",
       "      <th>kind</th>\n",
       "      <th>device_os</th>\n",
       "      <th>wifi</th>\n",
       "      <th>connection_type</th>\n",
       "      <th>ip_address</th>\n",
       "      <th>device_language</th>\n",
       "    </tr>\n",
       "  </thead>\n",
       "  <tbody>\n",
       "    <tr>\n",
       "      <th>0</th>\n",
       "      <td>2019-03-05 00:09:36.966</td>\n",
       "      <td>0</td>\n",
       "      <td>1891515180541284343</td>\n",
       "      <td>2688759737656491380</td>\n",
       "      <td>38</td>\n",
       "      <td>False</td>\n",
       "      <td>6333597102633388268</td>\n",
       "      <td>5.908703e+17</td>\n",
       "      <td>NaN</td>\n",
       "      <td>5.990117e+18</td>\n",
       "      <td>...</td>\n",
       "      <td>NaN</td>\n",
       "      <td>NaN</td>\n",
       "      <td>a9c0b263-acb2-4577-92c5-cbde5d7a5db1</td>\n",
       "      <td>2.248157e+17</td>\n",
       "      <td>5.516623e+18</td>\n",
       "      <td>7.531669e+18</td>\n",
       "      <td>NaN</td>\n",
       "      <td>Cable/DSL</td>\n",
       "      <td>7858558567428669000</td>\n",
       "      <td>4.077062e+17</td>\n",
       "    </tr>\n",
       "    <tr>\n",
       "      <th>1</th>\n",
       "      <td>2019-03-05 00:09:38.920</td>\n",
       "      <td>1</td>\n",
       "      <td>1891515180541284343</td>\n",
       "      <td>2688759737656491380</td>\n",
       "      <td>38</td>\n",
       "      <td>False</td>\n",
       "      <td>6333597102633388268</td>\n",
       "      <td>5.908703e+17</td>\n",
       "      <td>NaN</td>\n",
       "      <td>5.990117e+18</td>\n",
       "      <td>...</td>\n",
       "      <td>NaN</td>\n",
       "      <td>NaN</td>\n",
       "      <td>1cd98205-0d97-4ec2-a019-667997dbfe7a</td>\n",
       "      <td>2.248157e+17</td>\n",
       "      <td>9.977660e+17</td>\n",
       "      <td>7.531669e+18</td>\n",
       "      <td>NaN</td>\n",
       "      <td>Cable/DSL</td>\n",
       "      <td>7858558567428669000</td>\n",
       "      <td>4.077062e+17</td>\n",
       "    </tr>\n",
       "    <tr>\n",
       "      <th>2</th>\n",
       "      <td>2019-03-05 00:09:26.195</td>\n",
       "      <td>0</td>\n",
       "      <td>1891515180541284343</td>\n",
       "      <td>2688759737656491380</td>\n",
       "      <td>38</td>\n",
       "      <td>False</td>\n",
       "      <td>6333597102633388268</td>\n",
       "      <td>5.908703e+17</td>\n",
       "      <td>NaN</td>\n",
       "      <td>5.990117e+18</td>\n",
       "      <td>...</td>\n",
       "      <td>NaN</td>\n",
       "      <td>NaN</td>\n",
       "      <td>f02e2924-21ae-492b-b625-9021ae0a4eca</td>\n",
       "      <td>2.248157e+17</td>\n",
       "      <td>5.516623e+18</td>\n",
       "      <td>7.531669e+18</td>\n",
       "      <td>NaN</td>\n",
       "      <td>Cable/DSL</td>\n",
       "      <td>7858558567428669000</td>\n",
       "      <td>4.077062e+17</td>\n",
       "    </tr>\n",
       "  </tbody>\n",
       "</table>\n",
       "<p>3 rows × 22 columns</p>\n",
       "</div>"
      ],
      "text/plain": [
       "                     date  event_id             ref_type             ref_hash  \\\n",
       "0 2019-03-05 00:09:36.966         0  1891515180541284343  2688759737656491380   \n",
       "1 2019-03-05 00:09:38.920         1  1891515180541284343  2688759737656491380   \n",
       "2 2019-03-05 00:09:26.195         0  1891515180541284343  2688759737656491380   \n",
       "\n",
       "   application_id  attributed   device_countrycode  device_os_version  \\\n",
       "0              38       False  6333597102633388268       5.908703e+17   \n",
       "1              38       False  6333597102633388268       5.908703e+17   \n",
       "2              38       False  6333597102633388268       5.908703e+17   \n",
       "\n",
       "   device_brand  device_model  ...  trans_id  user_agent  \\\n",
       "0           NaN  5.990117e+18  ...       NaN         NaN   \n",
       "1           NaN  5.990117e+18  ...       NaN         NaN   \n",
       "2           NaN  5.990117e+18  ...       NaN         NaN   \n",
       "\n",
       "                             event_uuid       carrier          kind  \\\n",
       "0  a9c0b263-acb2-4577-92c5-cbde5d7a5db1  2.248157e+17  5.516623e+18   \n",
       "1  1cd98205-0d97-4ec2-a019-667997dbfe7a  2.248157e+17  9.977660e+17   \n",
       "2  f02e2924-21ae-492b-b625-9021ae0a4eca  2.248157e+17  5.516623e+18   \n",
       "\n",
       "      device_os  wifi  connection_type           ip_address device_language  \n",
       "0  7.531669e+18   NaN        Cable/DSL  7858558567428669000    4.077062e+17  \n",
       "1  7.531669e+18   NaN        Cable/DSL  7858558567428669000    4.077062e+17  \n",
       "2  7.531669e+18   NaN        Cable/DSL  7858558567428669000    4.077062e+17  \n",
       "\n",
       "[3 rows x 22 columns]"
      ]
     },
     "execution_count": 62,
     "metadata": {},
     "output_type": "execute_result"
    }
   ],
   "source": [
    "##-----------------------------------------------------------------------------------##\n",
    "## Visualizamos los primeros registros del dataset events.csv y                      ##\n",
    "## contabilizamos los valores que tiene cada columna                                 ##\n",
    "##-----------------------------------------------------------------------------------##\n",
    "df_events.head(3)"
   ]
  },
  {
   "cell_type": "code",
   "execution_count": 29,
   "metadata": {},
   "outputs": [
    {
     "data": {
      "text/plain": [
       "date                  2494423\n",
       "event_id              2494423\n",
       "ref_type              2494423\n",
       "ref_hash              2494423\n",
       "application_id        2494423\n",
       "attributed            2494423\n",
       "device_countrycode    2494423\n",
       "device_os_version     1022066\n",
       "device_brand          1164963\n",
       "device_model          2406456\n",
       "device_city            614698\n",
       "session_user_agent    2482637\n",
       "trans_id                   82\n",
       "user_agent            1391527\n",
       "event_uuid            2489324\n",
       "carrier                616434\n",
       "kind                  2489324\n",
       "device_os              657667\n",
       "wifi                  1378872\n",
       "connection_type        612463\n",
       "ip_address            2494423\n",
       "device_language       2406604\n",
       "dtype: int64"
      ]
     },
     "execution_count": 29,
     "metadata": {},
     "output_type": "execute_result"
    }
   ],
   "source": [
    "df_events.count()"
   ]
  },
  {
   "cell_type": "code",
   "execution_count": 63,
   "metadata": {},
   "outputs": [
    {
     "data": {
      "text/plain": [
       "True     2494341\n",
       "False         82\n",
       "Name: trans_id, dtype: int64"
      ]
     },
     "execution_count": 63,
     "metadata": {},
     "output_type": "execute_result"
    }
   ],
   "source": [
    "df_events.trans_id.isnull().value_counts()"
   ]
  },
  {
   "cell_type": "code",
   "execution_count": 65,
   "metadata": {},
   "outputs": [
    {
     "data": {
      "text/plain": [
       "True     1472357\n",
       "False    1022066\n",
       "Name: device_os_version, dtype: int64"
      ]
     },
     "execution_count": 65,
     "metadata": {},
     "output_type": "execute_result"
    }
   ],
   "source": [
    "df_events.device_os_version.isnull().value_counts()"
   ]
  },
  {
   "cell_type": "code",
   "execution_count": 66,
   "metadata": {},
   "outputs": [
    {
     "data": {
      "text/plain": [
       "True     1329460\n",
       "False    1164963\n",
       "Name: device_brand, dtype: int64"
      ]
     },
     "execution_count": 66,
     "metadata": {},
     "output_type": "execute_result"
    }
   ],
   "source": [
    "df_events.device_brand.isnull().value_counts()"
   ]
  },
  {
   "cell_type": "code",
   "execution_count": 70,
   "metadata": {},
   "outputs": [
    {
     "data": {
      "text/plain": [
       "True     1877989\n",
       "False     616434\n",
       "Name: carrier, dtype: int64"
      ]
     },
     "execution_count": 70,
     "metadata": {},
     "output_type": "execute_result"
    }
   ],
   "source": [
    "df_events.carrier.isnull().value_counts()"
   ]
  },
  {
   "cell_type": "code",
   "execution_count": 72,
   "metadata": {},
   "outputs": [
    {
     "data": {
      "text/plain": [
       "True     1881960\n",
       "False     612463\n",
       "Name: connection_type, dtype: int64"
      ]
     },
     "execution_count": 72,
     "metadata": {},
     "output_type": "execute_result"
    }
   ],
   "source": [
    "df_events.connection_type.isnull().value_counts()"
   ]
  },
  {
   "cell_type": "code",
   "execution_count": 73,
   "metadata": {},
   "outputs": [
    {
     "data": {
      "text/plain": [
       "Cable/DSL    331948\n",
       "Cellular     280511\n",
       "Corporate         4\n",
       "Name: connection_type, dtype: int64"
      ]
     },
     "execution_count": 73,
     "metadata": {},
     "output_type": "execute_result"
    }
   ],
   "source": [
    "df_events.connection_type.value_counts()"
   ]
  },
  {
   "cell_type": "code",
   "execution_count": 71,
   "metadata": {},
   "outputs": [
    {
     "data": {
      "text/plain": [
       "False    1378872\n",
       "True     1115551\n",
       "Name: wifi, dtype: int64"
      ]
     },
     "execution_count": 71,
     "metadata": {},
     "output_type": "execute_result"
    }
   ],
   "source": [
    "df_events.wifi.isnull().value_counts()"
   ]
  },
  {
   "cell_type": "code",
   "execution_count": 74,
   "metadata": {},
   "outputs": [
    {
     "data": {
      "text/plain": [
       "True     930902\n",
       "False    447970\n",
       "Name: wifi, dtype: int64"
      ]
     },
     "execution_count": 74,
     "metadata": {},
     "output_type": "execute_result"
    }
   ],
   "source": [
    "df_events.wifi.value_counts()"
   ]
  },
  {
   "cell_type": "code",
   "execution_count": 84,
   "metadata": {},
   "outputs": [
    {
     "data": {
      "text/plain": [
       "False    2489324\n",
       "True        5099\n",
       "Name: attributed, dtype: int64"
      ]
     },
     "execution_count": 84,
     "metadata": {},
     "output_type": "execute_result"
    }
   ],
   "source": [
    "df_events.attributed.value_counts()"
   ]
  },
  {
   "cell_type": "code",
   "execution_count": 77,
   "metadata": {},
   "outputs": [
    {
     "data": {
      "text/plain": [
       "6333597102633388268    2494423\n",
       "Name: device_countrycode, dtype: int64"
      ]
     },
     "execution_count": 77,
     "metadata": {},
     "output_type": "execute_result"
    }
   ],
   "source": [
    "df_events.device_countrycode.value_counts()"
   ]
  },
  {
   "cell_type": "markdown",
   "metadata": {},
   "source": [
    "A priori observamos lo siguiente: \n",
    "<ul>\n",
    "<li>\n",
    "trans_id tiene solamente 82 registros no nulos de un total de 2494423, por lo que no nos aporta información útil.\n",
    "</li>\n",
    "<li>\n",
    "Wifi tiene el 44% de los valores nulos. Del 56% restante,el 67,5% indica que el evento se realizó con una conexión wifi.\n",
    "</li>\n",
    "<li>\n",
    "connection_type tiene un 75,5% de valores nulos, pero con el resto de los datos, podemos ver que hay tres tipos de conexiones.\n",
    "</li>\n",
    "<li>\n",
    "Con brand_device y device_os_version tenemos más de la mitad de los registros sin valor (53% y 59% respectivamente). \n",
    "</li>\n",
    "<li>\n",
    "Con device_countrycode, podemos observar que solamente tenemos datos de un único país, por lo que lo descartaremos para los análisis.\n",
    "</li>\n",
    "<li>\n",
    "Con el campo attributed vemos que solamente el 0.20% corresponden a eventos que son atribuídos a Jampp.\n",
    "</li>\n",
    "</ul>"
   ]
  },
  {
   "cell_type": "code",
   "execution_count": 164,
   "metadata": {},
   "outputs": [
    {
     "data": {
      "image/png": "[encoded data removed]",
      "text/plain": [
       "<Figure size 720x360 with 1 Axes>"
      ]
     },
     "metadata": {
      "needs_background": "light"
     },
     "output_type": "display_data"
    }
   ],
   "source": [
    "#Obtenemos el top 10 de aplicaciones en las cuales se realizaron más eventos.\n",
    "app_for_events = df_events.application_id.value_counts(sort=True).reset_index().sort_values(['application_id'],ascending=False)\n",
    "\n",
    "app_for_events = app_for_events.loc[:10,]\n",
    "plt.figure(figsize=(10,5))\n",
    "ax=sns.barplot(app_for_events.index, app_for_events.application_id, alpha=0.8)\n",
    "ax.set_xticklabels(app_for_events['index'])\n",
    "plt.title('Top 10 de aplicaciones')\n",
    "plt.ylabel('Eventos', fontsize=12)\n",
    "plt.xlabel('ID Aplicacion', fontsize=12)\n",
    "plt.show()"
   ]
  },
  {
   "cell_type": "code",
   "execution_count": 165,
   "metadata": {},
   "outputs": [
    {
     "data": {
      "text/html": [
       "<div>\n",
       "<style scoped>\n",
       "    .dataframe tbody tr th:only-of-type {\n",
       "        vertical-align: middle;\n",
       "    }\n",
       "\n",
       "    .dataframe tbody tr th {\n",
       "        vertical-align: top;\n",
       "    }\n",
       "\n",
       "    .dataframe thead th {\n",
       "        text-align: right;\n",
       "    }\n",
       "</style>\n",
       "<table border=\"1\" class=\"dataframe\">\n",
       "  <thead>\n",
       "    <tr style=\"text-align: right;\">\n",
       "      <th></th>\n",
       "      <th>index</th>\n",
       "      <th>application_id</th>\n",
       "    </tr>\n",
       "  </thead>\n",
       "  <tbody>\n",
       "    <tr>\n",
       "      <th>0</th>\n",
       "      <td>66</td>\n",
       "      <td>325696</td>\n",
       "    </tr>\n",
       "    <tr>\n",
       "      <th>1</th>\n",
       "      <td>64</td>\n",
       "      <td>259084</td>\n",
       "    </tr>\n",
       "    <tr>\n",
       "      <th>2</th>\n",
       "      <td>145</td>\n",
       "      <td>252431</td>\n",
       "    </tr>\n",
       "    <tr>\n",
       "      <th>3</th>\n",
       "      <td>63</td>\n",
       "      <td>181555</td>\n",
       "    </tr>\n",
       "    <tr>\n",
       "      <th>4</th>\n",
       "      <td>103</td>\n",
       "      <td>137513</td>\n",
       "    </tr>\n",
       "    <tr>\n",
       "      <th>5</th>\n",
       "      <td>57</td>\n",
       "      <td>134498</td>\n",
       "    </tr>\n",
       "    <tr>\n",
       "      <th>6</th>\n",
       "      <td>121</td>\n",
       "      <td>123711</td>\n",
       "    </tr>\n",
       "    <tr>\n",
       "      <th>7</th>\n",
       "      <td>212</td>\n",
       "      <td>108489</td>\n",
       "    </tr>\n",
       "    <tr>\n",
       "      <th>8</th>\n",
       "      <td>113</td>\n",
       "      <td>82962</td>\n",
       "    </tr>\n",
       "    <tr>\n",
       "      <th>9</th>\n",
       "      <td>39</td>\n",
       "      <td>76448</td>\n",
       "    </tr>\n",
       "    <tr>\n",
       "      <th>10</th>\n",
       "      <td>120</td>\n",
       "      <td>68421</td>\n",
       "    </tr>\n",
       "  </tbody>\n",
       "</table>\n",
       "</div>"
      ],
      "text/plain": [
       "    index  application_id\n",
       "0      66          325696\n",
       "1      64          259084\n",
       "2     145          252431\n",
       "3      63          181555\n",
       "4     103          137513\n",
       "5      57          134498\n",
       "6     121          123711\n",
       "7     212          108489\n",
       "8     113           82962\n",
       "9      39           76448\n",
       "10    120           68421"
      ]
     },
     "execution_count": 165,
     "metadata": {},
     "output_type": "execute_result"
    }
   ],
   "source": [
    "app_for_events"
   ]
  },
  {
   "cell_type": "markdown",
   "metadata": {},
   "source": [
    "Observamos que la mayoría de los eventos ocurren en las aplicaciones 66 64 y 115."
   ]
  },
  {
   "cell_type": "code",
   "execution_count": 80,
   "metadata": {},
   "outputs": [
    {
     "name": "stdout",
     "output_type": "stream",
     "text": [
      "         dia  cantidad\n",
      "8 2019-03-05    240549\n",
      "7 2019-03-06    253505\n",
      "6 2019-03-07    253706\n",
      "4 2019-03-08    285535\n",
      "3 2019-03-09    286221\n",
      "2 2019-03-10    293091\n",
      "5 2019-03-11    268884\n",
      "1 2019-03-12    296665\n",
      "0 2019-03-13    316267\n"
     ]
    },
    {
     "data": {
      "image/png": "[encoded data removed]",
      "text/plain": [
       "<Figure size 432x288 with 1 Axes>"
      ]
     },
     "metadata": {
      "needs_background": "light"
     },
     "output_type": "display_data"
    }
   ],
   "source": [
    "#Convertimos la fecha de creación del evento a un tipo datetime.\n",
    "df_events.date = pd.to_datetime(df_events.date)\n",
    "\n",
    "#Obtenemos la cantidad de eventos por día.\n",
    "df_eventos_por_dia = df_events.date\\\n",
    "       .dt.floor('d')\\\n",
    "       .value_counts()\\\n",
    "       .rename_axis('dia')\\\n",
    "       .reset_index(name='cantidad')\\\n",
    "       .sort_values(by='dia', ascending=True)\n",
    "\n",
    "print(df_eventos_por_dia)\n",
    "\n",
    "plt.bar(np.arange(len(df_eventos_por_dia)), df_eventos_por_dia.cantidad, align='center', alpha=0.5)\n",
    "plt.xticks(np.arange(len(df_eventos_por_dia)), df_eventos_por_dia.dia.dt.date,rotation=90)\n",
    "plt.ylabel('Eventos')\n",
    "plt.xlabel('Fecha')\n",
    "plt.title('Cantidad de eventos por dia')\n",
    " \n",
    "plt.show()"
   ]
  },
  {
   "cell_type": "markdown",
   "metadata": {},
   "source": [
    "Se puede ver que la cantidad de eventos se mantiene constante a lo largo de la semana, sin picos particulares durante el fin de semana."
   ]
  },
  {
   "cell_type": "code",
   "execution_count": 92,
   "metadata": {},
   "outputs": [
    {
     "data": {
      "image/png": "[encoded data removed]",
      "text/plain": [
       "<Figure size 1080x360 with 1 Axes>"
      ]
     },
     "metadata": {
      "needs_background": "light"
     },
     "output_type": "display_data"
    }
   ],
   "source": [
    "#Obtenemos la cantidad de eventos que se realizaron con cada tipo de conexión.\n",
    "\n",
    "events_by_connection_type = df_events.connection_type.value_counts(sort=True)\\\n",
    "       .rename_axis('conexion')\\\n",
    "       .reset_index(name='cantidad')\\\n",
    "       .sort_values(by='conexion', ascending=True)\n",
    "\n",
    "plt.figure(figsize=(15,5))\n",
    "ax=sns.barplot(events_by_connection_type.cantidad, events_by_connection_type.conexion, alpha=0.8, orient='h')\n",
    "ax.set_yticklabels(events_by_connection_type['conexion'])\n",
    "ax.grid(axis='x')\n",
    "plt.title('Tipos de conexión')\n",
    "plt.ylabel('Conexión', fontsize=12)\n",
    "plt.xlabel('Cantidad de eventos', fontsize=12)\n",
    "plt.xticks(rotation=90)\n",
    "plt.show()"
   ]
  },
  {
   "cell_type": "code",
   "execution_count": 89,
   "metadata": {},
   "outputs": [
    {
     "data": {
      "text/html": [
       "<div>\n",
       "<style scoped>\n",
       "    .dataframe tbody tr th:only-of-type {\n",
       "        vertical-align: middle;\n",
       "    }\n",
       "\n",
       "    .dataframe tbody tr th {\n",
       "        vertical-align: top;\n",
       "    }\n",
       "\n",
       "    .dataframe thead th {\n",
       "        text-align: right;\n",
       "    }\n",
       "</style>\n",
       "<table border=\"1\" class=\"dataframe\">\n",
       "  <thead>\n",
       "    <tr style=\"text-align: right;\">\n",
       "      <th></th>\n",
       "      <th>conexion</th>\n",
       "      <th>cantidad</th>\n",
       "    </tr>\n",
       "  </thead>\n",
       "  <tbody>\n",
       "    <tr>\n",
       "      <th>0</th>\n",
       "      <td>Cable/DSL</td>\n",
       "      <td>331948</td>\n",
       "    </tr>\n",
       "    <tr>\n",
       "      <th>1</th>\n",
       "      <td>Cellular</td>\n",
       "      <td>280511</td>\n",
       "    </tr>\n",
       "    <tr>\n",
       "      <th>2</th>\n",
       "      <td>Corporate</td>\n",
       "      <td>4</td>\n",
       "    </tr>\n",
       "  </tbody>\n",
       "</table>\n",
       "</div>"
      ],
      "text/plain": [
       "    conexion  cantidad\n",
       "0  Cable/DSL    331948\n",
       "1   Cellular    280511\n",
       "2  Corporate         4"
      ]
     },
     "execution_count": 89,
     "metadata": {},
     "output_type": "execute_result"
    }
   ],
   "source": [
    "events_by_connection_type"
   ]
  },
  {
   "cell_type": "code",
   "execution_count": 122,
   "metadata": {},
   "outputs": [
    {
     "data": {
      "image/png": "[encoded data removed]",
      "text/plain": [
       "<Figure size 1440x1440 with 1 Axes>"
      ]
     },
     "metadata": {
      "needs_background": "light"
     },
     "output_type": "display_data"
    }
   ],
   "source": [
    "#Obtenemos el top 30 de cantidad de eventos por IP\n",
    "events_by_ip_address = df_events.ip_address.value_counts(sort=True)\\\n",
    "       .reset_index()\\\n",
    "       .sort_values(['ip_address'], ascending=False)\n",
    "\n",
    "events_by_ip_address = events_by_ip_address.loc[:30,]\n",
    "\n",
    "plt.figure(figsize=(20,20))\n",
    "ax=sns.barplot(events_by_ip_address.ip_address, events_by_ip_address.index, alpha=0.8, orient='h')\n",
    "ax.set_yticklabels(events_by_ip_address['index'])\n",
    "ax.grid(axis='x')\n",
    "plt.title('Cantidad de eventos por IP')\n",
    "plt.ylabel('IP', fontsize=12)\n",
    "plt.xlabel('Cantidad de eventos', fontsize=12)\n",
    "plt.xticks(rotation=90)\n",
    "plt.show()"
   ]
  },
  {
   "cell_type": "code",
   "execution_count": 118,
   "metadata": {},
   "outputs": [
    {
     "data": {
      "text/html": [
       "<div>\n",
       "<style scoped>\n",
       "    .dataframe tbody tr th:only-of-type {\n",
       "        vertical-align: middle;\n",
       "    }\n",
       "\n",
       "    .dataframe tbody tr th {\n",
       "        vertical-align: top;\n",
       "    }\n",
       "\n",
       "    .dataframe thead th {\n",
       "        text-align: right;\n",
       "    }\n",
       "</style>\n",
       "<table border=\"1\" class=\"dataframe\">\n",
       "  <thead>\n",
       "    <tr style=\"text-align: right;\">\n",
       "      <th></th>\n",
       "      <th>index</th>\n",
       "      <th>ip_address</th>\n",
       "    </tr>\n",
       "  </thead>\n",
       "  <tbody>\n",
       "    <tr>\n",
       "      <th>0</th>\n",
       "      <td>1992632945768888579</td>\n",
       "      <td>22640</td>\n",
       "    </tr>\n",
       "    <tr>\n",
       "      <th>1</th>\n",
       "      <td>3162368506662488065</td>\n",
       "      <td>19379</td>\n",
       "    </tr>\n",
       "    <tr>\n",
       "      <th>2</th>\n",
       "      <td>7726314782926052608</td>\n",
       "      <td>17704</td>\n",
       "    </tr>\n",
       "    <tr>\n",
       "      <th>3</th>\n",
       "      <td>2394721645995561079</td>\n",
       "      <td>9777</td>\n",
       "    </tr>\n",
       "    <tr>\n",
       "      <th>4</th>\n",
       "      <td>589886713227299026</td>\n",
       "      <td>7561</td>\n",
       "    </tr>\n",
       "    <tr>\n",
       "      <th>5</th>\n",
       "      <td>7833422721300884983</td>\n",
       "      <td>7197</td>\n",
       "    </tr>\n",
       "    <tr>\n",
       "      <th>6</th>\n",
       "      <td>3564864895681659759</td>\n",
       "      <td>7142</td>\n",
       "    </tr>\n",
       "    <tr>\n",
       "      <th>7</th>\n",
       "      <td>4537476465028897433</td>\n",
       "      <td>7140</td>\n",
       "    </tr>\n",
       "    <tr>\n",
       "      <th>8</th>\n",
       "      <td>2403839579048525602</td>\n",
       "      <td>7100</td>\n",
       "    </tr>\n",
       "    <tr>\n",
       "      <th>9</th>\n",
       "      <td>7410847412569818934</td>\n",
       "      <td>7065</td>\n",
       "    </tr>\n",
       "    <tr>\n",
       "      <th>10</th>\n",
       "      <td>8235954648733428120</td>\n",
       "      <td>6933</td>\n",
       "    </tr>\n",
       "    <tr>\n",
       "      <th>11</th>\n",
       "      <td>7481987231813232849</td>\n",
       "      <td>6855</td>\n",
       "    </tr>\n",
       "    <tr>\n",
       "      <th>12</th>\n",
       "      <td>1093212093074216349</td>\n",
       "      <td>6347</td>\n",
       "    </tr>\n",
       "    <tr>\n",
       "      <th>13</th>\n",
       "      <td>8010533080341024188</td>\n",
       "      <td>6241</td>\n",
       "    </tr>\n",
       "    <tr>\n",
       "      <th>14</th>\n",
       "      <td>2441645233986204328</td>\n",
       "      <td>6108</td>\n",
       "    </tr>\n",
       "    <tr>\n",
       "      <th>15</th>\n",
       "      <td>2706357072127963511</td>\n",
       "      <td>4993</td>\n",
       "    </tr>\n",
       "    <tr>\n",
       "      <th>16</th>\n",
       "      <td>8262991154202232888</td>\n",
       "      <td>4736</td>\n",
       "    </tr>\n",
       "    <tr>\n",
       "      <th>17</th>\n",
       "      <td>1037699812701179191</td>\n",
       "      <td>4554</td>\n",
       "    </tr>\n",
       "    <tr>\n",
       "      <th>18</th>\n",
       "      <td>2988221197536288219</td>\n",
       "      <td>4408</td>\n",
       "    </tr>\n",
       "    <tr>\n",
       "      <th>19</th>\n",
       "      <td>2322330997698851930</td>\n",
       "      <td>3901</td>\n",
       "    </tr>\n",
       "    <tr>\n",
       "      <th>20</th>\n",
       "      <td>6286868732416664667</td>\n",
       "      <td>3698</td>\n",
       "    </tr>\n",
       "    <tr>\n",
       "      <th>21</th>\n",
       "      <td>8928734162578817363</td>\n",
       "      <td>3519</td>\n",
       "    </tr>\n",
       "    <tr>\n",
       "      <th>22</th>\n",
       "      <td>8531002764348621869</td>\n",
       "      <td>2710</td>\n",
       "    </tr>\n",
       "    <tr>\n",
       "      <th>23</th>\n",
       "      <td>7326588564616977029</td>\n",
       "      <td>2595</td>\n",
       "    </tr>\n",
       "    <tr>\n",
       "      <th>24</th>\n",
       "      <td>6452955265823183819</td>\n",
       "      <td>2571</td>\n",
       "    </tr>\n",
       "    <tr>\n",
       "      <th>25</th>\n",
       "      <td>7571354015197421297</td>\n",
       "      <td>2556</td>\n",
       "    </tr>\n",
       "    <tr>\n",
       "      <th>26</th>\n",
       "      <td>7858558567428669000</td>\n",
       "      <td>2520</td>\n",
       "    </tr>\n",
       "    <tr>\n",
       "      <th>27</th>\n",
       "      <td>3222899837426106171</td>\n",
       "      <td>2518</td>\n",
       "    </tr>\n",
       "    <tr>\n",
       "      <th>28</th>\n",
       "      <td>3692763185030977380</td>\n",
       "      <td>2450</td>\n",
       "    </tr>\n",
       "    <tr>\n",
       "      <th>29</th>\n",
       "      <td>6324037615828123965</td>\n",
       "      <td>2408</td>\n",
       "    </tr>\n",
       "    <tr>\n",
       "      <th>30</th>\n",
       "      <td>6089309792185928600</td>\n",
       "      <td>2340</td>\n",
       "    </tr>\n",
       "  </tbody>\n",
       "</table>\n",
       "</div>"
      ],
      "text/plain": [
       "                  index  ip_address\n",
       "0   1992632945768888579       22640\n",
       "1   3162368506662488065       19379\n",
       "2   7726314782926052608       17704\n",
       "3   2394721645995561079        9777\n",
       "4    589886713227299026        7561\n",
       "5   7833422721300884983        7197\n",
       "6   3564864895681659759        7142\n",
       "7   4537476465028897433        7140\n",
       "8   2403839579048525602        7100\n",
       "9   7410847412569818934        7065\n",
       "10  8235954648733428120        6933\n",
       "11  7481987231813232849        6855\n",
       "12  1093212093074216349        6347\n",
       "13  8010533080341024188        6241\n",
       "14  2441645233986204328        6108\n",
       "15  2706357072127963511        4993\n",
       "16  8262991154202232888        4736\n",
       "17  1037699812701179191        4554\n",
       "18  2988221197536288219        4408\n",
       "19  2322330997698851930        3901\n",
       "20  6286868732416664667        3698\n",
       "21  8928734162578817363        3519\n",
       "22  8531002764348621869        2710\n",
       "23  7326588564616977029        2595\n",
       "24  6452955265823183819        2571\n",
       "25  7571354015197421297        2556\n",
       "26  7858558567428669000        2520\n",
       "27  3222899837426106171        2518\n",
       "28  3692763185030977380        2450\n",
       "29  6324037615828123965        2408\n",
       "30  6089309792185928600        2340"
      ]
     },
     "execution_count": 118,
     "metadata": {},
     "output_type": "execute_result"
    }
   ],
   "source": [
    " events_by_ip_address"
   ]
  },
  {
   "cell_type": "markdown",
   "metadata": {},
   "source": [
    "<H1 align=\"center\">Dataset Installs</H1><br>"
   ]
  },
  {
   "cell_type": "code",
   "execution_count": 140,
   "metadata": {},
   "outputs": [
    {
     "data": {
      "text/html": [
       "<div>\n",
       "<style scoped>\n",
       "    .dataframe tbody tr th:only-of-type {\n",
       "        vertical-align: middle;\n",
       "    }\n",
       "\n",
       "    .dataframe tbody tr th {\n",
       "        vertical-align: top;\n",
       "    }\n",
       "\n",
       "    .dataframe thead th {\n",
       "        text-align: right;\n",
       "    }\n",
       "</style>\n",
       "<table border=\"1\" class=\"dataframe\">\n",
       "  <thead>\n",
       "    <tr style=\"text-align: right;\">\n",
       "      <th></th>\n",
       "      <th>created</th>\n",
       "      <th>application_id</th>\n",
       "      <th>ref_type</th>\n",
       "      <th>ref_hash</th>\n",
       "      <th>click_hash</th>\n",
       "      <th>attributed</th>\n",
       "      <th>implicit</th>\n",
       "      <th>device_countrycode</th>\n",
       "      <th>device_brand</th>\n",
       "      <th>device_model</th>\n",
       "      <th>session_user_agent</th>\n",
       "      <th>user_agent</th>\n",
       "      <th>event_uuid</th>\n",
       "      <th>kind</th>\n",
       "      <th>wifi</th>\n",
       "      <th>trans_id</th>\n",
       "      <th>ip_address</th>\n",
       "      <th>device_language</th>\n",
       "      <th>hour</th>\n",
       "      <th>date</th>\n",
       "    </tr>\n",
       "  </thead>\n",
       "  <tbody>\n",
       "    <tr>\n",
       "      <th>0</th>\n",
       "      <td>2019-03-13 01:43:33.445</td>\n",
       "      <td>0</td>\n",
       "      <td>1891515180541284343</td>\n",
       "      <td>8464844987297247076</td>\n",
       "      <td>NaN</td>\n",
       "      <td>False</td>\n",
       "      <td>False</td>\n",
       "      <td>6333597102633388268</td>\n",
       "      <td>3.083059e+17</td>\n",
       "      <td>4.445252e+18</td>\n",
       "      <td>NaN</td>\n",
       "      <td>NaN</td>\n",
       "      <td>NaN</td>\n",
       "      <td>NaN</td>\n",
       "      <td>NaN</td>\n",
       "      <td>NaN</td>\n",
       "      <td>5529284367937637301</td>\n",
       "      <td>NaN</td>\n",
       "      <td>1</td>\n",
       "      <td>2019-03-13</td>\n",
       "    </tr>\n",
       "    <tr>\n",
       "      <th>1</th>\n",
       "      <td>2019-03-13 04:58:35.078</td>\n",
       "      <td>0</td>\n",
       "      <td>1891515180541284343</td>\n",
       "      <td>3250564871270161533</td>\n",
       "      <td>NaN</td>\n",
       "      <td>False</td>\n",
       "      <td>False</td>\n",
       "      <td>6333597102633388268</td>\n",
       "      <td>3.083059e+17</td>\n",
       "      <td>4.445252e+18</td>\n",
       "      <td>NaN</td>\n",
       "      <td>NaN</td>\n",
       "      <td>NaN</td>\n",
       "      <td>NaN</td>\n",
       "      <td>NaN</td>\n",
       "      <td>NaN</td>\n",
       "      <td>6098022721363533304</td>\n",
       "      <td>NaN</td>\n",
       "      <td>4</td>\n",
       "      <td>2019-03-13</td>\n",
       "    </tr>\n",
       "    <tr>\n",
       "      <th>2</th>\n",
       "      <td>2019-03-13 04:20:57.666</td>\n",
       "      <td>0</td>\n",
       "      <td>1891515180541284343</td>\n",
       "      <td>7953318831018100268</td>\n",
       "      <td>NaN</td>\n",
       "      <td>False</td>\n",
       "      <td>True</td>\n",
       "      <td>6333597102633388268</td>\n",
       "      <td>5.137992e+17</td>\n",
       "      <td>6.026543e+18</td>\n",
       "      <td>HasOffers Mobile AppTracking v1.0</td>\n",
       "      <td>NaN</td>\n",
       "      <td>0bfa9b4c-e07a-4522-b32d-138e3165ac98</td>\n",
       "      <td>Open</td>\n",
       "      <td>NaN</td>\n",
       "      <td>NaN</td>\n",
       "      <td>4636407223847323867</td>\n",
       "      <td>3.301378e+18</td>\n",
       "      <td>4</td>\n",
       "      <td>2019-03-13</td>\n",
       "    </tr>\n",
       "  </tbody>\n",
       "</table>\n",
       "</div>"
      ],
      "text/plain": [
       "                  created  application_id             ref_type  \\\n",
       "0 2019-03-13 01:43:33.445               0  1891515180541284343   \n",
       "1 2019-03-13 04:58:35.078               0  1891515180541284343   \n",
       "2 2019-03-13 04:20:57.666               0  1891515180541284343   \n",
       "\n",
       "              ref_hash  click_hash  attributed  implicit   device_countrycode  \\\n",
       "0  8464844987297247076         NaN       False     False  6333597102633388268   \n",
       "1  3250564871270161533         NaN       False     False  6333597102633388268   \n",
       "2  7953318831018100268         NaN       False      True  6333597102633388268   \n",
       "\n",
       "   device_brand  device_model                 session_user_agent user_agent  \\\n",
       "0  3.083059e+17  4.445252e+18                                NaN        NaN   \n",
       "1  3.083059e+17  4.445252e+18                                NaN        NaN   \n",
       "2  5.137992e+17  6.026543e+18  HasOffers Mobile AppTracking v1.0        NaN   \n",
       "\n",
       "                             event_uuid  kind wifi trans_id  \\\n",
       "0                                   NaN   NaN  NaN      NaN   \n",
       "1                                   NaN   NaN  NaN      NaN   \n",
       "2  0bfa9b4c-e07a-4522-b32d-138e3165ac98  Open  NaN      NaN   \n",
       "\n",
       "            ip_address  device_language  hour        date  \n",
       "0  5529284367937637301              NaN     1  2019-03-13  \n",
       "1  6098022721363533304              NaN     4  2019-03-13  \n",
       "2  4636407223847323867     3.301378e+18     4  2019-03-13  "
      ]
     },
     "execution_count": 140,
     "metadata": {},
     "output_type": "execute_result"
    }
   ],
   "source": [
    "##-----------------------------------------------------------------------------------##\n",
    "## Visualizamos los primeros registros del dataset installs.csv y                    ##\n",
    "## contabilizamos los valores que tiene cada columna                                 ##\n",
    "##-----------------------------------------------------------------------------------##\n",
    "df_installs.head(3)"
   ]
  },
  {
   "cell_type": "code",
   "execution_count": 141,
   "metadata": {},
   "outputs": [
    {
     "data": {
      "text/plain": [
       "created               3412\n",
       "application_id        3412\n",
       "ref_type              3412\n",
       "ref_hash              3412\n",
       "click_hash               0\n",
       "attributed            3412\n",
       "implicit              3412\n",
       "device_countrycode    3412\n",
       "device_brand          1047\n",
       "device_model          3411\n",
       "session_user_agent    3364\n",
       "user_agent            1729\n",
       "event_uuid             865\n",
       "kind                   865\n",
       "wifi                  1729\n",
       "trans_id                 6\n",
       "ip_address            3412\n",
       "device_language       3378\n",
       "hour                  3412\n",
       "date                  3412\n",
       "dtype: int64"
      ]
     },
     "execution_count": 141,
     "metadata": {},
     "output_type": "execute_result"
    }
   ],
   "source": [
    "df_installs.count()"
   ]
  },
  {
   "cell_type": "code",
   "execution_count": 143,
   "metadata": {},
   "outputs": [
    {
     "data": {
      "text/plain": [
       "6333597102633388268    1820\n",
       "2970470518450881158    1592\n",
       "Name: device_countrycode, dtype: int64"
      ]
     },
     "execution_count": 143,
     "metadata": {},
     "output_type": "execute_result"
    }
   ],
   "source": [
    "df_installs.device_countrycode.value_counts()"
   ]
  },
  {
   "cell_type": "code",
   "execution_count": 147,
   "metadata": {},
   "outputs": [
    {
     "data": {
      "text/plain": [
       "True     1377\n",
       "False     352\n",
       "Name: wifi, dtype: int64"
      ]
     },
     "execution_count": 147,
     "metadata": {},
     "output_type": "execute_result"
    }
   ],
   "source": [
    "df_installs.wifi.value_counts()"
   ]
  },
  {
   "cell_type": "code",
   "execution_count": 145,
   "metadata": {},
   "outputs": [
    {
     "data": {
      "text/plain": [
       "False    3412\n",
       "Name: attributed, dtype: int64"
      ]
     },
     "execution_count": 145,
     "metadata": {},
     "output_type": "execute_result"
    }
   ],
   "source": [
    "df_installs.attributed.value_counts()"
   ]
  },
  {
   "cell_type": "code",
   "execution_count": 152,
   "metadata": {},
   "outputs": [
    {
     "data": {
      "text/plain": [
       "False    3411\n",
       "True        1\n",
       "Name: device_model, dtype: int64"
      ]
     },
     "execution_count": 152,
     "metadata": {},
     "output_type": "execute_result"
    }
   ],
   "source": [
    "df_installs.device_model.isnull().value_counts()"
   ]
  },
  {
   "cell_type": "code",
   "execution_count": 153,
   "metadata": {},
   "outputs": [
    {
     "data": {
      "text/plain": [
       "True     2365\n",
       "False    1047\n",
       "Name: device_brand, dtype: int64"
      ]
     },
     "execution_count": 153,
     "metadata": {},
     "output_type": "execute_result"
    }
   ],
   "source": [
    "df_installs.device_brand.isnull().value_counts()"
   ]
  },
  {
   "cell_type": "markdown",
   "metadata": {},
   "source": [
    "Pdemos observamos lo siguiente: \n",
    "<ul>\n",
    "<li>\n",
    "Las instalaciones se realizaron en dos países diferentes.\n",
    "</li>\n",
    "<li>\n",
    "El 40% de las instalaciones se realizaron con una conexión a una red wifi.\n",
    "</li>\n",
    "<li>    \n",
    "Ninguna instalación fue atribuida a Jampp.\n",
    "</li>\n",
    "<li>\n",
    "Sólo existe un registro sin valor de modelo, por lo que podremoa analizar los modelos en los que se realizan la mayor cantidad de instalaciones.\n",
    "</li>\n",
    "<li>\n",
    "Sòlo un tercio de los registros tienen datos acerca de las marcas de los dispositivos.\n",
    "</li>\n",
    "</ul>"
   ]
  },
  {
   "cell_type": "code",
   "execution_count": 170,
   "metadata": {},
   "outputs": [
    {
     "data": {
      "image/png": "[encoded data removed]",
      "text/plain": [
       "<Figure size 720x504 with 1 Axes>"
      ]
     },
     "metadata": {
      "needs_background": "light"
     },
     "output_type": "display_data"
    }
   ],
   "source": [
    "#Obtenemos la cantidad de instalaciones por aplicación\n",
    "app_count  = df_installs['application_id'].value_counts(sort=True).reset_index().sort_values(['application_id'],ascending=False)\n",
    "\n",
    "plt.figure(figsize=(10,7))\n",
    "ax = sns.barplot(app_count.index, app_count.application_id, alpha=0.8)\n",
    "ax.set_xticklabels(app_count['index'])\n",
    "plt.title('Cantidad de instalaciones por aplicación')\n",
    "plt.ylabel('Cantidad', fontsize=12)\n",
    "plt.xlabel('ID Aplicación', fontsize=12)\n",
    "plt.show()"
   ]
  },
  {
   "cell_type": "code",
   "execution_count": 171,
   "metadata": {},
   "outputs": [
    {
     "data": {
      "text/html": [
       "<div>\n",
       "<style scoped>\n",
       "    .dataframe tbody tr th:only-of-type {\n",
       "        vertical-align: middle;\n",
       "    }\n",
       "\n",
       "    .dataframe tbody tr th {\n",
       "        vertical-align: top;\n",
       "    }\n",
       "\n",
       "    .dataframe thead th {\n",
       "        text-align: right;\n",
       "    }\n",
       "</style>\n",
       "<table border=\"1\" class=\"dataframe\">\n",
       "  <thead>\n",
       "    <tr style=\"text-align: right;\">\n",
       "      <th></th>\n",
       "      <th>index</th>\n",
       "      <th>application_id</th>\n",
       "    </tr>\n",
       "  </thead>\n",
       "  <tbody>\n",
       "    <tr>\n",
       "      <th>0</th>\n",
       "      <td>7</td>\n",
       "      <td>947</td>\n",
       "    </tr>\n",
       "    <tr>\n",
       "      <th>1</th>\n",
       "      <td>9</td>\n",
       "      <td>731</td>\n",
       "    </tr>\n",
       "    <tr>\n",
       "      <th>2</th>\n",
       "      <td>10</td>\n",
       "      <td>389</td>\n",
       "    </tr>\n",
       "    <tr>\n",
       "      <th>3</th>\n",
       "      <td>16</td>\n",
       "      <td>362</td>\n",
       "    </tr>\n",
       "    <tr>\n",
       "      <th>4</th>\n",
       "      <td>8</td>\n",
       "      <td>328</td>\n",
       "    </tr>\n",
       "    <tr>\n",
       "      <th>5</th>\n",
       "      <td>2</td>\n",
       "      <td>174</td>\n",
       "    </tr>\n",
       "    <tr>\n",
       "      <th>6</th>\n",
       "      <td>29</td>\n",
       "      <td>97</td>\n",
       "    </tr>\n",
       "    <tr>\n",
       "      <th>7</th>\n",
       "      <td>20</td>\n",
       "      <td>95</td>\n",
       "    </tr>\n",
       "    <tr>\n",
       "      <th>8</th>\n",
       "      <td>6</td>\n",
       "      <td>35</td>\n",
       "    </tr>\n",
       "    <tr>\n",
       "      <th>9</th>\n",
       "      <td>1</td>\n",
       "      <td>34</td>\n",
       "    </tr>\n",
       "    <tr>\n",
       "      <th>10</th>\n",
       "      <td>26</td>\n",
       "      <td>28</td>\n",
       "    </tr>\n",
       "    <tr>\n",
       "      <th>11</th>\n",
       "      <td>34</td>\n",
       "      <td>28</td>\n",
       "    </tr>\n",
       "    <tr>\n",
       "      <th>12</th>\n",
       "      <td>15</td>\n",
       "      <td>20</td>\n",
       "    </tr>\n",
       "    <tr>\n",
       "      <th>13</th>\n",
       "      <td>0</td>\n",
       "      <td>18</td>\n",
       "    </tr>\n",
       "    <tr>\n",
       "      <th>15</th>\n",
       "      <td>28</td>\n",
       "      <td>17</td>\n",
       "    </tr>\n",
       "    <tr>\n",
       "      <th>14</th>\n",
       "      <td>3</td>\n",
       "      <td>17</td>\n",
       "    </tr>\n",
       "    <tr>\n",
       "      <th>16</th>\n",
       "      <td>12</td>\n",
       "      <td>15</td>\n",
       "    </tr>\n",
       "    <tr>\n",
       "      <th>17</th>\n",
       "      <td>18</td>\n",
       "      <td>14</td>\n",
       "    </tr>\n",
       "    <tr>\n",
       "      <th>18</th>\n",
       "      <td>24</td>\n",
       "      <td>13</td>\n",
       "    </tr>\n",
       "    <tr>\n",
       "      <th>19</th>\n",
       "      <td>17</td>\n",
       "      <td>13</td>\n",
       "    </tr>\n",
       "    <tr>\n",
       "      <th>20</th>\n",
       "      <td>14</td>\n",
       "      <td>13</td>\n",
       "    </tr>\n",
       "    <tr>\n",
       "      <th>21</th>\n",
       "      <td>21</td>\n",
       "      <td>7</td>\n",
       "    </tr>\n",
       "    <tr>\n",
       "      <th>22</th>\n",
       "      <td>5</td>\n",
       "      <td>3</td>\n",
       "    </tr>\n",
       "    <tr>\n",
       "      <th>23</th>\n",
       "      <td>13</td>\n",
       "      <td>3</td>\n",
       "    </tr>\n",
       "    <tr>\n",
       "      <th>24</th>\n",
       "      <td>33</td>\n",
       "      <td>2</td>\n",
       "    </tr>\n",
       "    <tr>\n",
       "      <th>25</th>\n",
       "      <td>30</td>\n",
       "      <td>2</td>\n",
       "    </tr>\n",
       "    <tr>\n",
       "      <th>26</th>\n",
       "      <td>19</td>\n",
       "      <td>2</td>\n",
       "    </tr>\n",
       "    <tr>\n",
       "      <th>27</th>\n",
       "      <td>32</td>\n",
       "      <td>2</td>\n",
       "    </tr>\n",
       "    <tr>\n",
       "      <th>28</th>\n",
       "      <td>36</td>\n",
       "      <td>1</td>\n",
       "    </tr>\n",
       "    <tr>\n",
       "      <th>29</th>\n",
       "      <td>4</td>\n",
       "      <td>1</td>\n",
       "    </tr>\n",
       "    <tr>\n",
       "      <th>30</th>\n",
       "      <td>23</td>\n",
       "      <td>1</td>\n",
       "    </tr>\n",
       "  </tbody>\n",
       "</table>\n",
       "</div>"
      ],
      "text/plain": [
       "    index  application_id\n",
       "0       7             947\n",
       "1       9             731\n",
       "2      10             389\n",
       "3      16             362\n",
       "4       8             328\n",
       "5       2             174\n",
       "6      29              97\n",
       "7      20              95\n",
       "8       6              35\n",
       "9       1              34\n",
       "10     26              28\n",
       "11     34              28\n",
       "12     15              20\n",
       "13      0              18\n",
       "15     28              17\n",
       "14      3              17\n",
       "16     12              15\n",
       "17     18              14\n",
       "18     24              13\n",
       "19     17              13\n",
       "20     14              13\n",
       "21     21               7\n",
       "22      5               3\n",
       "23     13               3\n",
       "24     33               2\n",
       "25     30               2\n",
       "26     19               2\n",
       "27     32               2\n",
       "28     36               1\n",
       "29      4               1\n",
       "30     23               1"
      ]
     },
     "execution_count": 171,
     "metadata": {},
     "output_type": "execute_result"
    }
   ],
   "source": [
    "app_count"
   ]
  },
  {
   "cell_type": "code",
   "execution_count": 35,
   "metadata": {},
   "outputs": [
    {
     "name": "stdout",
     "output_type": "stream",
     "text": [
      "         dia  cantidad\n",
      "7 2019-03-05       337\n",
      "8 2019-03-06       325\n",
      "2 2019-03-07       393\n",
      "5 2019-03-08       366\n",
      "4 2019-03-09       368\n",
      "6 2019-03-10       351\n",
      "3 2019-03-11       377\n",
      "0 2019-03-12       472\n",
      "1 2019-03-13       423\n"
     ]
    },
    {
     "data": {
      "image/png": "[encoded data removed]",
      "text/plain": [
       "<Figure size 432x288 with 1 Axes>"
      ]
     },
     "metadata": {
      "needs_background": "light"
     },
     "output_type": "display_data"
    },
    {
     "name": "stdout",
     "output_type": "stream",
     "text": [
      "    hora  cantidad\n",
      "8      1       191\n",
      "11     2       174\n",
      "16     3       115\n",
      "17     4        76\n",
      "19     5        38\n",
      "23     6        18\n",
      "22     7        21\n",
      "20     8        28\n",
      "21     9        27\n",
      "18    10        63\n",
      "15    11       116\n",
      "14    12       130\n",
      "13    13       169\n",
      "5     14       201\n",
      "2     15       220\n",
      "10    16       186\n",
      "0     17       233\n",
      "12    18       170\n",
      "4     19       211\n",
      "9     20       188\n",
      "6     21       198\n",
      "1     22       229\n",
      "3     23       212\n",
      "7     24       198\n"
     ]
    },
    {
     "data": {
      "image/png": "[encoded data removed]",
      "text/plain": [
       "<Figure size 432x288 with 1 Axes>"
      ]
     },
     "metadata": {
      "needs_background": "light"
     },
     "output_type": "display_data"
    }
   ],
   "source": [
    "#Convertimos el campo created a datetime.\n",
    "\n",
    "df_installs.created = pd.to_datetime(df_installs.created)\n",
    "\n",
    "#Obtenemos las instalaciones por dia y hora.\n",
    "\n",
    "df_installs_por_dia = df_installs.created\\\n",
    "       .dt.floor('d')\\\n",
    "       .value_counts()\\\n",
    "       .rename_axis('dia')\\\n",
    "       .reset_index(name='cantidad')\\\n",
    "       .sort_values(by='dia', ascending=True)\n",
    "\n",
    "print(df_installs_por_dia)\n",
    "\n",
    "plt.bar(np.arange(len(df_installs_por_dia)), df_installs_por_dia.cantidad, align='center', alpha=0.5)\n",
    "plt.xticks(np.arange(len(df_installs_por_dia)), df_installs_por_dia.dia.dt.date,rotation=90)\n",
    "plt.ylabel('Instalaciones')\n",
    "plt.ylabel('Fecha')\n",
    "plt.title('Cantidad de instalaciones por dia')\n",
    " \n",
    "plt.show()\n",
    "\n",
    "#Generamos una columna con la hora de la instalación\n",
    "df_installs['hour'] = df_installs.created.dt.hour\n",
    "df_installs['hour'] = df_installs['hour'].replace(0,24)\n",
    "\n",
    "df_installs_por_hora = df_installs.hour\\\n",
    "       .value_counts()\\\n",
    "       .rename_axis('hora')\\\n",
    "       .reset_index(name='cantidad')\\\n",
    "       .sort_values(by='hora', ascending=True)\n",
    "\n",
    "print(df_installs_por_hora)\n",
    "\n",
    "plt.bar(np.arange(len(df_installs_por_hora)), df_installs_por_hora.cantidad, align='center', alpha=0.5)\n",
    "plt.xticks(np.arange(len(df_installs_por_hora)), df_installs_por_hora.hora,rotation=90)\n",
    "plt.ylabel('Instalaciones')\n",
    "plt.ylabel('Hora')\n",
    "plt.title('Cantidad de instalaciones por hora')\n",
    " \n",
    "plt.show()"
   ]
  },
  {
   "cell_type": "markdown",
   "metadata": {},
   "source": [
    "La cantidad de instalaciones por día se mantiene constante durante todos los dias de la muestra. Sin embargo, se puede observar que la mayor cantidad de instalaciones se producen en dos rangos de horarios : entre las 14 y 17 hs, y luego entre las 22 y 00 hs."
   ]
  },
  {
   "cell_type": "code",
   "execution_count": 189,
   "metadata": {},
   "outputs": [
    {
     "data": {
      "image/png": "[encoded data removed]",
      "text/plain": [
       "<Figure size 1440x720 with 1 Axes>"
      ]
     },
     "metadata": {
      "needs_background": "light"
     },
     "output_type": "display_data"
    }
   ],
   "source": [
    "installs_by_kind = df_installs.kind.value_counts(sort=True)\\\n",
    "       .reset_index()\\\n",
    "       .sort_values(['kind'], ascending=False)\n",
    "\n",
    "plt.figure(figsize=(20,10))\n",
    "ax=sns.barplot(installs_by_kind.kind, installs_by_kind.index, alpha=0.8, orient='h')\n",
    "ax.set_yticklabels(installs_by_kind['index'])\n",
    "ax.grid(axis='x')\n",
    "plt.title('Cantidad de instalaciones por tipo')\n",
    "plt.ylabel('Tipo de instalación', fontsize=12)\n",
    "plt.xlabel('Cantidad de instalaciones', fontsize=12)\n",
    "plt.show()"
   ]
  },
  {
   "cell_type": "code",
   "execution_count": 177,
   "metadata": {},
   "outputs": [
    {
     "data": {
      "text/html": [
       "<div>\n",
       "<style scoped>\n",
       "    .dataframe tbody tr th:only-of-type {\n",
       "        vertical-align: middle;\n",
       "    }\n",
       "\n",
       "    .dataframe tbody tr th {\n",
       "        vertical-align: top;\n",
       "    }\n",
       "\n",
       "    .dataframe thead th {\n",
       "        text-align: right;\n",
       "    }\n",
       "</style>\n",
       "<table border=\"1\" class=\"dataframe\">\n",
       "  <thead>\n",
       "    <tr style=\"text-align: right;\">\n",
       "      <th></th>\n",
       "      <th>index</th>\n",
       "      <th>kind</th>\n",
       "    </tr>\n",
       "  </thead>\n",
       "  <tbody>\n",
       "    <tr>\n",
       "      <th>0</th>\n",
       "      <td>af_app_opened</td>\n",
       "      <td>428</td>\n",
       "    </tr>\n",
       "    <tr>\n",
       "      <th>1</th>\n",
       "      <td>app_open</td>\n",
       "      <td>212</td>\n",
       "    </tr>\n",
       "    <tr>\n",
       "      <th>2</th>\n",
       "      <td>EVENT_Homepage</td>\n",
       "      <td>70</td>\n",
       "    </tr>\n",
       "    <tr>\n",
       "      <th>3</th>\n",
       "      <td>open</td>\n",
       "      <td>36</td>\n",
       "    </tr>\n",
       "    <tr>\n",
       "      <th>4</th>\n",
       "      <td>EVENT_OPEN_APP</td>\n",
       "      <td>33</td>\n",
       "    </tr>\n",
       "    <tr>\n",
       "      <th>5</th>\n",
       "      <td>Open</td>\n",
       "      <td>22</td>\n",
       "    </tr>\n",
       "    <tr>\n",
       "      <th>6</th>\n",
       "      <td>login_success</td>\n",
       "      <td>17</td>\n",
       "    </tr>\n",
       "    <tr>\n",
       "      <th>7</th>\n",
       "      <td>account_summary_first_step</td>\n",
       "      <td>13</td>\n",
       "    </tr>\n",
       "    <tr>\n",
       "      <th>8</th>\n",
       "      <td>EVENT_HOMEPAGE</td>\n",
       "      <td>6</td>\n",
       "    </tr>\n",
       "    <tr>\n",
       "      <th>9</th>\n",
       "      <td>EVENT_LISTINGVIEW_FLIGHT</td>\n",
       "      <td>6</td>\n",
       "    </tr>\n",
       "    <tr>\n",
       "      <th>10</th>\n",
       "      <td>deeplink</td>\n",
       "      <td>5</td>\n",
       "    </tr>\n",
       "    <tr>\n",
       "      <th>11</th>\n",
       "      <td>reattribution</td>\n",
       "      <td>4</td>\n",
       "    </tr>\n",
       "    <tr>\n",
       "      <th>12</th>\n",
       "      <td>registration</td>\n",
       "      <td>3</td>\n",
       "    </tr>\n",
       "    <tr>\n",
       "      <th>13</th>\n",
       "      <td>payment method add</td>\n",
       "      <td>3</td>\n",
       "    </tr>\n",
       "    <tr>\n",
       "      <th>14</th>\n",
       "      <td>journey first drop off</td>\n",
       "      <td>2</td>\n",
       "    </tr>\n",
       "    <tr>\n",
       "      <th>15</th>\n",
       "      <td>af_list_view</td>\n",
       "      <td>1</td>\n",
       "    </tr>\n",
       "    <tr>\n",
       "      <th>16</th>\n",
       "      <td>EVENT_PROMO</td>\n",
       "      <td>1</td>\n",
       "    </tr>\n",
       "    <tr>\n",
       "      <th>17</th>\n",
       "      <td>install</td>\n",
       "      <td>1</td>\n",
       "    </tr>\n",
       "    <tr>\n",
       "      <th>18</th>\n",
       "      <td>journey drop off</td>\n",
       "      <td>1</td>\n",
       "    </tr>\n",
       "    <tr>\n",
       "      <th>19</th>\n",
       "      <td>journey reserved</td>\n",
       "      <td>1</td>\n",
       "    </tr>\n",
       "  </tbody>\n",
       "</table>\n",
       "</div>"
      ],
      "text/plain": [
       "                         index  kind\n",
       "0                af_app_opened   428\n",
       "1                     app_open   212\n",
       "2               EVENT_Homepage    70\n",
       "3                         open    36\n",
       "4               EVENT_OPEN_APP    33\n",
       "5                         Open    22\n",
       "6                login_success    17\n",
       "7   account_summary_first_step    13\n",
       "8               EVENT_HOMEPAGE     6\n",
       "9     EVENT_LISTINGVIEW_FLIGHT     6\n",
       "10                    deeplink     5\n",
       "11               reattribution     4\n",
       "12                registration     3\n",
       "13          payment method add     3\n",
       "14      journey first drop off     2\n",
       "15                af_list_view     1\n",
       "16                 EVENT_PROMO     1\n",
       "17                     install     1\n",
       "18            journey drop off     1\n",
       "19            journey reserved     1"
      ]
     },
     "execution_count": 177,
     "metadata": {},
     "output_type": "execute_result"
    }
   ],
   "source": [
    "installs_by_kind"
   ]
  },
  {
   "cell_type": "code",
   "execution_count": 188,
   "metadata": {},
   "outputs": [
    {
     "data": {
      "image/png": "[encoded data removed]",
      "text/plain": [
       "<Figure size 1440x1440 with 1 Axes>"
      ]
     },
     "metadata": {
      "needs_background": "light"
     },
     "output_type": "display_data"
    }
   ],
   "source": [
    "#Obtenemos el top 30 de cantidad de eventos por IP\n",
    "installs_by_ip_address = df_installs.ip_address.value_counts(sort=True)\\\n",
    "       .reset_index()\\\n",
    "       .sort_values(['ip_address'], ascending=False)\n",
    "\n",
    "installs_by_ip_address = installs_by_ip_address.loc[:30,]\n",
    "\n",
    "plt.figure(figsize=(20,20))\n",
    "ax=sns.barplot(installs_by_ip_address.ip_address, installs_by_ip_address.index, alpha=0.8, orient='h')\n",
    "ax.set_yticklabels(installs_by_ip_address['index'])\n",
    "ax.grid(axis='x')\n",
    "plt.title('Cantidad de instalaciones por IP')\n",
    "plt.ylabel('IP', fontsize=12)\n",
    "plt.xlabel('Cantidad de instalaciones', fontsize=12)\n",
    "plt.show()"
   ]
  },
  {
   "cell_type": "code",
   "execution_count": 180,
   "metadata": {},
   "outputs": [
    {
     "data": {
      "text/html": [
       "<div>\n",
       "<style scoped>\n",
       "    .dataframe tbody tr th:only-of-type {\n",
       "        vertical-align: middle;\n",
       "    }\n",
       "\n",
       "    .dataframe tbody tr th {\n",
       "        vertical-align: top;\n",
       "    }\n",
       "\n",
       "    .dataframe thead th {\n",
       "        text-align: right;\n",
       "    }\n",
       "</style>\n",
       "<table border=\"1\" class=\"dataframe\">\n",
       "  <thead>\n",
       "    <tr style=\"text-align: right;\">\n",
       "      <th></th>\n",
       "      <th>index</th>\n",
       "      <th>ip_address</th>\n",
       "    </tr>\n",
       "  </thead>\n",
       "  <tbody>\n",
       "    <tr>\n",
       "      <th>0</th>\n",
       "      <td>1992632945768888579</td>\n",
       "      <td>33</td>\n",
       "    </tr>\n",
       "    <tr>\n",
       "      <th>1</th>\n",
       "      <td>2403839579048525602</td>\n",
       "      <td>26</td>\n",
       "    </tr>\n",
       "    <tr>\n",
       "      <th>2</th>\n",
       "      <td>2394721645995561079</td>\n",
       "      <td>17</td>\n",
       "    </tr>\n",
       "    <tr>\n",
       "      <th>3</th>\n",
       "      <td>589886713227299026</td>\n",
       "      <td>16</td>\n",
       "    </tr>\n",
       "    <tr>\n",
       "      <th>4</th>\n",
       "      <td>8262991154202232888</td>\n",
       "      <td>14</td>\n",
       "    </tr>\n",
       "    <tr>\n",
       "      <th>5</th>\n",
       "      <td>8010533080341024188</td>\n",
       "      <td>13</td>\n",
       "    </tr>\n",
       "    <tr>\n",
       "      <th>6</th>\n",
       "      <td>8531002764348621869</td>\n",
       "      <td>12</td>\n",
       "    </tr>\n",
       "    <tr>\n",
       "      <th>7</th>\n",
       "      <td>7726314782926052608</td>\n",
       "      <td>12</td>\n",
       "    </tr>\n",
       "    <tr>\n",
       "      <th>8</th>\n",
       "      <td>7481987231813232849</td>\n",
       "      <td>11</td>\n",
       "    </tr>\n",
       "    <tr>\n",
       "      <th>9</th>\n",
       "      <td>2441645233986204328</td>\n",
       "      <td>11</td>\n",
       "    </tr>\n",
       "    <tr>\n",
       "      <th>11</th>\n",
       "      <td>3162368506662488065</td>\n",
       "      <td>9</td>\n",
       "    </tr>\n",
       "    <tr>\n",
       "      <th>10</th>\n",
       "      <td>2706357072127963511</td>\n",
       "      <td>9</td>\n",
       "    </tr>\n",
       "    <tr>\n",
       "      <th>12</th>\n",
       "      <td>6586849487961128061</td>\n",
       "      <td>7</td>\n",
       "    </tr>\n",
       "    <tr>\n",
       "      <th>13</th>\n",
       "      <td>7052859104363282878</td>\n",
       "      <td>7</td>\n",
       "    </tr>\n",
       "    <tr>\n",
       "      <th>14</th>\n",
       "      <td>9040150555093642379</td>\n",
       "      <td>7</td>\n",
       "    </tr>\n",
       "    <tr>\n",
       "      <th>15</th>\n",
       "      <td>627974920620404284</td>\n",
       "      <td>7</td>\n",
       "    </tr>\n",
       "    <tr>\n",
       "      <th>16</th>\n",
       "      <td>4895833194809562361</td>\n",
       "      <td>7</td>\n",
       "    </tr>\n",
       "    <tr>\n",
       "      <th>17</th>\n",
       "      <td>4371364616797404439</td>\n",
       "      <td>6</td>\n",
       "    </tr>\n",
       "    <tr>\n",
       "      <th>22</th>\n",
       "      <td>6324037615828123965</td>\n",
       "      <td>5</td>\n",
       "    </tr>\n",
       "    <tr>\n",
       "      <th>25</th>\n",
       "      <td>3927367081536317814</td>\n",
       "      <td>5</td>\n",
       "    </tr>\n",
       "    <tr>\n",
       "      <th>24</th>\n",
       "      <td>7950883564880561905</td>\n",
       "      <td>5</td>\n",
       "    </tr>\n",
       "    <tr>\n",
       "      <th>23</th>\n",
       "      <td>8235954648733428120</td>\n",
       "      <td>5</td>\n",
       "    </tr>\n",
       "    <tr>\n",
       "      <th>18</th>\n",
       "      <td>3222899837426106171</td>\n",
       "      <td>5</td>\n",
       "    </tr>\n",
       "    <tr>\n",
       "      <th>21</th>\n",
       "      <td>739514463662096135</td>\n",
       "      <td>5</td>\n",
       "    </tr>\n",
       "    <tr>\n",
       "      <th>20</th>\n",
       "      <td>5437394128393850342</td>\n",
       "      <td>5</td>\n",
       "    </tr>\n",
       "    <tr>\n",
       "      <th>19</th>\n",
       "      <td>1037699812701179191</td>\n",
       "      <td>5</td>\n",
       "    </tr>\n",
       "    <tr>\n",
       "      <th>37</th>\n",
       "      <td>8190612072432712162</td>\n",
       "      <td>4</td>\n",
       "    </tr>\n",
       "    <tr>\n",
       "      <th>46</th>\n",
       "      <td>7244479892824419405</td>\n",
       "      <td>4</td>\n",
       "    </tr>\n",
       "    <tr>\n",
       "      <th>45</th>\n",
       "      <td>7833422721300884983</td>\n",
       "      <td>4</td>\n",
       "    </tr>\n",
       "    <tr>\n",
       "      <th>44</th>\n",
       "      <td>9123500804504613618</td>\n",
       "      <td>4</td>\n",
       "    </tr>\n",
       "    <tr>\n",
       "      <th>43</th>\n",
       "      <td>4793660599980004045</td>\n",
       "      <td>4</td>\n",
       "    </tr>\n",
       "    <tr>\n",
       "      <th>42</th>\n",
       "      <td>3152969854797135243</td>\n",
       "      <td>4</td>\n",
       "    </tr>\n",
       "    <tr>\n",
       "      <th>41</th>\n",
       "      <td>7552160338482929325</td>\n",
       "      <td>4</td>\n",
       "    </tr>\n",
       "    <tr>\n",
       "      <th>40</th>\n",
       "      <td>3544660715158549225</td>\n",
       "      <td>4</td>\n",
       "    </tr>\n",
       "    <tr>\n",
       "      <th>39</th>\n",
       "      <td>9221949873099483746</td>\n",
       "      <td>4</td>\n",
       "    </tr>\n",
       "    <tr>\n",
       "      <th>38</th>\n",
       "      <td>1611009753752785166</td>\n",
       "      <td>4</td>\n",
       "    </tr>\n",
       "    <tr>\n",
       "      <th>31</th>\n",
       "      <td>3724124944069064294</td>\n",
       "      <td>4</td>\n",
       "    </tr>\n",
       "    <tr>\n",
       "      <th>36</th>\n",
       "      <td>7600703695249297645</td>\n",
       "      <td>4</td>\n",
       "    </tr>\n",
       "    <tr>\n",
       "      <th>30</th>\n",
       "      <td>1798774855867913569</td>\n",
       "      <td>4</td>\n",
       "    </tr>\n",
       "  </tbody>\n",
       "</table>\n",
       "</div>"
      ],
      "text/plain": [
       "                  index  ip_address\n",
       "0   1992632945768888579          33\n",
       "1   2403839579048525602          26\n",
       "2   2394721645995561079          17\n",
       "3    589886713227299026          16\n",
       "4   8262991154202232888          14\n",
       "5   8010533080341024188          13\n",
       "6   8531002764348621869          12\n",
       "7   7726314782926052608          12\n",
       "8   7481987231813232849          11\n",
       "9   2441645233986204328          11\n",
       "11  3162368506662488065           9\n",
       "10  2706357072127963511           9\n",
       "12  6586849487961128061           7\n",
       "13  7052859104363282878           7\n",
       "14  9040150555093642379           7\n",
       "15   627974920620404284           7\n",
       "16  4895833194809562361           7\n",
       "17  4371364616797404439           6\n",
       "22  6324037615828123965           5\n",
       "25  3927367081536317814           5\n",
       "24  7950883564880561905           5\n",
       "23  8235954648733428120           5\n",
       "18  3222899837426106171           5\n",
       "21   739514463662096135           5\n",
       "20  5437394128393850342           5\n",
       "19  1037699812701179191           5\n",
       "37  8190612072432712162           4\n",
       "46  7244479892824419405           4\n",
       "45  7833422721300884983           4\n",
       "44  9123500804504613618           4\n",
       "43  4793660599980004045           4\n",
       "42  3152969854797135243           4\n",
       "41  7552160338482929325           4\n",
       "40  3544660715158549225           4\n",
       "39  9221949873099483746           4\n",
       "38  1611009753752785166           4\n",
       "31  3724124944069064294           4\n",
       "36  7600703695249297645           4\n",
       "30  1798774855867913569           4"
      ]
     },
     "execution_count": 180,
     "metadata": {},
     "output_type": "execute_result"
    }
   ],
   "source": [
    "installs_by_ip_address"
   ]
  },
  {
   "cell_type": "markdown",
   "metadata": {},
   "source": [
    "Podemos ver que la IP <b>1992632945768888579</b> es la que realizó la mayor cantidad de instalaciones, y también, la que tuvo la mayor cantidad de eventos."
   ]
  },
  {
   "cell_type": "code",
   "execution_count": 181,
   "metadata": {},
   "outputs": [],
   "source": [
    "ips = pd.merge(events_by_ip_address,installs_by_ip_address,on=\"index\")"
   ]
  },
  {
   "cell_type": "code",
   "execution_count": 182,
   "metadata": {},
   "outputs": [
    {
     "data": {
      "text/html": [
       "<div>\n",
       "<style scoped>\n",
       "    .dataframe tbody tr th:only-of-type {\n",
       "        vertical-align: middle;\n",
       "    }\n",
       "\n",
       "    .dataframe tbody tr th {\n",
       "        vertical-align: top;\n",
       "    }\n",
       "\n",
       "    .dataframe thead th {\n",
       "        text-align: right;\n",
       "    }\n",
       "</style>\n",
       "<table border=\"1\" class=\"dataframe\">\n",
       "  <thead>\n",
       "    <tr style=\"text-align: right;\">\n",
       "      <th></th>\n",
       "      <th>index</th>\n",
       "      <th>ip_address_x</th>\n",
       "      <th>ip_address_y</th>\n",
       "    </tr>\n",
       "  </thead>\n",
       "  <tbody>\n",
       "    <tr>\n",
       "      <th>0</th>\n",
       "      <td>1992632945768888579</td>\n",
       "      <td>22640</td>\n",
       "      <td>33</td>\n",
       "    </tr>\n",
       "    <tr>\n",
       "      <th>1</th>\n",
       "      <td>3162368506662488065</td>\n",
       "      <td>19379</td>\n",
       "      <td>9</td>\n",
       "    </tr>\n",
       "    <tr>\n",
       "      <th>2</th>\n",
       "      <td>7726314782926052608</td>\n",
       "      <td>17704</td>\n",
       "      <td>12</td>\n",
       "    </tr>\n",
       "    <tr>\n",
       "      <th>3</th>\n",
       "      <td>2394721645995561079</td>\n",
       "      <td>9777</td>\n",
       "      <td>17</td>\n",
       "    </tr>\n",
       "    <tr>\n",
       "      <th>4</th>\n",
       "      <td>589886713227299026</td>\n",
       "      <td>7561</td>\n",
       "      <td>16</td>\n",
       "    </tr>\n",
       "    <tr>\n",
       "      <th>5</th>\n",
       "      <td>7833422721300884983</td>\n",
       "      <td>7197</td>\n",
       "      <td>4</td>\n",
       "    </tr>\n",
       "    <tr>\n",
       "      <th>6</th>\n",
       "      <td>2403839579048525602</td>\n",
       "      <td>7100</td>\n",
       "      <td>26</td>\n",
       "    </tr>\n",
       "    <tr>\n",
       "      <th>7</th>\n",
       "      <td>8235954648733428120</td>\n",
       "      <td>6933</td>\n",
       "      <td>5</td>\n",
       "    </tr>\n",
       "    <tr>\n",
       "      <th>8</th>\n",
       "      <td>7481987231813232849</td>\n",
       "      <td>6855</td>\n",
       "      <td>11</td>\n",
       "    </tr>\n",
       "    <tr>\n",
       "      <th>9</th>\n",
       "      <td>8010533080341024188</td>\n",
       "      <td>6241</td>\n",
       "      <td>13</td>\n",
       "    </tr>\n",
       "    <tr>\n",
       "      <th>10</th>\n",
       "      <td>2441645233986204328</td>\n",
       "      <td>6108</td>\n",
       "      <td>11</td>\n",
       "    </tr>\n",
       "    <tr>\n",
       "      <th>11</th>\n",
       "      <td>2706357072127963511</td>\n",
       "      <td>4993</td>\n",
       "      <td>9</td>\n",
       "    </tr>\n",
       "    <tr>\n",
       "      <th>12</th>\n",
       "      <td>8262991154202232888</td>\n",
       "      <td>4736</td>\n",
       "      <td>14</td>\n",
       "    </tr>\n",
       "    <tr>\n",
       "      <th>13</th>\n",
       "      <td>1037699812701179191</td>\n",
       "      <td>4554</td>\n",
       "      <td>5</td>\n",
       "    </tr>\n",
       "    <tr>\n",
       "      <th>14</th>\n",
       "      <td>8531002764348621869</td>\n",
       "      <td>2710</td>\n",
       "      <td>12</td>\n",
       "    </tr>\n",
       "    <tr>\n",
       "      <th>15</th>\n",
       "      <td>3222899837426106171</td>\n",
       "      <td>2518</td>\n",
       "      <td>5</td>\n",
       "    </tr>\n",
       "    <tr>\n",
       "      <th>16</th>\n",
       "      <td>6324037615828123965</td>\n",
       "      <td>2408</td>\n",
       "      <td>5</td>\n",
       "    </tr>\n",
       "  </tbody>\n",
       "</table>\n",
       "</div>"
      ],
      "text/plain": [
       "                  index  ip_address_x  ip_address_y\n",
       "0   1992632945768888579         22640            33\n",
       "1   3162368506662488065         19379             9\n",
       "2   7726314782926052608         17704            12\n",
       "3   2394721645995561079          9777            17\n",
       "4    589886713227299026          7561            16\n",
       "5   7833422721300884983          7197             4\n",
       "6   2403839579048525602          7100            26\n",
       "7   8235954648733428120          6933             5\n",
       "8   7481987231813232849          6855            11\n",
       "9   8010533080341024188          6241            13\n",
       "10  2441645233986204328          6108            11\n",
       "11  2706357072127963511          4993             9\n",
       "12  8262991154202232888          4736            14\n",
       "13  1037699812701179191          4554             5\n",
       "14  8531002764348621869          2710            12\n",
       "15  3222899837426106171          2518             5\n",
       "16  6324037615828123965          2408             5"
      ]
     },
     "execution_count": 182,
     "metadata": {},
     "output_type": "execute_result"
    }
   ],
   "source": [
    "ips"
   ]
  },
  {
   "cell_type": "code",
   "execution_count": 211,
   "metadata": {},
   "outputs": [
    {
     "data": {
      "image/png": "[encoded data removed]",
      "text/plain": [
       "<Figure size 576x720 with 1 Axes>"
      ]
     },
     "metadata": {
      "needs_background": "light"
     },
     "output_type": "display_data"
    }
   ],
   "source": [
    "#Comparación de subastas y eventos por día.\n",
    "\n",
    "n_groups = len(ips.index)\n",
    "eventos = ips.ip_address_x\n",
    "installs = ips.ip_address_y\n",
    " \n",
    "# create plot\n",
    "fig, ax = plt.subplots(figsize=(8,10))\n",
    "index = np.arange(n_groups)\n",
    "bar_width = 0.35\n",
    "opacity = 0.8\n",
    "\n",
    "rects1 = plt.bar(index, eventos, bar_width,\n",
    "alpha=opacity,\n",
    "color='orange',\n",
    "label='Eventos')\n",
    "    \n",
    "rects2 = plt.bar(index + bar_width, installs, bar_width,\n",
    "alpha=opacity,\n",
    "color='black',\n",
    "label='Instalaciones')\n",
    " \n",
    "plt.xlabel('IPs')\n",
    "plt.ylabel('Cantidad')\n",
    "plt.title('Eventos e instalaciones por IP')\n",
    "plt.xticks(index + bar_width, ips['index'],rotation=90)\n",
    "plt.legend()\n",
    " \n",
    "plt.tight_layout()\n",
    "plt.show()"
   ]
  },
  {
   "cell_type": "code",
   "execution_count": 213,
   "metadata": {},
   "outputs": [
    {
     "name": "stdout",
     "output_type": "stream",
     "text": [
      "           brand  count\n",
      "0   3.083059e+17    472\n",
      "1   2.208835e+18    185\n",
      "2   2.523246e+18    116\n",
      "3   5.951325e+18     72\n",
      "4   2.987569e+18     40\n",
      "5   3.812621e+18     37\n",
      "6   5.137992e+17     34\n",
      "7   6.538562e+18     26\n",
      "8   3.228516e+18      9\n",
      "9   1.083369e+18      9\n",
      "10  4.371308e+18      7\n",
      "11  3.093166e+18      5\n",
      "12  2.262848e+18      5\n",
      "14  3.849490e+18      4\n",
      "13  4.994101e+18      4\n",
      "15  8.285870e+18      3\n",
      "16  3.742387e+18      3\n",
      "17  5.645692e+18      3\n",
      "18  8.230045e+17      3\n",
      "19  6.111647e+18      3\n",
      "20  9.169527e+18      1\n",
      "21  5.588755e+18      1\n",
      "22  3.172231e+18      1\n",
      "23  5.189983e+18      1\n",
      "24  3.624089e+18      1\n",
      "25  7.855186e+18      1\n",
      "26  2.748831e+18      1\n"
     ]
    },
    {
     "data": {
      "image/png": "[encoded data removed]",
      "text/plain": [
       "<Figure size 1080x720 with 1 Axes>"
      ]
     },
     "metadata": {
      "needs_background": "light"
     },
     "output_type": "display_data"
    }
   ],
   "source": [
    "#Nos quedamos solo con el top 10 de marcas en las cuales se realizaron más instalaciones.\n",
    "installs_by_brand = df_installs.device_brand.value_counts(sort=True).reset_index().sort_values(['device_brand'], ascending=False)\n",
    "print(installs_by_brand.rename(columns = {'index':'brand','device_brand':'count'}))\n",
    "installs_by_brand = installs_by_brand.loc[:10,]\n",
    "plt.figure(figsize=(15,10))\n",
    "ax=sns.barplot(installs_by_brand.index, installs_by_brand.device_brand, alpha=0.8)\n",
    "ax.set_xticklabels(installs_by_brand['index'])\n",
    "plt.title('Top 10 instalaciones por Marca')\n",
    "plt.ylabel('Instalaciones', fontsize=12)\n",
    "plt.xlabel('Marca', fontsize=12)\n",
    "plt.xticks(rotation=90)\n",
    "plt.show()"
   ]
  },
  {
   "cell_type": "markdown",
   "metadata": {},
   "source": [
    "<H1 align=\"center\">Dataset Auctions</H1><br>"
   ]
  },
  {
   "cell_type": "code",
   "execution_count": 36,
   "metadata": {
    "scrolled": true
   },
   "outputs": [
    {
     "data": {
      "text/html": [
       "<div>\n",
       "<style scoped>\n",
       "    .dataframe tbody tr th:only-of-type {\n",
       "        vertical-align: middle;\n",
       "    }\n",
       "\n",
       "    .dataframe tbody tr th {\n",
       "        vertical-align: top;\n",
       "    }\n",
       "\n",
       "    .dataframe thead th {\n",
       "        text-align: right;\n",
       "    }\n",
       "</style>\n",
       "<table border=\"1\" class=\"dataframe\">\n",
       "  <thead>\n",
       "    <tr style=\"text-align: right;\">\n",
       "      <th></th>\n",
       "      <th>auction_type_id</th>\n",
       "      <th>country</th>\n",
       "      <th>date</th>\n",
       "      <th>device_id</th>\n",
       "      <th>platform</th>\n",
       "      <th>ref_type_id</th>\n",
       "      <th>source_id</th>\n",
       "    </tr>\n",
       "  </thead>\n",
       "  <tbody>\n",
       "    <tr>\n",
       "      <th>0</th>\n",
       "      <td>NaN</td>\n",
       "      <td>6333597102633388268</td>\n",
       "      <td>2019-03-11 14:18:33.290763</td>\n",
       "      <td>6059599345986491085</td>\n",
       "      <td>1</td>\n",
       "      <td>1</td>\n",
       "      <td>0</td>\n",
       "    </tr>\n",
       "    <tr>\n",
       "      <th>1</th>\n",
       "      <td>NaN</td>\n",
       "      <td>6333597102633388268</td>\n",
       "      <td>2019-03-11 14:18:34.440157</td>\n",
       "      <td>1115994996230693426</td>\n",
       "      <td>1</td>\n",
       "      <td>1</td>\n",
       "      <td>0</td>\n",
       "    </tr>\n",
       "    <tr>\n",
       "      <th>2</th>\n",
       "      <td>NaN</td>\n",
       "      <td>6333597102633388268</td>\n",
       "      <td>2019-03-11 14:18:35.862360</td>\n",
       "      <td>7463856250762200923</td>\n",
       "      <td>1</td>\n",
       "      <td>1</td>\n",
       "      <td>0</td>\n",
       "    </tr>\n",
       "  </tbody>\n",
       "</table>\n",
       "</div>"
      ],
      "text/plain": [
       "   auction_type_id              country                        date  \\\n",
       "0              NaN  6333597102633388268  2019-03-11 14:18:33.290763   \n",
       "1              NaN  6333597102633388268  2019-03-11 14:18:34.440157   \n",
       "2              NaN  6333597102633388268  2019-03-11 14:18:35.862360   \n",
       "\n",
       "             device_id  platform  ref_type_id  source_id  \n",
       "0  6059599345986491085         1            1          0  \n",
       "1  1115994996230693426         1            1          0  \n",
       "2  7463856250762200923         1            1          0  "
      ]
     },
     "execution_count": 36,
     "metadata": {},
     "output_type": "execute_result"
    }
   ],
   "source": [
    "#Analizamos el archivo de auctions.csv\n",
    "df_auctions.head(3)"
   ]
  },
  {
   "cell_type": "code",
   "execution_count": 37,
   "metadata": {},
   "outputs": [
    {
     "name": "stdout",
     "output_type": "stream",
     "text": [
      "6333597102633388268    19571319\n",
      "Name: country, dtype: int64\n",
      "         dia  cantidad\n",
      "7 2019-03-05   1182401\n",
      "8 2019-03-06   1032970\n",
      "6 2019-03-07   2047661\n",
      "4 2019-03-08   2303002\n",
      "5 2019-03-09   2074552\n",
      "2 2019-03-10   2637534\n",
      "3 2019-03-11   2574916\n",
      "1 2019-03-12   2779910\n",
      "0 2019-03-13   2938373\n"
     ]
    },
    {
     "data": {
      "image/png": "[encoded data removed]",
      "text/plain": [
       "<Figure size 432x288 with 1 Axes>"
      ]
     },
     "metadata": {
      "needs_background": "light"
     },
     "output_type": "display_data"
    }
   ],
   "source": [
    "#Las subastas se realizaron en el mismo país.\n",
    "print(df_auctions.country.value_counts())\n",
    "\n",
    "#Convertimos el campo date a datetime.\n",
    "df_auctions.date = pd.to_datetime(df_auctions.date)\n",
    "df_auctions_por_dia = df_auctions.date\\\n",
    "       .dt.floor('d')\\\n",
    "       .value_counts()\\\n",
    "       .rename_axis('dia')\\\n",
    "       .reset_index(name='cantidad')\\\n",
    "       .sort_values(by='dia', ascending=True)\n",
    "\n",
    "print(df_auctions_por_dia)\n",
    "plt.bar(np.arange(len(df_auctions_por_dia)), df_auctions_por_dia.cantidad, align='center', alpha=0.5)\n",
    "plt.xticks(np.arange(len(df_auctions_por_dia)), df_auctions_por_dia.dia,rotation=90)\n",
    "plt.ylabel('Subastas')\n",
    "plt.ylabel('Dia')\n",
    "plt.title('Cantidad de subastas por día')\n",
    " \n",
    "plt.show()"
   ]
  },
  {
   "cell_type": "code",
   "execution_count": 38,
   "metadata": {},
   "outputs": [
    {
     "data": {
      "image/png": "[encoded data removed]",
      "text/plain": [
       "<Figure size 432x288 with 1 Axes>"
      ]
     },
     "metadata": {
      "needs_background": "light"
     },
     "output_type": "display_data"
    }
   ],
   "source": [
    "#Comparación de subastas y eventos por día.\n",
    "\n",
    "n_groups = 9\n",
    "eventos = df_eventos_por_dia.cantidad\n",
    "subastas = df_auctions_por_dia.cantidad\n",
    " \n",
    "# create plot\n",
    "fig, ax = plt.subplots()\n",
    "index = np.arange(n_groups)\n",
    "bar_width = 0.35\n",
    "opacity = 0.8\n",
    "\n",
    "rects1 = plt.bar(index, eventos, bar_width,\n",
    "alpha=opacity,\n",
    "color='r',\n",
    "label='Eventos')\n",
    "    \n",
    "rects2 = plt.bar(index + bar_width, subastas, bar_width,\n",
    "alpha=opacity,\n",
    "color='y',\n",
    "label='Subastas')\n",
    "\n",
    "    \n",
    "plt.xlabel('Dia')\n",
    "plt.ylabel('Cantidad')\n",
    "plt.title('Eventos por subastas')\n",
    "plt.xticks(index + bar_width, df_eventos_por_dia.dia.dt.date,rotation=90)\n",
    "plt.legend()\n",
    " \n",
    "plt.tight_layout()\n",
    "plt.show()"
   ]
  },
  {
   "cell_type": "code",
   "execution_count": 39,
   "metadata": {},
   "outputs": [
    {
     "data": {
      "image/png": "[encoded data removed]",
      "text/plain": [
       "<Figure size 432x288 with 1 Axes>"
      ]
     },
     "metadata": {
      "needs_background": "light"
     },
     "output_type": "display_data"
    }
   ],
   "source": [
    "n_groups = 9\n",
    "clicks = df_clicks_por_dia.cantidad\n",
    "instalaciones = df_installs_por_dia.cantidad\n",
    " \n",
    "# create plot\n",
    "fig, ax = plt.subplots()\n",
    "index = np.arange(n_groups)\n",
    "bar_width = 0.35\n",
    "opacity = 0.8\n",
    " \n",
    "rects1 = plt.bar(index, instalaciones, bar_width,\n",
    "alpha=opacity,\n",
    "color='b',\n",
    "label='Instalaciones')\n",
    " \n",
    "rects2 = plt.bar(index + bar_width, clicks, bar_width,\n",
    "alpha=opacity,\n",
    "color='g',\n",
    "label='Clicks')\n",
    " \n",
    "plt.xlabel('Dia')\n",
    "plt.ylabel('Cantidad')\n",
    "plt.title('Instalaciones por clicks')\n",
    "plt.xticks(index + bar_width, df_installs_por_dia.dia.dt.date,rotation=90)\n",
    "plt.legend()\n",
    " \n",
    "plt.tight_layout()\n",
    "plt.show()"
   ]
  },
  {
   "cell_type": "code",
   "execution_count": 40,
   "metadata": {},
   "outputs": [
    {
     "name": "stderr",
     "output_type": "stream",
     "text": [
      "/Library/Frameworks/Python.framework/Versions/3.7/lib/python3.7/site-packages/ipykernel_launcher.py:4: SettingWithCopyWarning: \n",
      "A value is trying to be set on a copy of a slice from a DataFrame.\n",
      "Try using .loc[row_indexer,col_indexer] = value instead\n",
      "\n",
      "See the caveats in the documentation: http://pandas.pydata.org/pandas-docs/stable/indexing.html#indexing-view-versus-copy\n",
      "  after removing the cwd from sys.path.\n"
     ]
    },
    {
     "data": {
      "image/png": "[encoded data removed]",
      "text/plain": [
       "<Figure size 432x288 with 1 Axes>"
      ]
     },
     "metadata": {
      "needs_background": "light"
     },
     "output_type": "display_data"
    },
    {
     "name": "stderr",
     "output_type": "stream",
     "text": [
      "/Library/Frameworks/Python.framework/Versions/3.7/lib/python3.7/site-packages/ipykernel_launcher.py:18: SettingWithCopyWarning: \n",
      "A value is trying to be set on a copy of a slice from a DataFrame.\n",
      "Try using .loc[row_indexer,col_indexer] = value instead\n",
      "\n",
      "See the caveats in the documentation: http://pandas.pydata.org/pandas-docs/stable/indexing.html#indexing-view-versus-copy\n"
     ]
    },
    {
     "data": {
      "image/png": "[encoded data removed]",
      "text/plain": [
       "<Figure size 432x288 with 1 Axes>"
      ]
     },
     "metadata": {
      "needs_background": "light"
     },
     "output_type": "display_data"
    },
    {
     "data": {
      "image/png": "[encoded data removed]",
      "text/plain": [
       "<Figure size 432x288 with 1 Axes>"
      ]
     },
     "metadata": {
      "needs_background": "light"
     },
     "output_type": "display_data"
    }
   ],
   "source": [
    "# ¿Cuántas subastas terminan en instalaciones y cuàntas en solamente clicks?\n",
    "\n",
    "auctions_to_installs= df_auctions[df_auctions.device_id.isin(df_installs[\"ref_hash\"])]\n",
    "auctions_to_installs['datePart'] = auctions_to_installs.date.dt.floor('d')\n",
    "auctions_to_installs_per_day = auctions_to_installs.datePart.value_counts().rename_axis('dia')\\\n",
    "       .reset_index(name='cantidad')\\\n",
    "       .sort_values(by='dia', ascending=True)\n",
    "\n",
    "plt.bar(np.arange(len(auctions_to_installs_per_day)), auctions_to_installs_per_day.cantidad, align='center', alpha=0.5)\n",
    "plt.xticks(np.arange(len(auctions_to_installs_per_day)), auctions_to_installs_per_day.dia.dt.date,rotation=90)\n",
    "plt.ylabel('Subastas que terminan en instalaciones')\n",
    "plt.xlabel('Fecha')\n",
    "plt.title('Subastas que terminan en instalaciones por dia')\n",
    " \n",
    "plt.show()\n",
    "\n",
    "auctions_to_clicks = df_auctions[df_auctions.device_id.isin(df_clicks[\"ref_hash\"])]\n",
    "auctions_to_clicks['datePart'] = auctions_to_clicks.date.dt.floor('d')\n",
    "auctions_to_clicks_per_day = auctions_to_clicks.datePart.value_counts().rename_axis('dia')\\\n",
    "       .reset_index(name='cantidad')\\\n",
    "       .sort_values(by='dia', ascending=True)\n",
    "\n",
    "plt.bar(np.arange(len(auctions_to_clicks_per_day)), auctions_to_clicks_per_day.cantidad, align='center', alpha=0.5)\n",
    "plt.xticks(np.arange(len(auctions_to_clicks_per_day)), auctions_to_clicks_per_day.dia.dt.date,rotation=90)\n",
    "plt.ylabel('Subastas que terminan en clicks')\n",
    "plt.xlabel('Fecha')\n",
    "plt.title('Subastas que terminan en clicks por dia')\n",
    " \n",
    "plt.show()\n",
    "\n",
    "n_groups = 9\n",
    "clicks = auctions_to_clicks_per_day.cantidad\n",
    "instalaciones = auctions_to_installs_per_day.cantidad\n",
    " \n",
    "# create plot\n",
    "fig, ax = plt.subplots()\n",
    "index = np.arange(n_groups)\n",
    "bar_width = 0.35\n",
    "opacity = 0.8\n",
    " \n",
    "rects1 = plt.bar(index, instalaciones, bar_width,\n",
    "alpha=opacity,\n",
    "color='b',\n",
    "label='Instalaciones')\n",
    " \n",
    "rects2 = plt.bar(index + bar_width, clicks, bar_width,\n",
    "alpha=opacity,\n",
    "color='g',\n",
    "label='Clicks')\n",
    " \n",
    "plt.xlabel('Fecha')\n",
    "plt.ylabel('Cantidad')\n",
    "plt.title('Subastas que terminan en instalaciones/cliks por dia')\n",
    "plt.xticks(index + bar_width, auctions_to_installs_per_day.dia.dt.date,rotation=90)\n",
    "plt.legend()\n",
    " \n",
    "plt.tight_layout()\n",
    "plt.show()\n",
    "\n",
    "#Por lo que podemos observar, el 27,1% de las subastas realizadas terminan en clicks pero sólo el 0.3% de las mismas\n",
    "# terminan en instalaciones.\n"
   ]
  },
  {
   "cell_type": "code",
   "execution_count": 41,
   "metadata": {},
   "outputs": [
    {
     "data": {
      "image/png": "[encoded data removed]",
      "text/plain": [
       "<Figure size 432x432 with 1 Axes>"
      ]
     },
     "metadata": {},
     "output_type": "display_data"
    }
   ],
   "source": [
    "#preguntar si 1 seria ios o android.\n",
    "sizes = auctions_to_installs.platform.value_counts()\n",
    "nombres = ['2', '1']\n",
    "\n",
    "plt.figure(figsize=(6, 6))\n",
    "plt.title('Plataformas usadas en instalaciones', fontsize=20)\n",
    "plt.pie(sizes, labels=nombres, autopct='%1.1f%%', startangle=20, colors=['pink', 'grey'], explode=(0.1, 0))\n",
    "plt.show()"
   ]
  },
  {
   "cell_type": "code",
   "execution_count": 42,
   "metadata": {},
   "outputs": [
    {
     "name": "stdout",
     "output_type": "stream",
     "text": [
      "   cliente  cantidad\n",
      "1        0        70\n",
      "4        1         2\n",
      "2        2        12\n",
      "0        3     26263\n",
      "6        5         1\n",
      "3        7         2\n",
      "5        8         1\n"
     ]
    },
    {
     "data": {
      "image/png": "[encoded data removed]",
      "text/plain": [
       "<Figure size 432x288 with 1 Axes>"
      ]
     },
     "metadata": {
      "needs_background": "light"
     },
     "output_type": "display_data"
    }
   ],
   "source": [
    "#Clicks por clientes\n",
    "\n",
    "clicks_by_client = df_clicks.advertiser_id.value_counts().rename_axis('cliente')\\\n",
    "       .reset_index(name='cantidad')\\\n",
    "       .sort_values(by=\"cliente\", ascending=True)\n",
    "\n",
    "print(clicks_by_client)\n",
    "\n",
    "plt.bar(np.arange(len(clicks_by_client)), clicks_by_client.cantidad, align='center', alpha=0.5)\n",
    "plt.xticks(np.arange(len(clicks_by_client)), clicks_by_client.cliente)\n",
    "plt.ylabel('Clicks')\n",
    "plt.xlabel('Cliente')\n",
    "plt.title('Clicks por Clientes Jampp')\n",
    " \n",
    "plt.show()"
   ]
  },
  {
   "cell_type": "code",
   "execution_count": 43,
   "metadata": {},
   "outputs": [
    {
     "data": {
      "image/png": "[encoded data removed]",
      "text/plain": [
       "<Figure size 432x432 with 1 Axes>"
      ]
     },
     "metadata": {},
     "output_type": "display_data"
    }
   ],
   "source": [
    "#Tipos de clicks\n",
    "clicks_to_installs = df_clicks[df_clicks.ref_hash.isin(df_installs[\"ref_hash\"])]\n",
    "cant_clicks_to_installs = len(clicks_to_installs.index)\n",
    "\n",
    "clicks_to_events = df_clicks[df_clicks.ref_hash.isin(df_events[\"ref_hash\"])]\n",
    "cant_clicks_to_events = len(clicks_to_events.index)\n",
    "\n",
    "others_clicks = len(df_clicks.index) - (cant_clicks_to_installs + cant_clicks_to_events )\n",
    "\n",
    "sizes =[cant_clicks_to_installs,cant_clicks_to_events,others_clicks] \n",
    "nombres = ['Installs', 'Events', 'Others']\n",
    "\n",
    "plt.figure(figsize=(6, 6))\n",
    "plt.title('Tipos de clicks', fontsize=20)\n",
    "plt.pie(sizes, labels=nombres, autopct='%1.2f%%', startangle=20, colors=['orange', 'grey','pink'], explode=(0.3,0,0))\n",
    "plt.show()\n"
   ]
  },
  {
   "cell_type": "code",
   "execution_count": 44,
   "metadata": {},
   "outputs": [
    {
     "data": {
      "text/plain": [
       "False    2451949\n",
       "True       42474\n",
       "Name: ref_hash, dtype: int64"
      ]
     },
     "execution_count": 44,
     "metadata": {},
     "output_type": "execute_result"
    }
   ],
   "source": [
    "#Eventos que son instalaciones 42474 (1,7%) serían conversiones?\n",
    "\n",
    "df_events[\"ref_hash\"].isin(df_installs[\"ref_hash\"]).value_counts()"
   ]
  },
  {
   "cell_type": "code",
   "execution_count": 45,
   "metadata": {},
   "outputs": [
    {
     "data": {
      "text/plain": [
       "False    1447297\n",
       "True     1047126\n",
       "Name: ref_hash, dtype: int64"
      ]
     },
     "execution_count": 45,
     "metadata": {},
     "output_type": "execute_result"
    }
   ],
   "source": [
    "#Eventos que son subastas 1047126 (41,9%)\n",
    "\n",
    "df_events[\"ref_hash\"].isin(df_auctions[\"device_id\"]).value_counts()"
   ]
  },
  {
   "cell_type": "code",
   "execution_count": 46,
   "metadata": {},
   "outputs": [
    {
     "data": {
      "text/plain": [
       "False    26340\n",
       "True        11\n",
       "Name: ref_hash, dtype: int64"
      ]
     },
     "execution_count": 46,
     "metadata": {},
     "output_type": "execute_result"
    }
   ],
   "source": [
    "#Clicks que terminan en instalaciones 11 (0,04%)\n",
    "\n",
    "df_clicks[\"ref_hash\"].isin(df_installs[\"ref_hash\"]).value_counts()"
   ]
  },
  {
   "cell_type": "code",
   "execution_count": 47,
   "metadata": {},
   "outputs": [],
   "source": [
    "clicks_to_installs_by_client = clicks_to_installs.advertiser_id.value_counts().rename_axis('cliente')\\\n",
    "       .reset_index(name='cantidad')"
   ]
  },
  {
   "cell_type": "code",
   "execution_count": 48,
   "metadata": {},
   "outputs": [
    {
     "data": {
      "text/html": [
       "<div>\n",
       "<style scoped>\n",
       "    .dataframe tbody tr th:only-of-type {\n",
       "        vertical-align: middle;\n",
       "    }\n",
       "\n",
       "    .dataframe tbody tr th {\n",
       "        vertical-align: top;\n",
       "    }\n",
       "\n",
       "    .dataframe thead th {\n",
       "        text-align: right;\n",
       "    }\n",
       "</style>\n",
       "<table border=\"1\" class=\"dataframe\">\n",
       "  <thead>\n",
       "    <tr style=\"text-align: right;\">\n",
       "      <th></th>\n",
       "      <th>cliente</th>\n",
       "      <th>cantidad</th>\n",
       "    </tr>\n",
       "  </thead>\n",
       "  <tbody>\n",
       "    <tr>\n",
       "      <th>0</th>\n",
       "      <td>3</td>\n",
       "      <td>11</td>\n",
       "    </tr>\n",
       "  </tbody>\n",
       "</table>\n",
       "</div>"
      ],
      "text/plain": [
       "   cliente  cantidad\n",
       "0        3        11"
      ]
     },
     "execution_count": 48,
     "metadata": {},
     "output_type": "execute_result"
    }
   ],
   "source": [
    "clicks_to_installs_by_client"
   ]
  },
  {
   "cell_type": "code",
   "execution_count": 49,
   "metadata": {},
   "outputs": [
    {
     "data": {
      "image/png": "[encoded data removed]",
      "text/plain": [
       "<Figure size 432x288 with 1 Axes>"
      ]
     },
     "metadata": {
      "needs_background": "light"
     },
     "output_type": "display_data"
    }
   ],
   "source": [
    "#VER DE MODIFICAR ESCALA PARA QUE SE NOTE MAS LAS INSTALACIONES\n",
    "n_groups = 7\n",
    "clicks = clicks_by_client.cantidad\n",
    "instalaciones = clicks_to_installs_by_client.cantidad\n",
    " \n",
    "# create plot\n",
    "fig, ax = plt.subplots()\n",
    "index = np.arange(n_groups)\n",
    "bar_width = 0.35\n",
    "opacity = 0.8\n",
    " \n",
    "rects1 = plt.bar(index, instalaciones, bar_width,\n",
    "alpha=opacity,\n",
    "color='b',\n",
    "label='Instalaciones')\n",
    " \n",
    "rects2 = plt.bar(index + bar_width, clicks, bar_width,\n",
    "alpha=opacity,\n",
    "color='g',\n",
    "label='Clicks')\n",
    " \n",
    "plt.xlabel('Cliente')\n",
    "plt.ylabel('Cantidad')\n",
    "plt.title('Clicks por Cliente Jampp')\n",
    "plt.xticks(index + bar_width, clicks_by_client.cliente)\n",
    "plt.legend()\n",
    " \n",
    "plt.tight_layout()\n",
    "plt.show()\n",
    "\n",
    "#En conclusion .. el cliente con ID 3 es el que tiene la mayor cantidad de clicks. \n",
    "#Y sólo hay instalaciones de este cliente (a partir de las subastas).\n",
    "# ver si hay otro grafico para mostrar mejor esta diferencia"
   ]
  },
  {
   "cell_type": "code",
   "execution_count": null,
   "metadata": {},
   "outputs": [],
   "source": []
  },
  {
   "cell_type": "code",
   "execution_count": 50,
   "metadata": {},
   "outputs": [
    {
     "name": "stdout",
     "output_type": "stream",
     "text": [
      "   hora  cantidad\n",
      "0    17       233\n",
      "    hora  cantidad\n",
      "23     6        18\n",
      "                 cant\n",
      "date       hour      \n",
      "2019-03-05 23      27\n",
      "2019-03-06 21      27\n",
      "           23      27\n",
      "2019-03-07 17      35\n",
      "2019-03-08 24      33\n",
      "2019-03-09 17      28\n",
      "2019-03-10 14      29\n",
      "2019-03-11 22      34\n",
      "2019-03-12 13      35\n",
      "           23      35\n",
      "2019-03-13 23      30\n"
     ]
    },
    {
     "name": "stderr",
     "output_type": "stream",
     "text": [
      "/Library/Frameworks/Python.framework/Versions/3.7/lib/python3.7/site-packages/pandas/plotting/_converter.py:129: FutureWarning: Using an implicitly registered datetime converter for a matplotlib plotting method. The converter was registered by pandas on import. Future versions of pandas will require you to explicitly register matplotlib converters.\n",
      "\n",
      "To register the converters:\n",
      "\t>>> from pandas.plotting import register_matplotlib_converters\n",
      "\t>>> register_matplotlib_converters()\n",
      "  warnings.warn(msg, FutureWarning)\n"
     ]
    },
    {
     "data": {
      "image/png": "[encoded data removed]",
      "text/plain": [
       "<Figure size 576x720 with 1 Axes>"
      ]
     },
     "metadata": {
      "needs_background": "light"
     },
     "output_type": "display_data"
    }
   ],
   "source": [
    "#Creamos una columna con el campo de fecha (sin hora)\n",
    "df_installs['date'] = df_installs.created.dt.date\n",
    "\n",
    "max_install_hour = df_installs_por_hora[df_installs_por_hora.cantidad == df_installs_por_hora.cantidad.max()]\n",
    "min_install_hour = df_installs_por_hora[df_installs_por_hora.cantidad == df_installs_por_hora.cantidad.min()]\n",
    "\n",
    "# La hora donde se produce la mayor cantidad de instalaciones es 17hs (233 installs)\n",
    "print(max_install_hour)\n",
    "# La hora donde se produce la menor cantidad de instalaciones es 6hs (18 installs)\n",
    "print(min_install_hour)\n",
    "\n",
    "#Agrupamos la cantidad de instalaciones por dia y hora\n",
    "result = df_installs.groupby(['date','hour']).size().to_frame('cant')\n",
    "idx = result.groupby(['date'])['cant'].transform(max) == result['cant']\n",
    "maximos = result[idx]\n",
    "\n",
    "print(maximos)\n",
    "\n",
    "#Obtenemos la hora con la cantidad máxima de instalaciones por día\n",
    "\n",
    "maximos = maximos.reset_index()\n",
    "maximos.date = pd.to_datetime(maximos.date)\n",
    "fig, ax = plt.subplots(figsize=(8,10))\n",
    "\n",
    "plt.plot(maximos.date, maximos.hour, color='g')\n",
    "plt.xlabel('Día')\n",
    "plt.ylabel('Hora')\n",
    "plt.xticks(rotation=90)\n",
    "plt.yticks([10,11,12,13,14,15,16,17,18,19,20,21,22,23,24])\n",
    "plt.title('Hora de instalaciones máximas por día')\n",
    "ax.grid()\n",
    "plt.show()\n",
    "\n"
   ]
  }
 ],
 "metadata": {
  "kernelspec": {
   "display_name": "Python 3",
   "language": "python",
   "name": "python3"
  },
  "language_info": {
   "codemirror_mode": {
    "name": "ipython",
    "version": 3
   },
   "file_extension": ".py",
   "mimetype": "text/x-python",
   "name": "python",
   "nbconvert_exporter": "python",
   "pygments_lexer": "ipython3",
   "version": "3.7.3"
  }
 },
 "nbformat": 4,
 "nbformat_minor": 2
}
